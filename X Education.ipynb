{
 "cells": [
  {
   "cell_type": "markdown",
   "metadata": {},
   "source": [
    "## Supervised Learning\n",
    "### Logistic Regression"
   ]
  },
  {
   "cell_type": "markdown",
   "metadata": {},
   "source": [
    "## X Education\n",
    "### Problem Statement:\n",
    "X Education sells online courses to industry professionals. The company markets its courses on several websites and search engines and generates numerous leads, however the lead conversion rate is very poor. The company wishes to increase its lead conversion rate by identifying the potential leads.\n",
    "\n",
    "### Solution:\n",
    "Building a predictive logistic regression model which can identify potential leads and assign lead scores for each leads. Such that higher lead scores have higher conversion chance and lower lead scores have less conversion chance.\n",
    "\n",
    "### Approach:\n",
    "- EDA: Exploratory Data Analysis.\n",
    "- Preparing the data for modeling.\n",
    "- Training the model.\n",
    "- Model Evaluation.\n",
    "- Prediction on test data."
   ]
  },
  {
   "cell_type": "code",
   "execution_count": 2,
   "metadata": {},
   "outputs": [],
   "source": [
    "# Supressing the warnings\n",
    "import warnings\n",
    "warnings.filterwarnings('ignore')"
   ]
  },
  {
   "cell_type": "code",
   "execution_count": 3,
   "metadata": {},
   "outputs": [],
   "source": [
    "# Importing the required libraries\n",
    "import numpy as np \n",
    "import pandas as pd \n",
    "import matplotlib.pyplot as plt\n",
    "import seaborn as sns\n",
    "import statsmodels.api as sm\n",
    "import sklearn"
   ]
  },
  {
   "cell_type": "code",
   "execution_count": 4,
   "metadata": {},
   "outputs": [],
   "source": [
    "from statsmodels.stats.outliers_influence import variance_inflation_factor\n",
    "from sklearn.model_selection import train_test_split\n",
    "from sklearn.preprocessing import MinMaxScaler\n",
    "from sklearn.linear_model import LogisticRegression\n",
    "from sklearn.feature_selection import RFE\n",
    "from sklearn import metrics"
   ]
  },
  {
   "cell_type": "code",
   "execution_count": 5,
   "metadata": {},
   "outputs": [],
   "source": [
    "# Setting the visual preferance.\n",
    "# Note: Use jupyter 'Onedork' theme for better appearance.\n",
    "\n",
    "%matplotlib inline\n",
    "pd.set_option('max_columns', 50)"
   ]
  },
  {
   "cell_type": "markdown",
   "metadata": {},
   "source": [
    "## Task 1: EDA - Exploratory Data Analysis\n",
    "- ### Subtask 1.1: Read and understant the data"
   ]
  },
  {
   "cell_type": "code",
   "execution_count": 6,
   "metadata": {},
   "outputs": [],
   "source": [
    "df = pd.read_csv(r'C:\\Users\\FS066229\\OneDrive - Cerner Corporation\\Documents\\Python\\case study2\\Lead Scoring Assignment\\Leads.csv')"
   ]
  },
  {
   "cell_type": "code",
   "execution_count": 7,
   "metadata": {},
   "outputs": [
    {
     "data": {
      "text/html": [
       "<div>\n",
       "<style scoped>\n",
       "    .dataframe tbody tr th:only-of-type {\n",
       "        vertical-align: middle;\n",
       "    }\n",
       "\n",
       "    .dataframe tbody tr th {\n",
       "        vertical-align: top;\n",
       "    }\n",
       "\n",
       "    .dataframe thead th {\n",
       "        text-align: right;\n",
       "    }\n",
       "</style>\n",
       "<table border=\"1\" class=\"dataframe\">\n",
       "  <thead>\n",
       "    <tr style=\"text-align: right;\">\n",
       "      <th></th>\n",
       "      <th>Prospect ID</th>\n",
       "      <th>Lead Number</th>\n",
       "      <th>Lead Origin</th>\n",
       "      <th>Lead Source</th>\n",
       "      <th>Do Not Email</th>\n",
       "      <th>Do Not Call</th>\n",
       "      <th>Converted</th>\n",
       "      <th>TotalVisits</th>\n",
       "      <th>Total Time Spent on Website</th>\n",
       "      <th>Page Views Per Visit</th>\n",
       "      <th>Last Activity</th>\n",
       "      <th>Country</th>\n",
       "      <th>Specialization</th>\n",
       "      <th>How did you hear about X Education</th>\n",
       "      <th>What is your current occupation</th>\n",
       "      <th>What matters most to you in choosing a course</th>\n",
       "      <th>Search</th>\n",
       "      <th>Magazine</th>\n",
       "      <th>Newspaper Article</th>\n",
       "      <th>X Education Forums</th>\n",
       "      <th>Newspaper</th>\n",
       "      <th>Digital Advertisement</th>\n",
       "      <th>Through Recommendations</th>\n",
       "      <th>Receive More Updates About Our Courses</th>\n",
       "      <th>Tags</th>\n",
       "      <th>Lead Quality</th>\n",
       "      <th>Update me on Supply Chain Content</th>\n",
       "      <th>Get updates on DM Content</th>\n",
       "      <th>Lead Profile</th>\n",
       "      <th>City</th>\n",
       "      <th>Asymmetrique Activity Index</th>\n",
       "      <th>Asymmetrique Profile Index</th>\n",
       "      <th>Asymmetrique Activity Score</th>\n",
       "      <th>Asymmetrique Profile Score</th>\n",
       "      <th>I agree to pay the amount through cheque</th>\n",
       "      <th>A free copy of Mastering The Interview</th>\n",
       "      <th>Last Notable Activity</th>\n",
       "    </tr>\n",
       "  </thead>\n",
       "  <tbody>\n",
       "    <tr>\n",
       "      <td>0</td>\n",
       "      <td>7927b2df-8bba-4d29-b9a2-b6e0beafe620</td>\n",
       "      <td>660737</td>\n",
       "      <td>API</td>\n",
       "      <td>Olark Chat</td>\n",
       "      <td>No</td>\n",
       "      <td>No</td>\n",
       "      <td>0</td>\n",
       "      <td>0.0</td>\n",
       "      <td>0</td>\n",
       "      <td>0.0</td>\n",
       "      <td>Page Visited on Website</td>\n",
       "      <td>NaN</td>\n",
       "      <td>Select</td>\n",
       "      <td>Select</td>\n",
       "      <td>Unemployed</td>\n",
       "      <td>Better Career Prospects</td>\n",
       "      <td>No</td>\n",
       "      <td>No</td>\n",
       "      <td>No</td>\n",
       "      <td>No</td>\n",
       "      <td>No</td>\n",
       "      <td>No</td>\n",
       "      <td>No</td>\n",
       "      <td>No</td>\n",
       "      <td>Interested in other courses</td>\n",
       "      <td>Low in Relevance</td>\n",
       "      <td>No</td>\n",
       "      <td>No</td>\n",
       "      <td>Select</td>\n",
       "      <td>Select</td>\n",
       "      <td>02.Medium</td>\n",
       "      <td>02.Medium</td>\n",
       "      <td>15.0</td>\n",
       "      <td>15.0</td>\n",
       "      <td>No</td>\n",
       "      <td>No</td>\n",
       "      <td>Modified</td>\n",
       "    </tr>\n",
       "    <tr>\n",
       "      <td>1</td>\n",
       "      <td>2a272436-5132-4136-86fa-dcc88c88f482</td>\n",
       "      <td>660728</td>\n",
       "      <td>API</td>\n",
       "      <td>Organic Search</td>\n",
       "      <td>No</td>\n",
       "      <td>No</td>\n",
       "      <td>0</td>\n",
       "      <td>5.0</td>\n",
       "      <td>674</td>\n",
       "      <td>2.5</td>\n",
       "      <td>Email Opened</td>\n",
       "      <td>India</td>\n",
       "      <td>Select</td>\n",
       "      <td>Select</td>\n",
       "      <td>Unemployed</td>\n",
       "      <td>Better Career Prospects</td>\n",
       "      <td>No</td>\n",
       "      <td>No</td>\n",
       "      <td>No</td>\n",
       "      <td>No</td>\n",
       "      <td>No</td>\n",
       "      <td>No</td>\n",
       "      <td>No</td>\n",
       "      <td>No</td>\n",
       "      <td>Ringing</td>\n",
       "      <td>NaN</td>\n",
       "      <td>No</td>\n",
       "      <td>No</td>\n",
       "      <td>Select</td>\n",
       "      <td>Select</td>\n",
       "      <td>02.Medium</td>\n",
       "      <td>02.Medium</td>\n",
       "      <td>15.0</td>\n",
       "      <td>15.0</td>\n",
       "      <td>No</td>\n",
       "      <td>No</td>\n",
       "      <td>Email Opened</td>\n",
       "    </tr>\n",
       "    <tr>\n",
       "      <td>2</td>\n",
       "      <td>8cc8c611-a219-4f35-ad23-fdfd2656bd8a</td>\n",
       "      <td>660727</td>\n",
       "      <td>Landing Page Submission</td>\n",
       "      <td>Direct Traffic</td>\n",
       "      <td>No</td>\n",
       "      <td>No</td>\n",
       "      <td>1</td>\n",
       "      <td>2.0</td>\n",
       "      <td>1532</td>\n",
       "      <td>2.0</td>\n",
       "      <td>Email Opened</td>\n",
       "      <td>India</td>\n",
       "      <td>Business Administration</td>\n",
       "      <td>Select</td>\n",
       "      <td>Student</td>\n",
       "      <td>Better Career Prospects</td>\n",
       "      <td>No</td>\n",
       "      <td>No</td>\n",
       "      <td>No</td>\n",
       "      <td>No</td>\n",
       "      <td>No</td>\n",
       "      <td>No</td>\n",
       "      <td>No</td>\n",
       "      <td>No</td>\n",
       "      <td>Will revert after reading the email</td>\n",
       "      <td>Might be</td>\n",
       "      <td>No</td>\n",
       "      <td>No</td>\n",
       "      <td>Potential Lead</td>\n",
       "      <td>Mumbai</td>\n",
       "      <td>02.Medium</td>\n",
       "      <td>01.High</td>\n",
       "      <td>14.0</td>\n",
       "      <td>20.0</td>\n",
       "      <td>No</td>\n",
       "      <td>Yes</td>\n",
       "      <td>Email Opened</td>\n",
       "    </tr>\n",
       "    <tr>\n",
       "      <td>3</td>\n",
       "      <td>0cc2df48-7cf4-4e39-9de9-19797f9b38cc</td>\n",
       "      <td>660719</td>\n",
       "      <td>Landing Page Submission</td>\n",
       "      <td>Direct Traffic</td>\n",
       "      <td>No</td>\n",
       "      <td>No</td>\n",
       "      <td>0</td>\n",
       "      <td>1.0</td>\n",
       "      <td>305</td>\n",
       "      <td>1.0</td>\n",
       "      <td>Unreachable</td>\n",
       "      <td>India</td>\n",
       "      <td>Media and Advertising</td>\n",
       "      <td>Word Of Mouth</td>\n",
       "      <td>Unemployed</td>\n",
       "      <td>Better Career Prospects</td>\n",
       "      <td>No</td>\n",
       "      <td>No</td>\n",
       "      <td>No</td>\n",
       "      <td>No</td>\n",
       "      <td>No</td>\n",
       "      <td>No</td>\n",
       "      <td>No</td>\n",
       "      <td>No</td>\n",
       "      <td>Ringing</td>\n",
       "      <td>Not Sure</td>\n",
       "      <td>No</td>\n",
       "      <td>No</td>\n",
       "      <td>Select</td>\n",
       "      <td>Mumbai</td>\n",
       "      <td>02.Medium</td>\n",
       "      <td>01.High</td>\n",
       "      <td>13.0</td>\n",
       "      <td>17.0</td>\n",
       "      <td>No</td>\n",
       "      <td>No</td>\n",
       "      <td>Modified</td>\n",
       "    </tr>\n",
       "    <tr>\n",
       "      <td>4</td>\n",
       "      <td>3256f628-e534-4826-9d63-4a8b88782852</td>\n",
       "      <td>660681</td>\n",
       "      <td>Landing Page Submission</td>\n",
       "      <td>Google</td>\n",
       "      <td>No</td>\n",
       "      <td>No</td>\n",
       "      <td>1</td>\n",
       "      <td>2.0</td>\n",
       "      <td>1428</td>\n",
       "      <td>1.0</td>\n",
       "      <td>Converted to Lead</td>\n",
       "      <td>India</td>\n",
       "      <td>Select</td>\n",
       "      <td>Other</td>\n",
       "      <td>Unemployed</td>\n",
       "      <td>Better Career Prospects</td>\n",
       "      <td>No</td>\n",
       "      <td>No</td>\n",
       "      <td>No</td>\n",
       "      <td>No</td>\n",
       "      <td>No</td>\n",
       "      <td>No</td>\n",
       "      <td>No</td>\n",
       "      <td>No</td>\n",
       "      <td>Will revert after reading the email</td>\n",
       "      <td>Might be</td>\n",
       "      <td>No</td>\n",
       "      <td>No</td>\n",
       "      <td>Select</td>\n",
       "      <td>Mumbai</td>\n",
       "      <td>02.Medium</td>\n",
       "      <td>01.High</td>\n",
       "      <td>15.0</td>\n",
       "      <td>18.0</td>\n",
       "      <td>No</td>\n",
       "      <td>No</td>\n",
       "      <td>Modified</td>\n",
       "    </tr>\n",
       "  </tbody>\n",
       "</table>\n",
       "</div>"
      ],
      "text/plain": [
       "                            Prospect ID  Lead Number              Lead Origin  \\\n",
       "0  7927b2df-8bba-4d29-b9a2-b6e0beafe620       660737                      API   \n",
       "1  2a272436-5132-4136-86fa-dcc88c88f482       660728                      API   \n",
       "2  8cc8c611-a219-4f35-ad23-fdfd2656bd8a       660727  Landing Page Submission   \n",
       "3  0cc2df48-7cf4-4e39-9de9-19797f9b38cc       660719  Landing Page Submission   \n",
       "4  3256f628-e534-4826-9d63-4a8b88782852       660681  Landing Page Submission   \n",
       "\n",
       "      Lead Source Do Not Email Do Not Call  Converted  TotalVisits  \\\n",
       "0      Olark Chat           No          No          0          0.0   \n",
       "1  Organic Search           No          No          0          5.0   \n",
       "2  Direct Traffic           No          No          1          2.0   \n",
       "3  Direct Traffic           No          No          0          1.0   \n",
       "4          Google           No          No          1          2.0   \n",
       "\n",
       "   Total Time Spent on Website  Page Views Per Visit            Last Activity  \\\n",
       "0                            0                   0.0  Page Visited on Website   \n",
       "1                          674                   2.5             Email Opened   \n",
       "2                         1532                   2.0             Email Opened   \n",
       "3                          305                   1.0              Unreachable   \n",
       "4                         1428                   1.0        Converted to Lead   \n",
       "\n",
       "  Country           Specialization How did you hear about X Education  \\\n",
       "0     NaN                   Select                             Select   \n",
       "1   India                   Select                             Select   \n",
       "2   India  Business Administration                             Select   \n",
       "3   India    Media and Advertising                      Word Of Mouth   \n",
       "4   India                   Select                              Other   \n",
       "\n",
       "  What is your current occupation  \\\n",
       "0                      Unemployed   \n",
       "1                      Unemployed   \n",
       "2                         Student   \n",
       "3                      Unemployed   \n",
       "4                      Unemployed   \n",
       "\n",
       "  What matters most to you in choosing a course Search Magazine  \\\n",
       "0                       Better Career Prospects     No       No   \n",
       "1                       Better Career Prospects     No       No   \n",
       "2                       Better Career Prospects     No       No   \n",
       "3                       Better Career Prospects     No       No   \n",
       "4                       Better Career Prospects     No       No   \n",
       "\n",
       "  Newspaper Article X Education Forums Newspaper Digital Advertisement  \\\n",
       "0                No                 No        No                    No   \n",
       "1                No                 No        No                    No   \n",
       "2                No                 No        No                    No   \n",
       "3                No                 No        No                    No   \n",
       "4                No                 No        No                    No   \n",
       "\n",
       "  Through Recommendations Receive More Updates About Our Courses  \\\n",
       "0                      No                                     No   \n",
       "1                      No                                     No   \n",
       "2                      No                                     No   \n",
       "3                      No                                     No   \n",
       "4                      No                                     No   \n",
       "\n",
       "                                  Tags      Lead Quality  \\\n",
       "0          Interested in other courses  Low in Relevance   \n",
       "1                              Ringing               NaN   \n",
       "2  Will revert after reading the email          Might be   \n",
       "3                              Ringing          Not Sure   \n",
       "4  Will revert after reading the email          Might be   \n",
       "\n",
       "  Update me on Supply Chain Content Get updates on DM Content    Lead Profile  \\\n",
       "0                                No                        No          Select   \n",
       "1                                No                        No          Select   \n",
       "2                                No                        No  Potential Lead   \n",
       "3                                No                        No          Select   \n",
       "4                                No                        No          Select   \n",
       "\n",
       "     City Asymmetrique Activity Index Asymmetrique Profile Index  \\\n",
       "0  Select                   02.Medium                  02.Medium   \n",
       "1  Select                   02.Medium                  02.Medium   \n",
       "2  Mumbai                   02.Medium                    01.High   \n",
       "3  Mumbai                   02.Medium                    01.High   \n",
       "4  Mumbai                   02.Medium                    01.High   \n",
       "\n",
       "   Asymmetrique Activity Score  Asymmetrique Profile Score  \\\n",
       "0                         15.0                        15.0   \n",
       "1                         15.0                        15.0   \n",
       "2                         14.0                        20.0   \n",
       "3                         13.0                        17.0   \n",
       "4                         15.0                        18.0   \n",
       "\n",
       "  I agree to pay the amount through cheque  \\\n",
       "0                                       No   \n",
       "1                                       No   \n",
       "2                                       No   \n",
       "3                                       No   \n",
       "4                                       No   \n",
       "\n",
       "  A free copy of Mastering The Interview Last Notable Activity  \n",
       "0                                     No              Modified  \n",
       "1                                     No          Email Opened  \n",
       "2                                    Yes          Email Opened  \n",
       "3                                     No              Modified  \n",
       "4                                     No              Modified  "
      ]
     },
     "execution_count": 7,
     "metadata": {},
     "output_type": "execute_result"
    }
   ],
   "source": [
    "df.head()"
   ]
  },
  {
   "cell_type": "code",
   "execution_count": 8,
   "metadata": {},
   "outputs": [
    {
     "data": {
      "text/plain": [
       "(9240, 37)"
      ]
     },
     "execution_count": 8,
     "metadata": {},
     "output_type": "execute_result"
    }
   ],
   "source": [
    "df.shape"
   ]
  },
  {
   "cell_type": "code",
   "execution_count": 9,
   "metadata": {
    "scrolled": true
   },
   "outputs": [
    {
     "name": "stdout",
     "output_type": "stream",
     "text": [
      "<class 'pandas.core.frame.DataFrame'>\n",
      "RangeIndex: 9240 entries, 0 to 9239\n",
      "Data columns (total 37 columns):\n",
      "Prospect ID                                      9240 non-null object\n",
      "Lead Number                                      9240 non-null int64\n",
      "Lead Origin                                      9240 non-null object\n",
      "Lead Source                                      9204 non-null object\n",
      "Do Not Email                                     9240 non-null object\n",
      "Do Not Call                                      9240 non-null object\n",
      "Converted                                        9240 non-null int64\n",
      "TotalVisits                                      9103 non-null float64\n",
      "Total Time Spent on Website                      9240 non-null int64\n",
      "Page Views Per Visit                             9103 non-null float64\n",
      "Last Activity                                    9137 non-null object\n",
      "Country                                          6779 non-null object\n",
      "Specialization                                   7802 non-null object\n",
      "How did you hear about X Education               7033 non-null object\n",
      "What is your current occupation                  6550 non-null object\n",
      "What matters most to you in choosing a course    6531 non-null object\n",
      "Search                                           9240 non-null object\n",
      "Magazine                                         9240 non-null object\n",
      "Newspaper Article                                9240 non-null object\n",
      "X Education Forums                               9240 non-null object\n",
      "Newspaper                                        9240 non-null object\n",
      "Digital Advertisement                            9240 non-null object\n",
      "Through Recommendations                          9240 non-null object\n",
      "Receive More Updates About Our Courses           9240 non-null object\n",
      "Tags                                             5887 non-null object\n",
      "Lead Quality                                     4473 non-null object\n",
      "Update me on Supply Chain Content                9240 non-null object\n",
      "Get updates on DM Content                        9240 non-null object\n",
      "Lead Profile                                     6531 non-null object\n",
      "City                                             7820 non-null object\n",
      "Asymmetrique Activity Index                      5022 non-null object\n",
      "Asymmetrique Profile Index                       5022 non-null object\n",
      "Asymmetrique Activity Score                      5022 non-null float64\n",
      "Asymmetrique Profile Score                       5022 non-null float64\n",
      "I agree to pay the amount through cheque         9240 non-null object\n",
      "A free copy of Mastering The Interview           9240 non-null object\n",
      "Last Notable Activity                            9240 non-null object\n",
      "dtypes: float64(4), int64(3), object(30)\n",
      "memory usage: 2.6+ MB\n"
     ]
    }
   ],
   "source": [
    "df.info()"
   ]
  },
  {
   "cell_type": "code",
   "execution_count": 10,
   "metadata": {},
   "outputs": [
    {
     "data": {
      "text/plain": [
       "0"
      ]
     },
     "execution_count": 10,
     "metadata": {},
     "output_type": "execute_result"
    }
   ],
   "source": [
    "df.duplicated().sum()"
   ]
  },
  {
   "cell_type": "markdown",
   "metadata": {},
   "source": [
    "##### Explanation:\n",
    "The data set does not have duplicate values, but has a lot of categorical variables and missing values. Both has to be treated before building a model."
   ]
  },
  {
   "cell_type": "markdown",
   "metadata": {},
   "source": [
    "- ### Subtask 1.2: Missing values"
   ]
  },
  {
   "cell_type": "code",
   "execution_count": 11,
   "metadata": {
    "scrolled": true
   },
   "outputs": [
    {
     "data": {
      "text/plain": [
       "Prospect ID                                       0.00\n",
       "Lead Number                                       0.00\n",
       "Lead Origin                                       0.00\n",
       "Lead Source                                       0.39\n",
       "Do Not Email                                      0.00\n",
       "Do Not Call                                       0.00\n",
       "Converted                                         0.00\n",
       "TotalVisits                                       1.48\n",
       "Total Time Spent on Website                       0.00\n",
       "Page Views Per Visit                              1.48\n",
       "Last Activity                                     1.11\n",
       "Country                                          26.63\n",
       "Specialization                                   15.56\n",
       "How did you hear about X Education               23.89\n",
       "What is your current occupation                  29.11\n",
       "What matters most to you in choosing a course    29.32\n",
       "Search                                            0.00\n",
       "Magazine                                          0.00\n",
       "Newspaper Article                                 0.00\n",
       "X Education Forums                                0.00\n",
       "Newspaper                                         0.00\n",
       "Digital Advertisement                             0.00\n",
       "Through Recommendations                           0.00\n",
       "Receive More Updates About Our Courses            0.00\n",
       "Tags                                             36.29\n",
       "Lead Quality                                     51.59\n",
       "Update me on Supply Chain Content                 0.00\n",
       "Get updates on DM Content                         0.00\n",
       "Lead Profile                                     29.32\n",
       "City                                             15.37\n",
       "Asymmetrique Activity Index                      45.65\n",
       "Asymmetrique Profile Index                       45.65\n",
       "Asymmetrique Activity Score                      45.65\n",
       "Asymmetrique Profile Score                       45.65\n",
       "I agree to pay the amount through cheque          0.00\n",
       "A free copy of Mastering The Interview            0.00\n",
       "Last Notable Activity                             0.00\n",
       "dtype: float64"
      ]
     },
     "execution_count": 11,
     "metadata": {},
     "output_type": "execute_result"
    }
   ],
   "source": [
    "# Identifying Missing values.\n",
    "round(df.isnull().sum()/len(df.index)*100,2)"
   ]
  },
  {
   "cell_type": "code",
   "execution_count": 12,
   "metadata": {},
   "outputs": [],
   "source": [
    "# Removing the columns with high percentage of Null values. (> 35%)\n",
    "to_drop = ['Asymmetrique Profile Score', 'Asymmetrique Activity Score', 'Asymmetrique Profile Index',\n",
    "           'Asymmetrique Activity Index', 'Lead Quality', 'Tags']\n",
    "df = df.drop(df[to_drop], axis = 1)"
   ]
  },
  {
   "cell_type": "code",
   "execution_count": 13,
   "metadata": {},
   "outputs": [
    {
     "data": {
      "text/plain": [
       "15.32"
      ]
     },
     "execution_count": 13,
     "metadata": {},
     "output_type": "execute_result"
    }
   ],
   "source": [
    "# General removal of rows which has more than 5 columns missing.\n",
    "round(len(df[df.isnull().sum(axis = 1) > 5])/len(df.index)*100,2)"
   ]
  },
  {
   "cell_type": "code",
   "execution_count": 14,
   "metadata": {},
   "outputs": [],
   "source": [
    "df = df[df.isnull().sum(axis = 1) <= 5]"
   ]
  },
  {
   "cell_type": "code",
   "execution_count": 15,
   "metadata": {},
   "outputs": [
    {
     "data": {
      "text/plain": [
       "84.68"
      ]
     },
     "execution_count": 15,
     "metadata": {},
     "output_type": "execute_result"
    }
   ],
   "source": [
    "# Checking the remaining percenrage of data left.\n",
    "round(len(df.index)/9240*100,2)"
   ]
  },
  {
   "cell_type": "code",
   "execution_count": 16,
   "metadata": {},
   "outputs": [
    {
     "data": {
      "text/plain": [
       "Select                               1942\n",
       "Finance Management                    976\n",
       "Human Resource Management             848\n",
       "Marketing Management                  837\n",
       "Operations Management                 503\n",
       "Business Administration               403\n",
       "IT Projects Management                366\n",
       "Supply Chain Management               349\n",
       "Banking, Investment And Insurance     338\n",
       "Media and Advertising                 203\n",
       "Travel and Tourism                    203\n",
       "International Business                178\n",
       "Healthcare Management                 159\n",
       "Hospitality Management                114\n",
       "E-COMMERCE                            112\n",
       "Retail Management                     100\n",
       "Rural and Agribusiness                 73\n",
       "E-Business                             57\n",
       "Services Excellence                    40\n",
       "Name: Specialization, dtype: int64"
      ]
     },
     "execution_count": 16,
     "metadata": {},
     "output_type": "execute_result"
    }
   ],
   "source": [
    "# Treating the column 'Specialization'\n",
    "df['Specialization'].value_counts()"
   ]
  },
  {
   "cell_type": "code",
   "execution_count": 17,
   "metadata": {},
   "outputs": [],
   "source": [
    "# Replacing the category 'Select' and missing values with 'Other'.\n",
    "df['Specialization'].replace('Select', 'Other', inplace = True)\n",
    "df.loc[pd.isnull(df['Specialization']), ['Specialization']] = 'Other'"
   ]
  },
  {
   "cell_type": "code",
   "execution_count": 18,
   "metadata": {},
   "outputs": [
    {
     "data": {
      "text/plain": [
       "Other                                1965\n",
       "Finance Management                    976\n",
       "Human Resource Management             848\n",
       "Marketing Management                  837\n",
       "Operations Management                 503\n",
       "Business Administration               403\n",
       "IT Projects Management                366\n",
       "Supply Chain Management               349\n",
       "Banking, Investment And Insurance     338\n",
       "Travel and Tourism                    203\n",
       "Media and Advertising                 203\n",
       "International Business                178\n",
       "Healthcare Management                 159\n",
       "Hospitality Management                114\n",
       "E-COMMERCE                            112\n",
       "Retail Management                     100\n",
       "Rural and Agribusiness                 73\n",
       "E-Business                             57\n",
       "Services Excellence                    40\n",
       "Name: Specialization, dtype: int64"
      ]
     },
     "execution_count": 18,
     "metadata": {},
     "output_type": "execute_result"
    }
   ],
   "source": [
    "df['Specialization'].value_counts()"
   ]
  },
  {
   "cell_type": "code",
   "execution_count": 19,
   "metadata": {},
   "outputs": [
    {
     "data": {
      "text/plain": [
       "Mumbai                         3218\n",
       "Select                         2249\n",
       "Thane & Outskirts               752\n",
       "Other Cities                    686\n",
       "Other Cities of Maharashtra     453\n",
       "Other Metro Cities              379\n",
       "Tier II Cities                   74\n",
       "Name: City, dtype: int64"
      ]
     },
     "execution_count": 19,
     "metadata": {},
     "output_type": "execute_result"
    }
   ],
   "source": [
    "df['City'].value_counts()"
   ]
  },
  {
   "cell_type": "code",
   "execution_count": 20,
   "metadata": {
    "scrolled": true
   },
   "outputs": [
    {
     "data": {
      "text/plain": [
       "Prospect ID                                       0.00\n",
       "Lead Number                                       0.00\n",
       "Lead Origin                                       0.00\n",
       "Lead Source                                       0.46\n",
       "Do Not Email                                      0.00\n",
       "Do Not Call                                       0.00\n",
       "Converted                                         0.00\n",
       "TotalVisits                                       1.66\n",
       "Total Time Spent on Website                       0.00\n",
       "Page Views Per Visit                              1.66\n",
       "Last Activity                                     1.32\n",
       "Country                                          20.63\n",
       "Specialization                                    0.00\n",
       "How did you hear about X Education               74.57\n",
       "What is your current occupation                  16.28\n",
       "What matters most to you in choosing a course    16.53\n",
       "Search                                            0.00\n",
       "Magazine                                          0.00\n",
       "Newspaper Article                                 0.00\n",
       "X Education Forums                                0.00\n",
       "Newspaper                                         0.00\n",
       "Digital Advertisement                             0.00\n",
       "Through Recommendations                           0.00\n",
       "Receive More Updates About Our Courses            0.00\n",
       "Update me on Supply Chain Content                 0.00\n",
       "Get updates on DM Content                         0.00\n",
       "Lead Profile                                     69.52\n",
       "City                                             28.91\n",
       "I agree to pay the amount through cheque          0.00\n",
       "A free copy of Mastering The Interview            0.00\n",
       "Last Notable Activity                             0.00\n",
       "dtype: float64"
      ]
     },
     "execution_count": 20,
     "metadata": {},
     "output_type": "execute_result"
    }
   ],
   "source": [
    "# Notice that there is select category present in other columns too . These values are equal to null values.\n",
    "df.replace('Select', np.nan, inplace = True)\n",
    "round(df.isnull().sum()/len(df.index)*100,2)"
   ]
  },
  {
   "cell_type": "code",
   "execution_count": 21,
   "metadata": {},
   "outputs": [],
   "source": [
    "# Dropping columns which has high percentage of missing values\n",
    "df = df.drop(['How did you hear about X Education', 'Lead Profile', 'City'], axis = 1)"
   ]
  },
  {
   "cell_type": "markdown",
   "metadata": {},
   "source": [
    "- ### Subtask 1.3: Imputation of Missing values"
   ]
  },
  {
   "cell_type": "code",
   "execution_count": 22,
   "metadata": {
    "scrolled": true
   },
   "outputs": [
    {
     "data": {
      "text/plain": [
       "Prospect ID                                       0.00\n",
       "Lead Number                                       0.00\n",
       "Lead Origin                                       0.00\n",
       "Lead Source                                       0.46\n",
       "Do Not Email                                      0.00\n",
       "Do Not Call                                       0.00\n",
       "Converted                                         0.00\n",
       "TotalVisits                                       1.66\n",
       "Total Time Spent on Website                       0.00\n",
       "Page Views Per Visit                              1.66\n",
       "Last Activity                                     1.32\n",
       "Country                                          20.63\n",
       "Specialization                                    0.00\n",
       "What is your current occupation                  16.28\n",
       "What matters most to you in choosing a course    16.53\n",
       "Search                                            0.00\n",
       "Magazine                                          0.00\n",
       "Newspaper Article                                 0.00\n",
       "X Education Forums                                0.00\n",
       "Newspaper                                         0.00\n",
       "Digital Advertisement                             0.00\n",
       "Through Recommendations                           0.00\n",
       "Receive More Updates About Our Courses            0.00\n",
       "Update me on Supply Chain Content                 0.00\n",
       "Get updates on DM Content                         0.00\n",
       "I agree to pay the amount through cheque          0.00\n",
       "A free copy of Mastering The Interview            0.00\n",
       "Last Notable Activity                             0.00\n",
       "dtype: float64"
      ]
     },
     "execution_count": 22,
     "metadata": {},
     "output_type": "execute_result"
    }
   ],
   "source": [
    "round(df.isnull().sum()/len(df.index)*100,2)"
   ]
  },
  {
   "cell_type": "code",
   "execution_count": 23,
   "metadata": {},
   "outputs": [
    {
     "data": {
      "text/plain": [
       "count    7694.000000\n",
       "mean        3.795165\n",
       "std         5.079495\n",
       "min         0.000000\n",
       "25%         2.000000\n",
       "50%         3.000000\n",
       "75%         5.000000\n",
       "max       251.000000\n",
       "Name: TotalVisits, dtype: float64"
      ]
     },
     "execution_count": 23,
     "metadata": {},
     "output_type": "execute_result"
    }
   ],
   "source": [
    "df['TotalVisits'].describe()"
   ]
  },
  {
   "cell_type": "code",
   "execution_count": 24,
   "metadata": {},
   "outputs": [],
   "source": [
    "# Since there is outliers present in 'TotalVisits' imputing missing values with 'Median'\n",
    "df.loc[pd.isnull(df['TotalVisits']), ['TotalVisits']] = df['TotalVisits'].median()"
   ]
  },
  {
   "cell_type": "code",
   "execution_count": 25,
   "metadata": {},
   "outputs": [
    {
     "data": {
      "text/plain": [
       "count    7694.000000\n",
       "mean        2.613225\n",
       "std         2.151810\n",
       "min         0.000000\n",
       "25%         1.330000\n",
       "50%         2.000000\n",
       "75%         4.000000\n",
       "max        55.000000\n",
       "Name: Page Views Per Visit, dtype: float64"
      ]
     },
     "execution_count": 25,
     "metadata": {},
     "output_type": "execute_result"
    }
   ],
   "source": [
    "df['Page Views Per Visit'].describe()"
   ]
  },
  {
   "cell_type": "code",
   "execution_count": 26,
   "metadata": {},
   "outputs": [],
   "source": [
    "# Since there is outliers present in 'Page Views Per Visit' imputing missing values with 'Median'\n",
    "df.loc[pd.isnull(df['Page Views Per Visit']), ['Page Views Per Visit']] = df['Page Views Per Visit'].median()"
   ]
  },
  {
   "cell_type": "code",
   "execution_count": 27,
   "metadata": {
    "scrolled": true
   },
   "outputs": [
    {
     "data": {
      "text/plain": [
       "India                   5948\n",
       "United States             58\n",
       "United Arab Emirates      51\n",
       "Singapore                 24\n",
       "Saudi Arabia              21\n",
       "United Kingdom            14\n",
       "Australia                 12\n",
       "Qatar                     10\n",
       "Bahrain                    7\n",
       "Hong Kong                  7\n",
       "Oman                       6\n",
       "France                     6\n",
       "Kuwait                     4\n",
       "Canada                     4\n",
       "Germany                    4\n",
       "Nigeria                    4\n",
       "South Africa               3\n",
       "Sweden                     3\n",
       "Bangladesh                 2\n",
       "Belgium                    2\n",
       "Netherlands                2\n",
       "Uganda                     2\n",
       "China                      2\n",
       "Philippines                2\n",
       "Tanzania                   1\n",
       "Vietnam                    1\n",
       "Ghana                      1\n",
       "Kenya                      1\n",
       "Sri Lanka                  1\n",
       "Indonesia                  1\n",
       "Denmark                    1\n",
       "Malaysia                   1\n",
       "Russia                     1\n",
       "Switzerland                1\n",
       "Liberia                    1\n",
       "Italy                      1\n",
       "Name: Country, dtype: int64"
      ]
     },
     "execution_count": 27,
     "metadata": {},
     "output_type": "execute_result"
    }
   ],
   "source": [
    "df['Country'].value_counts()"
   ]
  },
  {
   "cell_type": "code",
   "execution_count": 28,
   "metadata": {},
   "outputs": [],
   "source": [
    "# Imputing the categorical column 'Country' with the mode value.\n",
    "df.loc[pd.isnull(df['Country']), ['Country']] = 'India'"
   ]
  },
  {
   "cell_type": "code",
   "execution_count": 29,
   "metadata": {},
   "outputs": [
    {
     "data": {
      "text/plain": [
       "Unemployed              5600\n",
       "Working Professional     706\n",
       "Student                  210\n",
       "Other                     16\n",
       "Housewife                 10\n",
       "Businessman                8\n",
       "Name: What is your current occupation, dtype: int64"
      ]
     },
     "execution_count": 29,
     "metadata": {},
     "output_type": "execute_result"
    }
   ],
   "source": [
    "df['What is your current occupation'].value_counts()"
   ]
  },
  {
   "cell_type": "code",
   "execution_count": 30,
   "metadata": {},
   "outputs": [],
   "source": [
    "df.loc[pd.isnull(df['What is your current occupation']), ['What is your current occupation']] = 'Unemployed'"
   ]
  },
  {
   "cell_type": "markdown",
   "metadata": {},
   "source": [
    "- ### Subtask 1.4: Data Cleaning\n"
   ]
  },
  {
   "cell_type": "markdown",
   "metadata": {},
   "source": [
    "#### Highly skewed"
   ]
  },
  {
   "cell_type": "code",
   "execution_count": 31,
   "metadata": {
    "scrolled": true
   },
   "outputs": [
    {
     "data": {
      "text/plain": [
       "Prospect ID                                       0.00\n",
       "Lead Number                                       0.00\n",
       "Lead Origin                                       0.00\n",
       "Lead Source                                       0.46\n",
       "Do Not Email                                      0.00\n",
       "Do Not Call                                       0.00\n",
       "Converted                                         0.00\n",
       "TotalVisits                                       0.00\n",
       "Total Time Spent on Website                       0.00\n",
       "Page Views Per Visit                              0.00\n",
       "Last Activity                                     1.32\n",
       "Country                                           0.00\n",
       "Specialization                                    0.00\n",
       "What is your current occupation                   0.00\n",
       "What matters most to you in choosing a course    16.53\n",
       "Search                                            0.00\n",
       "Magazine                                          0.00\n",
       "Newspaper Article                                 0.00\n",
       "X Education Forums                                0.00\n",
       "Newspaper                                         0.00\n",
       "Digital Advertisement                             0.00\n",
       "Through Recommendations                           0.00\n",
       "Receive More Updates About Our Courses            0.00\n",
       "Update me on Supply Chain Content                 0.00\n",
       "Get updates on DM Content                         0.00\n",
       "I agree to pay the amount through cheque          0.00\n",
       "A free copy of Mastering The Interview            0.00\n",
       "Last Notable Activity                             0.00\n",
       "dtype: float64"
      ]
     },
     "execution_count": 31,
     "metadata": {},
     "output_type": "execute_result"
    }
   ],
   "source": [
    "round(df.isnull().sum()/len(df.index)*100,2)"
   ]
  },
  {
   "cell_type": "code",
   "execution_count": 32,
   "metadata": {},
   "outputs": [
    {
     "data": {
      "text/plain": [
       "No     7820\n",
       "Yes       4\n",
       "Name: Digital Advertisement, dtype: int64"
      ]
     },
     "execution_count": 32,
     "metadata": {},
     "output_type": "execute_result"
    }
   ],
   "source": [
    "df['Digital Advertisement'].value_counts()"
   ]
  },
  {
   "cell_type": "code",
   "execution_count": 33,
   "metadata": {},
   "outputs": [
    {
     "data": {
      "text/plain": [
       "Better Career Prospects      6528\n",
       "Flexibility & Convenience       2\n",
       "Other                           1\n",
       "Name: What matters most to you in choosing a course, dtype: int64"
      ]
     },
     "execution_count": 33,
     "metadata": {},
     "output_type": "execute_result"
    }
   ],
   "source": [
    "df['What matters most to you in choosing a course'].value_counts()"
   ]
  },
  {
   "cell_type": "code",
   "execution_count": 34,
   "metadata": {},
   "outputs": [],
   "source": [
    "skewed = ['I agree to pay the amount through cheque', 'Get updates on DM Content',\n",
    "          'Update me on Supply Chain Content', 'Receive More Updates About Our Courses', \n",
    "          'Through Recommendations', 'Digital Advertisement', 'Newspaper', 'X Education Forums', \n",
    "          'Newspaper Article', 'Magazine', 'Search', 'What matters most to you in choosing a course', \n",
    "          'Do Not Call']\n",
    "df = df.drop(df[skewed], axis = 1)"
   ]
  },
  {
   "cell_type": "markdown",
   "metadata": {},
   "source": [
    "##### Explanation:\n",
    "There are few columns in the data set which has high skewness towards one category alone. (ex: Digital Advertisement) These columns are redundant. These columns will not be contributing much to the model, hence these columns can be removed."
   ]
  },
  {
   "cell_type": "markdown",
   "metadata": {},
   "source": [
    "#### Similar columns"
   ]
  },
  {
   "cell_type": "code",
   "execution_count": 35,
   "metadata": {},
   "outputs": [
    {
     "data": {
      "text/plain": [
       "Email Opened                    2996\n",
       "SMS Sent                        2549\n",
       "Page Visited on Website          569\n",
       "Olark Chat Conversation          463\n",
       "Converted to Lead                354\n",
       "Email Bounced                    279\n",
       "Email Link Clicked               205\n",
       "Form Submitted on Website        115\n",
       "Unreachable                       89\n",
       "Unsubscribed                      54\n",
       "Had a Phone Conversation          29\n",
       "Approached upfront                 9\n",
       "View in browser link Clicked       5\n",
       "Email Received                     2\n",
       "Email Marked Spam                  2\n",
       "Visited Booth in Tradeshow         1\n",
       "Name: Last Activity, dtype: int64"
      ]
     },
     "execution_count": 35,
     "metadata": {},
     "output_type": "execute_result"
    }
   ],
   "source": [
    "df['Last Activity'].value_counts()"
   ]
  },
  {
   "cell_type": "code",
   "execution_count": 36,
   "metadata": {},
   "outputs": [
    {
     "data": {
      "text/plain": [
       "Modified                        2642\n",
       "Email Opened                    2487\n",
       "SMS Sent                        2058\n",
       "Page Visited on Website          274\n",
       "Email Link Clicked               129\n",
       "Olark Chat Conversation           88\n",
       "Email Bounced                     57\n",
       "Unsubscribed                      40\n",
       "Unreachable                       29\n",
       "Had a Phone Conversation          14\n",
       "Email Marked Spam                  2\n",
       "Approached upfront                 1\n",
       "Email Received                     1\n",
       "View in browser link Clicked       1\n",
       "Form Submitted on Website          1\n",
       "Name: Last Notable Activity, dtype: int64"
      ]
     },
     "execution_count": 36,
     "metadata": {},
     "output_type": "execute_result"
    }
   ],
   "source": [
    "df['Last Notable Activity'].value_counts()"
   ]
  },
  {
   "cell_type": "code",
   "execution_count": 37,
   "metadata": {},
   "outputs": [],
   "source": [
    "similar = ['Last Activity', 'Lead Source']\n",
    "df = df.drop(df[similar], axis = 1)"
   ]
  },
  {
   "cell_type": "markdown",
   "metadata": {},
   "source": [
    "##### Explanation:\n",
    "Few columns in the data set are similar to each other (ex: Last Activity and Last Notable Activity) these columns will have high corelation between them. Hence eiher of the columns should be removed."
   ]
  },
  {
   "cell_type": "code",
   "execution_count": 38,
   "metadata": {},
   "outputs": [
    {
     "data": {
      "text/plain": [
       "Prospect ID                               0.0\n",
       "Lead Number                               0.0\n",
       "Lead Origin                               0.0\n",
       "Do Not Email                              0.0\n",
       "Converted                                 0.0\n",
       "TotalVisits                               0.0\n",
       "Total Time Spent on Website               0.0\n",
       "Page Views Per Visit                      0.0\n",
       "Country                                   0.0\n",
       "Specialization                            0.0\n",
       "What is your current occupation           0.0\n",
       "A free copy of Mastering The Interview    0.0\n",
       "Last Notable Activity                     0.0\n",
       "dtype: float64"
      ]
     },
     "execution_count": 38,
     "metadata": {},
     "output_type": "execute_result"
    }
   ],
   "source": [
    "round(df.isnull().sum()/len(df.index)*100,2)"
   ]
  },
  {
   "cell_type": "markdown",
   "metadata": {},
   "source": [
    "- ### Subtask 1.5: Outliers"
   ]
  },
  {
   "cell_type": "code",
   "execution_count": 39,
   "metadata": {},
   "outputs": [
    {
     "data": {
      "image/png": "[encoded data removed]",
      "text/plain": [
       "<Figure size 1080x360 with 3 Axes>"
      ]
     },
     "metadata": {
      "needs_background": "light"
     },
     "output_type": "display_data"
    }
   ],
   "source": [
    "var = ['TotalVisits', 'Total Time Spent on Website', 'Page Views Per Visit']\n",
    "plt.figure(figsize = (15,5))\n",
    "for x in enumerate(var):\n",
    "    plt.subplot(1,3,x[0]+1)\n",
    "    sns.boxplot(x = x[1], data = df, palette = 'Purples')\n",
    "plt.show()"
   ]
  },
  {
   "cell_type": "code",
   "execution_count": 40,
   "metadata": {},
   "outputs": [
    {
     "data": {
      "text/plain": [
       "count    7824.000000\n",
       "mean        3.781953\n",
       "std         5.038139\n",
       "min         0.000000\n",
       "25%         2.000000\n",
       "50%         3.000000\n",
       "75%         5.000000\n",
       "90%         8.000000\n",
       "95%        10.000000\n",
       "99%        17.000000\n",
       "max       251.000000\n",
       "Name: TotalVisits, dtype: float64"
      ]
     },
     "execution_count": 40,
     "metadata": {},
     "output_type": "execute_result"
    }
   ],
   "source": [
    "df['TotalVisits'].describe(percentiles = [0.25,0.50,0.75,0.90,0.95,0.99])"
   ]
  },
  {
   "cell_type": "code",
   "execution_count": 41,
   "metadata": {},
   "outputs": [],
   "source": [
    "df.loc[df['TotalVisits'] > df['TotalVisits'].quantile(0.99), ['TotalVisits']] = df['TotalVisits'].quantile(0.99)"
   ]
  },
  {
   "cell_type": "code",
   "execution_count": 42,
   "metadata": {},
   "outputs": [
    {
     "data": {
      "text/plain": [
       "0.25    1.33\n",
       "0.50    2.00\n",
       "0.75    4.00\n",
       "0.90    5.00\n",
       "0.95    6.00\n",
       "0.99    9.00\n",
       "Name: Page Views Per Visit, dtype: float64"
      ]
     },
     "execution_count": 42,
     "metadata": {},
     "output_type": "execute_result"
    }
   ],
   "source": [
    "df['Page Views Per Visit'].quantile([0.25,0.50,0.75,0.90,0.95,0.99])"
   ]
  },
  {
   "cell_type": "code",
   "execution_count": 43,
   "metadata": {},
   "outputs": [],
   "source": [
    "df.loc[df['Page Views Per Visit'] > df['Page Views Per Visit'].quantile(0.99), \n",
    "       ['Page Views Per Visit']] = df['Page Views Per Visit'].quantile(0.99)"
   ]
  },
  {
   "cell_type": "markdown",
   "metadata": {},
   "source": [
    "##### Explanation:\n",
    "Outliers treatment is a mandatory step before building the model. Also Logistic Regression is sensitive to outliers. The ouliers have been capped to the 99th percentile."
   ]
  },
  {
   "cell_type": "markdown",
   "metadata": {},
   "source": [
    "- ### Subtask 1.6: Univariate Analysis"
   ]
  },
  {
   "cell_type": "code",
   "execution_count": 44,
   "metadata": {},
   "outputs": [
    {
     "data": {
      "image/png": "[encoded data removed]",
      "text/plain": [
       "<Figure size 432x288 with 1 Axes>"
      ]
     },
     "metadata": {
      "needs_background": "light"
     },
     "output_type": "display_data"
    }
   ],
   "source": [
    "df['Lead Origin'].value_counts().plot.barh()\n",
    "plt.show()"
   ]
  },
  {
   "cell_type": "markdown",
   "metadata": {},
   "source": [
    "##### Explanation: \n",
    "The more number of leads are generated through 'Landing Page Submission' followed by 'API'"
   ]
  },
  {
   "cell_type": "code",
   "execution_count": 45,
   "metadata": {},
   "outputs": [
    {
     "data": {
      "image/png": "[encoded data removed]",
      "text/plain": [
       "<Figure size 576x432 with 1 Axes>"
      ]
     },
     "metadata": {
      "needs_background": "light"
     },
     "output_type": "display_data"
    }
   ],
   "source": [
    "plt.figure(figsize = (8,6))\n",
    "df['Last Notable Activity'].value_counts().plot.barh()\n",
    "plt.show()"
   ]
  },
  {
   "cell_type": "markdown",
   "metadata": {},
   "source": [
    "##### Explanation:\n",
    "Majority of leads have shown interest by either opening the e-mail, modifing cerntain information or by sending an sms for enquire. This is a positive sign for lead conversion."
   ]
  },
  {
   "cell_type": "markdown",
   "metadata": {},
   "source": [
    "- ### Subtask 1.7: Bivariate Analysis"
   ]
  },
  {
   "cell_type": "code",
   "execution_count": 46,
   "metadata": {},
   "outputs": [
    {
     "data": {
      "image/png": "[encoded data removed]",
      "text/plain": [
       "<Figure size 432x288 with 1 Axes>"
      ]
     },
     "metadata": {
      "needs_background": "light"
     },
     "output_type": "display_data"
    }
   ],
   "source": [
    "sns.boxplot(x = df['Converted'], y = df['Total Time Spent on Website'], palette = 'Purples')\n",
    "plt.show()"
   ]
  },
  {
   "cell_type": "markdown",
   "metadata": {},
   "source": [
    "##### Explanation:\n",
    "On an average leads who are more likely to get converted spend more time on the website than the leads who are not likey to get converted. So this is one of the important varibale to include in modeling."
   ]
  },
  {
   "cell_type": "markdown",
   "metadata": {},
   "source": [
    "## Task 2: Preparing the data for modeling\n",
    "- ### Subtask 2.1: Feature Engineering"
   ]
  },
  {
   "cell_type": "code",
   "execution_count": 47,
   "metadata": {
    "scrolled": true
   },
   "outputs": [
    {
     "data": {
      "text/plain": [
       "India                   7562\n",
       "United States             58\n",
       "United Arab Emirates      51\n",
       "Singapore                 24\n",
       "Saudi Arabia              21\n",
       "United Kingdom            14\n",
       "Australia                 12\n",
       "Qatar                     10\n",
       "Bahrain                    7\n",
       "Hong Kong                  7\n",
       "Oman                       6\n",
       "France                     6\n",
       "Kuwait                     4\n",
       "Canada                     4\n",
       "Germany                    4\n",
       "Nigeria                    4\n",
       "South Africa               3\n",
       "Sweden                     3\n",
       "Bangladesh                 2\n",
       "Belgium                    2\n",
       "Netherlands                2\n",
       "Uganda                     2\n",
       "China                      2\n",
       "Philippines                2\n",
       "Tanzania                   1\n",
       "Vietnam                    1\n",
       "Ghana                      1\n",
       "Kenya                      1\n",
       "Sri Lanka                  1\n",
       "Indonesia                  1\n",
       "Denmark                    1\n",
       "Malaysia                   1\n",
       "Russia                     1\n",
       "Switzerland                1\n",
       "Liberia                    1\n",
       "Italy                      1\n",
       "Name: Country, dtype: int64"
      ]
     },
     "execution_count": 47,
     "metadata": {},
     "output_type": "execute_result"
    }
   ],
   "source": [
    "df['Country'].value_counts()"
   ]
  },
  {
   "cell_type": "code",
   "execution_count": 48,
   "metadata": {},
   "outputs": [
    {
     "data": {
      "text/plain": [
       "1    7562\n",
       "0     262\n",
       "Name: Indian, dtype: int64"
      ]
     },
     "execution_count": 48,
     "metadata": {},
     "output_type": "execute_result"
    }
   ],
   "source": [
    "df['Indian'] = df['Country'].apply(lambda x: 1 if x == 'India' else 0)\n",
    "df.drop('Country', axis = 1, inplace = True)\n",
    "df['Indian'].value_counts()"
   ]
  },
  {
   "cell_type": "code",
   "execution_count": 49,
   "metadata": {},
   "outputs": [
    {
     "data": {
      "text/plain": [
       "Unemployed              6874\n",
       "Working Professional     706\n",
       "Student                  210\n",
       "Other                     16\n",
       "Housewife                 10\n",
       "Businessman                8\n",
       "Name: What is your current occupation, dtype: int64"
      ]
     },
     "execution_count": 49,
     "metadata": {},
     "output_type": "execute_result"
    }
   ],
   "source": [
    "df['What is your current occupation'].value_counts()"
   ]
  },
  {
   "cell_type": "code",
   "execution_count": 50,
   "metadata": {},
   "outputs": [
    {
     "data": {
      "text/plain": [
       "0    7094\n",
       "1     730\n",
       "Name: Working, dtype: int64"
      ]
     },
     "execution_count": 50,
     "metadata": {},
     "output_type": "execute_result"
    }
   ],
   "source": [
    "work = ['Working Professional', 'Businessman', 'Other']\n",
    "df['Working'] = df['What is your current occupation'].apply(lambda x: 1 if x in work else 0)\n",
    "df = df.drop('What is your current occupation', axis = 1)\n",
    "df['Working'].value_counts()"
   ]
  },
  {
   "cell_type": "markdown",
   "metadata": {},
   "source": [
    "##### Explanation:\n",
    "The above two variables had many categories, these were converted into binary variable based on the nature of their categories. Below is the indication of what they mean:\n",
    "- Indian = 1 if a person is an Indian and 0 if he is a foreigner.\n",
    "- Working = 1 indicates if a person has job and 0 indicates if a person is unemployed."
   ]
  },
  {
   "cell_type": "code",
   "execution_count": 51,
   "metadata": {},
   "outputs": [
    {
     "data": {
      "text/plain": [
       "Other                                1965\n",
       "Finance Management                    976\n",
       "Human Resource Management             848\n",
       "Marketing Management                  837\n",
       "Operations Management                 503\n",
       "Business Administration               403\n",
       "IT Projects Management                366\n",
       "Supply Chain Management               349\n",
       "Banking, Investment And Insurance     338\n",
       "Travel and Tourism                    203\n",
       "Media and Advertising                 203\n",
       "International Business                178\n",
       "Healthcare Management                 159\n",
       "Hospitality Management                114\n",
       "E-COMMERCE                            112\n",
       "Retail Management                     100\n",
       "Rural and Agribusiness                 73\n",
       "E-Business                             57\n",
       "Services Excellence                    40\n",
       "Name: Specialization, dtype: int64"
      ]
     },
     "execution_count": 51,
     "metadata": {},
     "output_type": "execute_result"
    }
   ],
   "source": [
    "df['Specialization'].value_counts()"
   ]
  },
  {
   "cell_type": "code",
   "execution_count": 52,
   "metadata": {},
   "outputs": [],
   "source": [
    "Management = ['Finance Management', 'Human Resource Management', 'Marketing Management', \n",
    "              'Operations Management','IT Projects Management', \n",
    "              'Supply Chain Management', 'Healthcare Management', 'Hospitality Management', \n",
    "              'Hospitality Management', 'Retail Management']\n",
    "Commerce = ['Banking, Investment And Insurance', 'International Business', 'E-COMMERCE', \n",
    "            'E-Business', 'Business Administration']\n",
    "Others = ['Other', 'Media and Advertising', 'Travel and Tourism', 'Rural and Agribusiness', \n",
    "          'Services Excellence']"
   ]
  },
  {
   "cell_type": "code",
   "execution_count": 53,
   "metadata": {},
   "outputs": [
    {
     "data": {
      "text/plain": [
       "Management    4252\n",
       "Others        2484\n",
       "Commerce      1088\n",
       "Name: Specialisation, dtype: int64"
      ]
     },
     "execution_count": 53,
     "metadata": {},
     "output_type": "execute_result"
    }
   ],
   "source": [
    "df['Specialisation'] = df['Specialization'].apply(lambda x: 'Management' if x in Management else 'Commerce' if x in Commerce else 'Others')\n",
    "df = df.drop('Specialization', axis = 1)\n",
    "df['Specialisation'].value_counts()"
   ]
  },
  {
   "cell_type": "code",
   "execution_count": 54,
   "metadata": {},
   "outputs": [
    {
     "data": {
      "text/plain": [
       "Modified                        2642\n",
       "Email Opened                    2487\n",
       "SMS Sent                        2058\n",
       "Page Visited on Website          274\n",
       "Email Link Clicked               129\n",
       "Olark Chat Conversation           88\n",
       "Email Bounced                     57\n",
       "Unsubscribed                      40\n",
       "Unreachable                       29\n",
       "Had a Phone Conversation          14\n",
       "Email Marked Spam                  2\n",
       "Approached upfront                 1\n",
       "Email Received                     1\n",
       "View in browser link Clicked       1\n",
       "Form Submitted on Website          1\n",
       "Name: Last Notable Activity, dtype: int64"
      ]
     },
     "execution_count": 54,
     "metadata": {},
     "output_type": "execute_result"
    }
   ],
   "source": [
    "df['Last Notable Activity'].value_counts()"
   ]
  },
  {
   "cell_type": "code",
   "execution_count": 55,
   "metadata": {},
   "outputs": [],
   "source": [
    "Email = ['Email Opened', 'Email Link Clicked', 'Email Received']\n",
    "Phone = ['SMS Sent', 'Had a Phone Conversation']\n",
    "Website = ['Modified', 'Page Visited on Website', 'Olark Chat Conversation', \n",
    "           'View in browser link Clicked', 'Form Submitted on Website']\n",
    "Other = ['Email Bounced', 'Unsubscribed', 'Unreachable', 'Email Marked Spam', 'Approached upfront']"
   ]
  },
  {
   "cell_type": "code",
   "execution_count": 56,
   "metadata": {},
   "outputs": [
    {
     "data": {
      "text/plain": [
       "Website    3006\n",
       "Email      2617\n",
       "Phone      2072\n",
       "Other       129\n",
       "Name: Activity, dtype: int64"
      ]
     },
     "execution_count": 56,
     "metadata": {},
     "output_type": "execute_result"
    }
   ],
   "source": [
    "df['Activity'] = df['Last Notable Activity'].apply(lambda x: 'Email' if x in Email else 'Phone' if x in Phone else 'Website' if x in Website else 'Other')\n",
    "df = df.drop('Last Notable Activity', axis = 1)\n",
    "df['Activity'].value_counts()"
   ]
  },
  {
   "cell_type": "markdown",
   "metadata": {},
   "source": [
    "##### Explanation:\n",
    "The Above categories in the variables are reduced to fewer categories by clubbing the similar categories together. This step was performed to reduce the no.of dummy variables which will be created to feed the model. Also the original features have been removed from the data set."
   ]
  },
  {
   "cell_type": "code",
   "execution_count": 57,
   "metadata": {},
   "outputs": [
    {
     "data": {
      "text/plain": [
       "Prospect ID                                object\n",
       "Lead Number                                 int64\n",
       "Lead Origin                                object\n",
       "Do Not Email                               object\n",
       "Converted                                   int64\n",
       "TotalVisits                               float64\n",
       "Total Time Spent on Website                 int64\n",
       "Page Views Per Visit                      float64\n",
       "A free copy of Mastering The Interview     object\n",
       "Indian                                      int64\n",
       "Working                                     int64\n",
       "Specialisation                             object\n",
       "Activity                                   object\n",
       "dtype: object"
      ]
     },
     "execution_count": 57,
     "metadata": {},
     "output_type": "execute_result"
    }
   ],
   "source": [
    "df.dtypes"
   ]
  },
  {
   "cell_type": "markdown",
   "metadata": {},
   "source": [
    "- ### Subtask 2.2: Converting binary variables"
   ]
  },
  {
   "cell_type": "code",
   "execution_count": 58,
   "metadata": {},
   "outputs": [],
   "source": [
    "binary = ['Do Not Email', 'A free copy of Mastering The Interview']\n",
    "df[binary] = df[binary].apply(lambda x: x.map({'Yes':1, 'No': 0}))"
   ]
  },
  {
   "cell_type": "code",
   "execution_count": 59,
   "metadata": {},
   "outputs": [
    {
     "data": {
      "text/plain": [
       "0    7182\n",
       "1     642\n",
       "Name: Do Not Email, dtype: int64"
      ]
     },
     "execution_count": 59,
     "metadata": {},
     "output_type": "execute_result"
    }
   ],
   "source": [
    "df['Do Not Email'].value_counts()"
   ]
  },
  {
   "cell_type": "code",
   "execution_count": 60,
   "metadata": {},
   "outputs": [
    {
     "data": {
      "text/plain": [
       "0    4937\n",
       "1    2887\n",
       "Name: A free copy of Mastering The Interview, dtype: int64"
      ]
     },
     "execution_count": 60,
     "metadata": {},
     "output_type": "execute_result"
    }
   ],
   "source": [
    "df['A free copy of Mastering The Interview'].value_counts()"
   ]
  },
  {
   "cell_type": "markdown",
   "metadata": {},
   "source": [
    "##### Explanation:\n",
    "All the binary variables are converted into 0 and 1. As 1 indiacted yes and 0 indicates no"
   ]
  },
  {
   "cell_type": "markdown",
   "metadata": {},
   "source": [
    "- ### Subtask 2.3: Dummy variables"
   ]
  },
  {
   "cell_type": "code",
   "execution_count": 61,
   "metadata": {},
   "outputs": [
    {
     "data": {
      "text/plain": [
       "Prospect ID                                object\n",
       "Lead Number                                 int64\n",
       "Do Not Email                                int64\n",
       "Converted                                   int64\n",
       "TotalVisits                               float64\n",
       "Total Time Spent on Website                 int64\n",
       "Page Views Per Visit                      float64\n",
       "A free copy of Mastering The Interview      int64\n",
       "Indian                                      int64\n",
       "Working                                     int64\n",
       "Lead Origin_Landing Page Submission         uint8\n",
       "Lead Origin_Lead Add Form                   uint8\n",
       "Lead Origin_Lead Import                     uint8\n",
       "Lead Origin_Quick Add Form                  uint8\n",
       "Specialisation_Management                   uint8\n",
       "Specialisation_Others                       uint8\n",
       "Activity_Other                              uint8\n",
       "Activity_Phone                              uint8\n",
       "Activity_Website                            uint8\n",
       "dtype: object"
      ]
     },
     "execution_count": 61,
     "metadata": {},
     "output_type": "execute_result"
    }
   ],
   "source": [
    "dummy = pd.get_dummies(df[['Lead Origin', 'Specialisation', 'Activity']], drop_first = True)\n",
    "df = pd.concat([df, dummy], axis = 1)\n",
    "df = df.drop(['Lead Origin', 'Specialisation', 'Activity'], axis = 1)\n",
    "df.dtypes"
   ]
  },
  {
   "cell_type": "markdown",
   "metadata": {},
   "source": [
    "##### Explanation:\n",
    "The categorical variables are converted into dummy variables having each category as a new column in the data set. Also the original features have been dropped."
   ]
  },
  {
   "cell_type": "markdown",
   "metadata": {},
   "source": [
    "- ### Subtask 2.4: Train Test Split"
   ]
  },
  {
   "cell_type": "code",
   "execution_count": 62,
   "metadata": {},
   "outputs": [
    {
     "name": "stdout",
     "output_type": "stream",
     "text": [
      "(5476, 19)\n",
      "(2348, 19)\n"
     ]
    }
   ],
   "source": [
    "df_train, df_test = train_test_split(df, train_size = 0.70, random_state = 100)\n",
    "print(df_train.shape)\n",
    "print(df_test.shape)"
   ]
  },
  {
   "cell_type": "markdown",
   "metadata": {},
   "source": [
    "- ### Subtask 2.5: Rescalling"
   ]
  },
  {
   "cell_type": "code",
   "execution_count": 63,
   "metadata": {},
   "outputs": [
    {
     "data": {
      "text/html": [
       "<div>\n",
       "<style scoped>\n",
       "    .dataframe tbody tr th:only-of-type {\n",
       "        vertical-align: middle;\n",
       "    }\n",
       "\n",
       "    .dataframe tbody tr th {\n",
       "        vertical-align: top;\n",
       "    }\n",
       "\n",
       "    .dataframe thead th {\n",
       "        text-align: right;\n",
       "    }\n",
       "</style>\n",
       "<table border=\"1\" class=\"dataframe\">\n",
       "  <thead>\n",
       "    <tr style=\"text-align: right;\">\n",
       "      <th></th>\n",
       "      <th>Lead Number</th>\n",
       "      <th>Do Not Email</th>\n",
       "      <th>Converted</th>\n",
       "      <th>TotalVisits</th>\n",
       "      <th>Total Time Spent on Website</th>\n",
       "      <th>Page Views Per Visit</th>\n",
       "      <th>A free copy of Mastering The Interview</th>\n",
       "      <th>Indian</th>\n",
       "      <th>Working</th>\n",
       "      <th>Lead Origin_Landing Page Submission</th>\n",
       "      <th>Lead Origin_Lead Add Form</th>\n",
       "      <th>Lead Origin_Lead Import</th>\n",
       "      <th>Lead Origin_Quick Add Form</th>\n",
       "      <th>Specialisation_Management</th>\n",
       "      <th>Specialisation_Others</th>\n",
       "      <th>Activity_Other</th>\n",
       "      <th>Activity_Phone</th>\n",
       "      <th>Activity_Website</th>\n",
       "    </tr>\n",
       "  </thead>\n",
       "  <tbody>\n",
       "    <tr>\n",
       "      <td>count</td>\n",
       "      <td>5476.000000</td>\n",
       "      <td>5476.000000</td>\n",
       "      <td>5476.000000</td>\n",
       "      <td>5476.000000</td>\n",
       "      <td>5476.000000</td>\n",
       "      <td>5476.000000</td>\n",
       "      <td>5476.000000</td>\n",
       "      <td>5476.000000</td>\n",
       "      <td>5476.000000</td>\n",
       "      <td>5476.000000</td>\n",
       "      <td>5476.000000</td>\n",
       "      <td>5476.000000</td>\n",
       "      <td>5476.0</td>\n",
       "      <td>5476.000000</td>\n",
       "      <td>5476.000000</td>\n",
       "      <td>5476.000000</td>\n",
       "      <td>5476.000000</td>\n",
       "      <td>5476.000000</td>\n",
       "    </tr>\n",
       "    <tr>\n",
       "      <td>mean</td>\n",
       "      <td>616960.374909</td>\n",
       "      <td>0.085099</td>\n",
       "      <td>0.433163</td>\n",
       "      <td>0.212994</td>\n",
       "      <td>0.235513</td>\n",
       "      <td>0.285491</td>\n",
       "      <td>0.367787</td>\n",
       "      <td>0.964938</td>\n",
       "      <td>0.091125</td>\n",
       "      <td>0.618517</td>\n",
       "      <td>0.093864</td>\n",
       "      <td>0.005661</td>\n",
       "      <td>0.0</td>\n",
       "      <td>0.540723</td>\n",
       "      <td>0.324507</td>\n",
       "      <td>0.016618</td>\n",
       "      <td>0.262235</td>\n",
       "      <td>0.386048</td>\n",
       "    </tr>\n",
       "    <tr>\n",
       "      <td>std</td>\n",
       "      <td>23255.773648</td>\n",
       "      <td>0.279054</td>\n",
       "      <td>0.495558</td>\n",
       "      <td>0.187844</td>\n",
       "      <td>0.245779</td>\n",
       "      <td>0.217255</td>\n",
       "      <td>0.482247</td>\n",
       "      <td>0.183954</td>\n",
       "      <td>0.287813</td>\n",
       "      <td>0.485795</td>\n",
       "      <td>0.291666</td>\n",
       "      <td>0.075034</td>\n",
       "      <td>0.0</td>\n",
       "      <td>0.498384</td>\n",
       "      <td>0.468233</td>\n",
       "      <td>0.127847</td>\n",
       "      <td>0.439890</td>\n",
       "      <td>0.486886</td>\n",
       "    </tr>\n",
       "    <tr>\n",
       "      <td>min</td>\n",
       "      <td>579533.000000</td>\n",
       "      <td>0.000000</td>\n",
       "      <td>0.000000</td>\n",
       "      <td>0.000000</td>\n",
       "      <td>0.000000</td>\n",
       "      <td>0.000000</td>\n",
       "      <td>0.000000</td>\n",
       "      <td>0.000000</td>\n",
       "      <td>0.000000</td>\n",
       "      <td>0.000000</td>\n",
       "      <td>0.000000</td>\n",
       "      <td>0.000000</td>\n",
       "      <td>0.0</td>\n",
       "      <td>0.000000</td>\n",
       "      <td>0.000000</td>\n",
       "      <td>0.000000</td>\n",
       "      <td>0.000000</td>\n",
       "      <td>0.000000</td>\n",
       "    </tr>\n",
       "    <tr>\n",
       "      <td>25%</td>\n",
       "      <td>596666.500000</td>\n",
       "      <td>0.000000</td>\n",
       "      <td>0.000000</td>\n",
       "      <td>0.117647</td>\n",
       "      <td>0.026408</td>\n",
       "      <td>0.147778</td>\n",
       "      <td>0.000000</td>\n",
       "      <td>1.000000</td>\n",
       "      <td>0.000000</td>\n",
       "      <td>0.000000</td>\n",
       "      <td>0.000000</td>\n",
       "      <td>0.000000</td>\n",
       "      <td>0.0</td>\n",
       "      <td>0.000000</td>\n",
       "      <td>0.000000</td>\n",
       "      <td>0.000000</td>\n",
       "      <td>0.000000</td>\n",
       "      <td>0.000000</td>\n",
       "    </tr>\n",
       "    <tr>\n",
       "      <td>50%</td>\n",
       "      <td>614927.000000</td>\n",
       "      <td>0.000000</td>\n",
       "      <td>0.000000</td>\n",
       "      <td>0.176471</td>\n",
       "      <td>0.129842</td>\n",
       "      <td>0.222222</td>\n",
       "      <td>0.000000</td>\n",
       "      <td>1.000000</td>\n",
       "      <td>0.000000</td>\n",
       "      <td>1.000000</td>\n",
       "      <td>0.000000</td>\n",
       "      <td>0.000000</td>\n",
       "      <td>0.0</td>\n",
       "      <td>1.000000</td>\n",
       "      <td>0.000000</td>\n",
       "      <td>0.000000</td>\n",
       "      <td>0.000000</td>\n",
       "      <td>0.000000</td>\n",
       "    </tr>\n",
       "    <tr>\n",
       "      <td>75%</td>\n",
       "      <td>637216.500000</td>\n",
       "      <td>0.000000</td>\n",
       "      <td>1.000000</td>\n",
       "      <td>0.294118</td>\n",
       "      <td>0.445973</td>\n",
       "      <td>0.444444</td>\n",
       "      <td>1.000000</td>\n",
       "      <td>1.000000</td>\n",
       "      <td>0.000000</td>\n",
       "      <td>1.000000</td>\n",
       "      <td>0.000000</td>\n",
       "      <td>0.000000</td>\n",
       "      <td>0.0</td>\n",
       "      <td>1.000000</td>\n",
       "      <td>1.000000</td>\n",
       "      <td>0.000000</td>\n",
       "      <td>1.000000</td>\n",
       "      <td>1.000000</td>\n",
       "    </tr>\n",
       "    <tr>\n",
       "      <td>max</td>\n",
       "      <td>660737.000000</td>\n",
       "      <td>1.000000</td>\n",
       "      <td>1.000000</td>\n",
       "      <td>1.000000</td>\n",
       "      <td>1.000000</td>\n",
       "      <td>1.000000</td>\n",
       "      <td>1.000000</td>\n",
       "      <td>1.000000</td>\n",
       "      <td>1.000000</td>\n",
       "      <td>1.000000</td>\n",
       "      <td>1.000000</td>\n",
       "      <td>1.000000</td>\n",
       "      <td>0.0</td>\n",
       "      <td>1.000000</td>\n",
       "      <td>1.000000</td>\n",
       "      <td>1.000000</td>\n",
       "      <td>1.000000</td>\n",
       "      <td>1.000000</td>\n",
       "    </tr>\n",
       "  </tbody>\n",
       "</table>\n",
       "</div>"
      ],
      "text/plain": [
       "         Lead Number  Do Not Email    Converted  TotalVisits  \\\n",
       "count    5476.000000   5476.000000  5476.000000  5476.000000   \n",
       "mean   616960.374909      0.085099     0.433163     0.212994   \n",
       "std     23255.773648      0.279054     0.495558     0.187844   \n",
       "min    579533.000000      0.000000     0.000000     0.000000   \n",
       "25%    596666.500000      0.000000     0.000000     0.117647   \n",
       "50%    614927.000000      0.000000     0.000000     0.176471   \n",
       "75%    637216.500000      0.000000     1.000000     0.294118   \n",
       "max    660737.000000      1.000000     1.000000     1.000000   \n",
       "\n",
       "       Total Time Spent on Website  Page Views Per Visit  \\\n",
       "count                  5476.000000           5476.000000   \n",
       "mean                      0.235513              0.285491   \n",
       "std                       0.245779              0.217255   \n",
       "min                       0.000000              0.000000   \n",
       "25%                       0.026408              0.147778   \n",
       "50%                       0.129842              0.222222   \n",
       "75%                       0.445973              0.444444   \n",
       "max                       1.000000              1.000000   \n",
       "\n",
       "       A free copy of Mastering The Interview       Indian      Working  \\\n",
       "count                             5476.000000  5476.000000  5476.000000   \n",
       "mean                                 0.367787     0.964938     0.091125   \n",
       "std                                  0.482247     0.183954     0.287813   \n",
       "min                                  0.000000     0.000000     0.000000   \n",
       "25%                                  0.000000     1.000000     0.000000   \n",
       "50%                                  0.000000     1.000000     0.000000   \n",
       "75%                                  1.000000     1.000000     0.000000   \n",
       "max                                  1.000000     1.000000     1.000000   \n",
       "\n",
       "       Lead Origin_Landing Page Submission  Lead Origin_Lead Add Form  \\\n",
       "count                          5476.000000                5476.000000   \n",
       "mean                              0.618517                   0.093864   \n",
       "std                               0.485795                   0.291666   \n",
       "min                               0.000000                   0.000000   \n",
       "25%                               0.000000                   0.000000   \n",
       "50%                               1.000000                   0.000000   \n",
       "75%                               1.000000                   0.000000   \n",
       "max                               1.000000                   1.000000   \n",
       "\n",
       "       Lead Origin_Lead Import  Lead Origin_Quick Add Form  \\\n",
       "count              5476.000000                      5476.0   \n",
       "mean                  0.005661                         0.0   \n",
       "std                   0.075034                         0.0   \n",
       "min                   0.000000                         0.0   \n",
       "25%                   0.000000                         0.0   \n",
       "50%                   0.000000                         0.0   \n",
       "75%                   0.000000                         0.0   \n",
       "max                   1.000000                         0.0   \n",
       "\n",
       "       Specialisation_Management  Specialisation_Others  Activity_Other  \\\n",
       "count                5476.000000            5476.000000     5476.000000   \n",
       "mean                    0.540723               0.324507        0.016618   \n",
       "std                     0.498384               0.468233        0.127847   \n",
       "min                     0.000000               0.000000        0.000000   \n",
       "25%                     0.000000               0.000000        0.000000   \n",
       "50%                     1.000000               0.000000        0.000000   \n",
       "75%                     1.000000               1.000000        0.000000   \n",
       "max                     1.000000               1.000000        1.000000   \n",
       "\n",
       "       Activity_Phone  Activity_Website  \n",
       "count     5476.000000       5476.000000  \n",
       "mean         0.262235          0.386048  \n",
       "std          0.439890          0.486886  \n",
       "min          0.000000          0.000000  \n",
       "25%          0.000000          0.000000  \n",
       "50%          0.000000          0.000000  \n",
       "75%          1.000000          1.000000  \n",
       "max          1.000000          1.000000  "
      ]
     },
     "execution_count": 63,
     "metadata": {},
     "output_type": "execute_result"
    }
   ],
   "source": [
    "scaler = MinMaxScaler()\n",
    "df_train[var] = scaler.fit_transform(df_train[var])\n",
    "df_train.describe()"
   ]
  },
  {
   "cell_type": "markdown",
   "metadata": {},
   "source": [
    "##### Explanation:\n",
    "Variables transformation is a very vital step before building any ML algorithm.\n",
    "- It helps in faster computation.\n",
    "- If all the variables are in same unit, then it is easier to interpret the values in the model."
   ]
  },
  {
   "cell_type": "code",
   "execution_count": 64,
   "metadata": {},
   "outputs": [
    {
     "data": {
      "text/plain": [
       "43.58"
      ]
     },
     "execution_count": 64,
     "metadata": {},
     "output_type": "execute_result"
    }
   ],
   "source": [
    "# Checking the Imbalance percentage.\n",
    "round(sum(df['Converted'])/len(df.index)*100, 2)"
   ]
  },
  {
   "cell_type": "markdown",
   "metadata": {},
   "source": [
    "- ### Subtask 2.5: Correlation and Heatmap"
   ]
  },
  {
   "cell_type": "code",
   "execution_count": 65,
   "metadata": {},
   "outputs": [
    {
     "data": {
      "text/html": [
       "<div>\n",
       "<style scoped>\n",
       "    .dataframe tbody tr th:only-of-type {\n",
       "        vertical-align: middle;\n",
       "    }\n",
       "\n",
       "    .dataframe tbody tr th {\n",
       "        vertical-align: top;\n",
       "    }\n",
       "\n",
       "    .dataframe thead th {\n",
       "        text-align: right;\n",
       "    }\n",
       "</style>\n",
       "<table border=\"1\" class=\"dataframe\">\n",
       "  <thead>\n",
       "    <tr style=\"text-align: right;\">\n",
       "      <th></th>\n",
       "      <th>Lead Number</th>\n",
       "      <th>Do Not Email</th>\n",
       "      <th>Converted</th>\n",
       "      <th>TotalVisits</th>\n",
       "      <th>Total Time Spent on Website</th>\n",
       "      <th>Page Views Per Visit</th>\n",
       "      <th>A free copy of Mastering The Interview</th>\n",
       "      <th>Indian</th>\n",
       "      <th>Working</th>\n",
       "      <th>Lead Origin_Landing Page Submission</th>\n",
       "      <th>Lead Origin_Lead Add Form</th>\n",
       "      <th>Lead Origin_Lead Import</th>\n",
       "      <th>Lead Origin_Quick Add Form</th>\n",
       "      <th>Specialisation_Management</th>\n",
       "      <th>Specialisation_Others</th>\n",
       "      <th>Activity_Other</th>\n",
       "      <th>Activity_Phone</th>\n",
       "      <th>Activity_Website</th>\n",
       "    </tr>\n",
       "  </thead>\n",
       "  <tbody>\n",
       "    <tr>\n",
       "      <td>Lead Number</td>\n",
       "      <td>1.000000</td>\n",
       "      <td>-0.105756</td>\n",
       "      <td>0.050521</td>\n",
       "      <td>0.027125</td>\n",
       "      <td>0.011665</td>\n",
       "      <td>0.046114</td>\n",
       "      <td>-0.120292</td>\n",
       "      <td>0.044618</td>\n",
       "      <td>-0.020578</td>\n",
       "      <td>-0.083333</td>\n",
       "      <td>0.039375</td>\n",
       "      <td>0.103653</td>\n",
       "      <td>NaN</td>\n",
       "      <td>-0.058919</td>\n",
       "      <td>0.055460</td>\n",
       "      <td>-0.000831</td>\n",
       "      <td>-0.169855</td>\n",
       "      <td>0.052550</td>\n",
       "    </tr>\n",
       "    <tr>\n",
       "      <td>Do Not Email</td>\n",
       "      <td>-0.105756</td>\n",
       "      <td>1.000000</td>\n",
       "      <td>-0.167547</td>\n",
       "      <td>-0.005193</td>\n",
       "      <td>-0.067197</td>\n",
       "      <td>0.006916</td>\n",
       "      <td>0.067335</td>\n",
       "      <td>-0.048608</td>\n",
       "      <td>-0.057909</td>\n",
       "      <td>0.100741</td>\n",
       "      <td>-0.033080</td>\n",
       "      <td>-0.014289</td>\n",
       "      <td>NaN</td>\n",
       "      <td>-0.005223</td>\n",
       "      <td>0.003886</td>\n",
       "      <td>0.334086</td>\n",
       "      <td>-0.037498</td>\n",
       "      <td>0.148011</td>\n",
       "    </tr>\n",
       "    <tr>\n",
       "      <td>Converted</td>\n",
       "      <td>0.050521</td>\n",
       "      <td>-0.167547</td>\n",
       "      <td>1.000000</td>\n",
       "      <td>-0.033674</td>\n",
       "      <td>0.330565</td>\n",
       "      <td>-0.093123</td>\n",
       "      <td>-0.101183</td>\n",
       "      <td>0.050425</td>\n",
       "      <td>0.305872</td>\n",
       "      <td>-0.179904</td>\n",
       "      <td>0.317630</td>\n",
       "      <td>-0.021751</td>\n",
       "      <td>NaN</td>\n",
       "      <td>0.044671</td>\n",
       "      <td>-0.035997</td>\n",
       "      <td>-0.018502</td>\n",
       "      <td>0.317535</td>\n",
       "      <td>-0.247316</td>\n",
       "    </tr>\n",
       "    <tr>\n",
       "      <td>TotalVisits</td>\n",
       "      <td>0.027125</td>\n",
       "      <td>-0.005193</td>\n",
       "      <td>-0.033674</td>\n",
       "      <td>1.000000</td>\n",
       "      <td>0.273434</td>\n",
       "      <td>0.679522</td>\n",
       "      <td>0.244862</td>\n",
       "      <td>-0.020767</td>\n",
       "      <td>-0.018248</td>\n",
       "      <td>0.381477</td>\n",
       "      <td>-0.301830</td>\n",
       "      <td>-0.052024</td>\n",
       "      <td>NaN</td>\n",
       "      <td>0.140878</td>\n",
       "      <td>-0.216497</td>\n",
       "      <td>-0.007830</td>\n",
       "      <td>-0.029204</td>\n",
       "      <td>-0.018275</td>\n",
       "    </tr>\n",
       "    <tr>\n",
       "      <td>Total Time Spent on Website</td>\n",
       "      <td>0.011665</td>\n",
       "      <td>-0.067197</td>\n",
       "      <td>0.330565</td>\n",
       "      <td>0.273434</td>\n",
       "      <td>1.000000</td>\n",
       "      <td>0.288108</td>\n",
       "      <td>0.132069</td>\n",
       "      <td>-0.012174</td>\n",
       "      <td>0.086035</td>\n",
       "      <td>0.225150</td>\n",
       "      <td>-0.179476</td>\n",
       "      <td>-0.053529</td>\n",
       "      <td>NaN</td>\n",
       "      <td>0.150530</td>\n",
       "      <td>-0.185131</td>\n",
       "      <td>-0.003374</td>\n",
       "      <td>0.085300</td>\n",
       "      <td>-0.081795</td>\n",
       "    </tr>\n",
       "    <tr>\n",
       "      <td>Page Views Per Visit</td>\n",
       "      <td>0.046114</td>\n",
       "      <td>0.006916</td>\n",
       "      <td>-0.093123</td>\n",
       "      <td>0.679522</td>\n",
       "      <td>0.288108</td>\n",
       "      <td>1.000000</td>\n",
       "      <td>0.243526</td>\n",
       "      <td>-0.018896</td>\n",
       "      <td>-0.034738</td>\n",
       "      <td>0.486071</td>\n",
       "      <td>-0.355588</td>\n",
       "      <td>-0.059324</td>\n",
       "      <td>NaN</td>\n",
       "      <td>0.178027</td>\n",
       "      <td>-0.268093</td>\n",
       "      <td>0.000448</td>\n",
       "      <td>0.014254</td>\n",
       "      <td>-0.068982</td>\n",
       "    </tr>\n",
       "    <tr>\n",
       "      <td>A free copy of Mastering The Interview</td>\n",
       "      <td>-0.120292</td>\n",
       "      <td>0.067335</td>\n",
       "      <td>-0.101183</td>\n",
       "      <td>0.244862</td>\n",
       "      <td>0.132069</td>\n",
       "      <td>0.243526</td>\n",
       "      <td>1.000000</td>\n",
       "      <td>-0.124327</td>\n",
       "      <td>-0.024379</td>\n",
       "      <td>0.521817</td>\n",
       "      <td>-0.232496</td>\n",
       "      <td>-0.057550</td>\n",
       "      <td>NaN</td>\n",
       "      <td>0.243930</td>\n",
       "      <td>-0.335327</td>\n",
       "      <td>0.010462</td>\n",
       "      <td>-0.011315</td>\n",
       "      <td>-0.029172</td>\n",
       "    </tr>\n",
       "    <tr>\n",
       "      <td>Indian</td>\n",
       "      <td>0.044618</td>\n",
       "      <td>-0.048608</td>\n",
       "      <td>0.050425</td>\n",
       "      <td>-0.020767</td>\n",
       "      <td>-0.012174</td>\n",
       "      <td>-0.018896</td>\n",
       "      <td>-0.124327</td>\n",
       "      <td>1.000000</td>\n",
       "      <td>0.001711</td>\n",
       "      <td>-0.094518</td>\n",
       "      <td>0.057947</td>\n",
       "      <td>0.014383</td>\n",
       "      <td>NaN</td>\n",
       "      <td>-0.060128</td>\n",
       "      <td>0.066384</td>\n",
       "      <td>0.001481</td>\n",
       "      <td>0.016588</td>\n",
       "      <td>-0.001792</td>\n",
       "    </tr>\n",
       "    <tr>\n",
       "      <td>Working</td>\n",
       "      <td>-0.020578</td>\n",
       "      <td>-0.057909</td>\n",
       "      <td>0.305872</td>\n",
       "      <td>-0.018248</td>\n",
       "      <td>0.086035</td>\n",
       "      <td>-0.034738</td>\n",
       "      <td>-0.024379</td>\n",
       "      <td>0.001711</td>\n",
       "      <td>1.000000</td>\n",
       "      <td>-0.055702</td>\n",
       "      <td>0.170065</td>\n",
       "      <td>-0.006976</td>\n",
       "      <td>NaN</td>\n",
       "      <td>0.137748</td>\n",
       "      <td>-0.150345</td>\n",
       "      <td>0.003513</td>\n",
       "      <td>0.119949</td>\n",
       "      <td>-0.072519</td>\n",
       "    </tr>\n",
       "    <tr>\n",
       "      <td>Lead Origin_Landing Page Submission</td>\n",
       "      <td>-0.083333</td>\n",
       "      <td>0.100741</td>\n",
       "      <td>-0.179904</td>\n",
       "      <td>0.381477</td>\n",
       "      <td>0.225150</td>\n",
       "      <td>0.486071</td>\n",
       "      <td>0.521817</td>\n",
       "      <td>-0.094518</td>\n",
       "      <td>-0.055702</td>\n",
       "      <td>1.000000</td>\n",
       "      <td>-0.409818</td>\n",
       "      <td>-0.096077</td>\n",
       "      <td>NaN</td>\n",
       "      <td>0.403277</td>\n",
       "      <td>-0.559756</td>\n",
       "      <td>0.005043</td>\n",
       "      <td>-0.013838</td>\n",
       "      <td>-0.036715</td>\n",
       "    </tr>\n",
       "    <tr>\n",
       "      <td>Lead Origin_Lead Add Form</td>\n",
       "      <td>0.039375</td>\n",
       "      <td>-0.033080</td>\n",
       "      <td>0.317630</td>\n",
       "      <td>-0.301830</td>\n",
       "      <td>-0.179476</td>\n",
       "      <td>-0.355588</td>\n",
       "      <td>-0.232496</td>\n",
       "      <td>0.057947</td>\n",
       "      <td>0.170065</td>\n",
       "      <td>-0.409818</td>\n",
       "      <td>1.000000</td>\n",
       "      <td>-0.024285</td>\n",
       "      <td>NaN</td>\n",
       "      <td>-0.047661</td>\n",
       "      <td>0.081855</td>\n",
       "      <td>-0.027144</td>\n",
       "      <td>0.085716</td>\n",
       "      <td>-0.009555</td>\n",
       "    </tr>\n",
       "    <tr>\n",
       "      <td>Lead Origin_Lead Import</td>\n",
       "      <td>0.103653</td>\n",
       "      <td>-0.014289</td>\n",
       "      <td>-0.021751</td>\n",
       "      <td>-0.052024</td>\n",
       "      <td>-0.053529</td>\n",
       "      <td>-0.059324</td>\n",
       "      <td>-0.057550</td>\n",
       "      <td>0.014383</td>\n",
       "      <td>-0.006976</td>\n",
       "      <td>-0.096077</td>\n",
       "      <td>-0.024285</td>\n",
       "      <td>1.000000</td>\n",
       "      <td>NaN</td>\n",
       "      <td>-0.042798</td>\n",
       "      <td>0.062074</td>\n",
       "      <td>-0.009809</td>\n",
       "      <td>-0.039451</td>\n",
       "      <td>0.025160</td>\n",
       "    </tr>\n",
       "    <tr>\n",
       "      <td>Lead Origin_Quick Add Form</td>\n",
       "      <td>NaN</td>\n",
       "      <td>NaN</td>\n",
       "      <td>NaN</td>\n",
       "      <td>NaN</td>\n",
       "      <td>NaN</td>\n",
       "      <td>NaN</td>\n",
       "      <td>NaN</td>\n",
       "      <td>NaN</td>\n",
       "      <td>NaN</td>\n",
       "      <td>NaN</td>\n",
       "      <td>NaN</td>\n",
       "      <td>NaN</td>\n",
       "      <td>NaN</td>\n",
       "      <td>NaN</td>\n",
       "      <td>NaN</td>\n",
       "      <td>NaN</td>\n",
       "      <td>NaN</td>\n",
       "      <td>NaN</td>\n",
       "    </tr>\n",
       "    <tr>\n",
       "      <td>Specialisation_Management</td>\n",
       "      <td>-0.058919</td>\n",
       "      <td>-0.005223</td>\n",
       "      <td>0.044671</td>\n",
       "      <td>0.140878</td>\n",
       "      <td>0.150530</td>\n",
       "      <td>0.178027</td>\n",
       "      <td>0.243930</td>\n",
       "      <td>-0.060128</td>\n",
       "      <td>0.137748</td>\n",
       "      <td>0.403277</td>\n",
       "      <td>-0.047661</td>\n",
       "      <td>-0.042798</td>\n",
       "      <td>NaN</td>\n",
       "      <td>1.000000</td>\n",
       "      <td>-0.752059</td>\n",
       "      <td>-0.003457</td>\n",
       "      <td>-0.002065</td>\n",
       "      <td>-0.045982</td>\n",
       "    </tr>\n",
       "    <tr>\n",
       "      <td>Specialisation_Others</td>\n",
       "      <td>0.055460</td>\n",
       "      <td>0.003886</td>\n",
       "      <td>-0.035997</td>\n",
       "      <td>-0.216497</td>\n",
       "      <td>-0.185131</td>\n",
       "      <td>-0.268093</td>\n",
       "      <td>-0.335327</td>\n",
       "      <td>0.066384</td>\n",
       "      <td>-0.150345</td>\n",
       "      <td>-0.559756</td>\n",
       "      <td>0.081855</td>\n",
       "      <td>0.062074</td>\n",
       "      <td>NaN</td>\n",
       "      <td>-0.752059</td>\n",
       "      <td>1.000000</td>\n",
       "      <td>0.001434</td>\n",
       "      <td>-0.005313</td>\n",
       "      <td>0.069696</td>\n",
       "    </tr>\n",
       "    <tr>\n",
       "      <td>Activity_Other</td>\n",
       "      <td>-0.000831</td>\n",
       "      <td>0.334086</td>\n",
       "      <td>-0.018502</td>\n",
       "      <td>-0.007830</td>\n",
       "      <td>-0.003374</td>\n",
       "      <td>0.000448</td>\n",
       "      <td>0.010462</td>\n",
       "      <td>0.001481</td>\n",
       "      <td>0.003513</td>\n",
       "      <td>0.005043</td>\n",
       "      <td>-0.027144</td>\n",
       "      <td>-0.009809</td>\n",
       "      <td>NaN</td>\n",
       "      <td>-0.003457</td>\n",
       "      <td>0.001434</td>\n",
       "      <td>1.000000</td>\n",
       "      <td>-0.077502</td>\n",
       "      <td>-0.103082</td>\n",
       "    </tr>\n",
       "    <tr>\n",
       "      <td>Activity_Phone</td>\n",
       "      <td>-0.169855</td>\n",
       "      <td>-0.037498</td>\n",
       "      <td>0.317535</td>\n",
       "      <td>-0.029204</td>\n",
       "      <td>0.085300</td>\n",
       "      <td>0.014254</td>\n",
       "      <td>-0.011315</td>\n",
       "      <td>0.016588</td>\n",
       "      <td>0.119949</td>\n",
       "      <td>-0.013838</td>\n",
       "      <td>0.085716</td>\n",
       "      <td>-0.039451</td>\n",
       "      <td>NaN</td>\n",
       "      <td>-0.002065</td>\n",
       "      <td>-0.005313</td>\n",
       "      <td>-0.077502</td>\n",
       "      <td>1.000000</td>\n",
       "      <td>-0.472759</td>\n",
       "    </tr>\n",
       "    <tr>\n",
       "      <td>Activity_Website</td>\n",
       "      <td>0.052550</td>\n",
       "      <td>0.148011</td>\n",
       "      <td>-0.247316</td>\n",
       "      <td>-0.018275</td>\n",
       "      <td>-0.081795</td>\n",
       "      <td>-0.068982</td>\n",
       "      <td>-0.029172</td>\n",
       "      <td>-0.001792</td>\n",
       "      <td>-0.072519</td>\n",
       "      <td>-0.036715</td>\n",
       "      <td>-0.009555</td>\n",
       "      <td>0.025160</td>\n",
       "      <td>NaN</td>\n",
       "      <td>-0.045982</td>\n",
       "      <td>0.069696</td>\n",
       "      <td>-0.103082</td>\n",
       "      <td>-0.472759</td>\n",
       "      <td>1.000000</td>\n",
       "    </tr>\n",
       "  </tbody>\n",
       "</table>\n",
       "</div>"
      ],
      "text/plain": [
       "                                        Lead Number  Do Not Email  Converted  \\\n",
       "Lead Number                                1.000000     -0.105756   0.050521   \n",
       "Do Not Email                              -0.105756      1.000000  -0.167547   \n",
       "Converted                                  0.050521     -0.167547   1.000000   \n",
       "TotalVisits                                0.027125     -0.005193  -0.033674   \n",
       "Total Time Spent on Website                0.011665     -0.067197   0.330565   \n",
       "Page Views Per Visit                       0.046114      0.006916  -0.093123   \n",
       "A free copy of Mastering The Interview    -0.120292      0.067335  -0.101183   \n",
       "Indian                                     0.044618     -0.048608   0.050425   \n",
       "Working                                   -0.020578     -0.057909   0.305872   \n",
       "Lead Origin_Landing Page Submission       -0.083333      0.100741  -0.179904   \n",
       "Lead Origin_Lead Add Form                  0.039375     -0.033080   0.317630   \n",
       "Lead Origin_Lead Import                    0.103653     -0.014289  -0.021751   \n",
       "Lead Origin_Quick Add Form                      NaN           NaN        NaN   \n",
       "Specialisation_Management                 -0.058919     -0.005223   0.044671   \n",
       "Specialisation_Others                      0.055460      0.003886  -0.035997   \n",
       "Activity_Other                            -0.000831      0.334086  -0.018502   \n",
       "Activity_Phone                            -0.169855     -0.037498   0.317535   \n",
       "Activity_Website                           0.052550      0.148011  -0.247316   \n",
       "\n",
       "                                        TotalVisits  \\\n",
       "Lead Number                                0.027125   \n",
       "Do Not Email                              -0.005193   \n",
       "Converted                                 -0.033674   \n",
       "TotalVisits                                1.000000   \n",
       "Total Time Spent on Website                0.273434   \n",
       "Page Views Per Visit                       0.679522   \n",
       "A free copy of Mastering The Interview     0.244862   \n",
       "Indian                                    -0.020767   \n",
       "Working                                   -0.018248   \n",
       "Lead Origin_Landing Page Submission        0.381477   \n",
       "Lead Origin_Lead Add Form                 -0.301830   \n",
       "Lead Origin_Lead Import                   -0.052024   \n",
       "Lead Origin_Quick Add Form                      NaN   \n",
       "Specialisation_Management                  0.140878   \n",
       "Specialisation_Others                     -0.216497   \n",
       "Activity_Other                            -0.007830   \n",
       "Activity_Phone                            -0.029204   \n",
       "Activity_Website                          -0.018275   \n",
       "\n",
       "                                        Total Time Spent on Website  \\\n",
       "Lead Number                                                0.011665   \n",
       "Do Not Email                                              -0.067197   \n",
       "Converted                                                  0.330565   \n",
       "TotalVisits                                                0.273434   \n",
       "Total Time Spent on Website                                1.000000   \n",
       "Page Views Per Visit                                       0.288108   \n",
       "A free copy of Mastering The Interview                     0.132069   \n",
       "Indian                                                    -0.012174   \n",
       "Working                                                    0.086035   \n",
       "Lead Origin_Landing Page Submission                        0.225150   \n",
       "Lead Origin_Lead Add Form                                 -0.179476   \n",
       "Lead Origin_Lead Import                                   -0.053529   \n",
       "Lead Origin_Quick Add Form                                      NaN   \n",
       "Specialisation_Management                                  0.150530   \n",
       "Specialisation_Others                                     -0.185131   \n",
       "Activity_Other                                            -0.003374   \n",
       "Activity_Phone                                             0.085300   \n",
       "Activity_Website                                          -0.081795   \n",
       "\n",
       "                                        Page Views Per Visit  \\\n",
       "Lead Number                                         0.046114   \n",
       "Do Not Email                                        0.006916   \n",
       "Converted                                          -0.093123   \n",
       "TotalVisits                                         0.679522   \n",
       "Total Time Spent on Website                         0.288108   \n",
       "Page Views Per Visit                                1.000000   \n",
       "A free copy of Mastering The Interview              0.243526   \n",
       "Indian                                             -0.018896   \n",
       "Working                                            -0.034738   \n",
       "Lead Origin_Landing Page Submission                 0.486071   \n",
       "Lead Origin_Lead Add Form                          -0.355588   \n",
       "Lead Origin_Lead Import                            -0.059324   \n",
       "Lead Origin_Quick Add Form                               NaN   \n",
       "Specialisation_Management                           0.178027   \n",
       "Specialisation_Others                              -0.268093   \n",
       "Activity_Other                                      0.000448   \n",
       "Activity_Phone                                      0.014254   \n",
       "Activity_Website                                   -0.068982   \n",
       "\n",
       "                                        A free copy of Mastering The Interview  \\\n",
       "Lead Number                                                          -0.120292   \n",
       "Do Not Email                                                          0.067335   \n",
       "Converted                                                            -0.101183   \n",
       "TotalVisits                                                           0.244862   \n",
       "Total Time Spent on Website                                           0.132069   \n",
       "Page Views Per Visit                                                  0.243526   \n",
       "A free copy of Mastering The Interview                                1.000000   \n",
       "Indian                                                               -0.124327   \n",
       "Working                                                              -0.024379   \n",
       "Lead Origin_Landing Page Submission                                   0.521817   \n",
       "Lead Origin_Lead Add Form                                            -0.232496   \n",
       "Lead Origin_Lead Import                                              -0.057550   \n",
       "Lead Origin_Quick Add Form                                                 NaN   \n",
       "Specialisation_Management                                             0.243930   \n",
       "Specialisation_Others                                                -0.335327   \n",
       "Activity_Other                                                        0.010462   \n",
       "Activity_Phone                                                       -0.011315   \n",
       "Activity_Website                                                     -0.029172   \n",
       "\n",
       "                                          Indian   Working  \\\n",
       "Lead Number                             0.044618 -0.020578   \n",
       "Do Not Email                           -0.048608 -0.057909   \n",
       "Converted                               0.050425  0.305872   \n",
       "TotalVisits                            -0.020767 -0.018248   \n",
       "Total Time Spent on Website            -0.012174  0.086035   \n",
       "Page Views Per Visit                   -0.018896 -0.034738   \n",
       "A free copy of Mastering The Interview -0.124327 -0.024379   \n",
       "Indian                                  1.000000  0.001711   \n",
       "Working                                 0.001711  1.000000   \n",
       "Lead Origin_Landing Page Submission    -0.094518 -0.055702   \n",
       "Lead Origin_Lead Add Form               0.057947  0.170065   \n",
       "Lead Origin_Lead Import                 0.014383 -0.006976   \n",
       "Lead Origin_Quick Add Form                   NaN       NaN   \n",
       "Specialisation_Management              -0.060128  0.137748   \n",
       "Specialisation_Others                   0.066384 -0.150345   \n",
       "Activity_Other                          0.001481  0.003513   \n",
       "Activity_Phone                          0.016588  0.119949   \n",
       "Activity_Website                       -0.001792 -0.072519   \n",
       "\n",
       "                                        Lead Origin_Landing Page Submission  \\\n",
       "Lead Number                                                       -0.083333   \n",
       "Do Not Email                                                       0.100741   \n",
       "Converted                                                         -0.179904   \n",
       "TotalVisits                                                        0.381477   \n",
       "Total Time Spent on Website                                        0.225150   \n",
       "Page Views Per Visit                                               0.486071   \n",
       "A free copy of Mastering The Interview                             0.521817   \n",
       "Indian                                                            -0.094518   \n",
       "Working                                                           -0.055702   \n",
       "Lead Origin_Landing Page Submission                                1.000000   \n",
       "Lead Origin_Lead Add Form                                         -0.409818   \n",
       "Lead Origin_Lead Import                                           -0.096077   \n",
       "Lead Origin_Quick Add Form                                              NaN   \n",
       "Specialisation_Management                                          0.403277   \n",
       "Specialisation_Others                                             -0.559756   \n",
       "Activity_Other                                                     0.005043   \n",
       "Activity_Phone                                                    -0.013838   \n",
       "Activity_Website                                                  -0.036715   \n",
       "\n",
       "                                        Lead Origin_Lead Add Form  \\\n",
       "Lead Number                                              0.039375   \n",
       "Do Not Email                                            -0.033080   \n",
       "Converted                                                0.317630   \n",
       "TotalVisits                                             -0.301830   \n",
       "Total Time Spent on Website                             -0.179476   \n",
       "Page Views Per Visit                                    -0.355588   \n",
       "A free copy of Mastering The Interview                  -0.232496   \n",
       "Indian                                                   0.057947   \n",
       "Working                                                  0.170065   \n",
       "Lead Origin_Landing Page Submission                     -0.409818   \n",
       "Lead Origin_Lead Add Form                                1.000000   \n",
       "Lead Origin_Lead Import                                 -0.024285   \n",
       "Lead Origin_Quick Add Form                                    NaN   \n",
       "Specialisation_Management                               -0.047661   \n",
       "Specialisation_Others                                    0.081855   \n",
       "Activity_Other                                          -0.027144   \n",
       "Activity_Phone                                           0.085716   \n",
       "Activity_Website                                        -0.009555   \n",
       "\n",
       "                                        Lead Origin_Lead Import  \\\n",
       "Lead Number                                            0.103653   \n",
       "Do Not Email                                          -0.014289   \n",
       "Converted                                             -0.021751   \n",
       "TotalVisits                                           -0.052024   \n",
       "Total Time Spent on Website                           -0.053529   \n",
       "Page Views Per Visit                                  -0.059324   \n",
       "A free copy of Mastering The Interview                -0.057550   \n",
       "Indian                                                 0.014383   \n",
       "Working                                               -0.006976   \n",
       "Lead Origin_Landing Page Submission                   -0.096077   \n",
       "Lead Origin_Lead Add Form                             -0.024285   \n",
       "Lead Origin_Lead Import                                1.000000   \n",
       "Lead Origin_Quick Add Form                                  NaN   \n",
       "Specialisation_Management                             -0.042798   \n",
       "Specialisation_Others                                  0.062074   \n",
       "Activity_Other                                        -0.009809   \n",
       "Activity_Phone                                        -0.039451   \n",
       "Activity_Website                                       0.025160   \n",
       "\n",
       "                                        Lead Origin_Quick Add Form  \\\n",
       "Lead Number                                                    NaN   \n",
       "Do Not Email                                                   NaN   \n",
       "Converted                                                      NaN   \n",
       "TotalVisits                                                    NaN   \n",
       "Total Time Spent on Website                                    NaN   \n",
       "Page Views Per Visit                                           NaN   \n",
       "A free copy of Mastering The Interview                         NaN   \n",
       "Indian                                                         NaN   \n",
       "Working                                                        NaN   \n",
       "Lead Origin_Landing Page Submission                            NaN   \n",
       "Lead Origin_Lead Add Form                                      NaN   \n",
       "Lead Origin_Lead Import                                        NaN   \n",
       "Lead Origin_Quick Add Form                                     NaN   \n",
       "Specialisation_Management                                      NaN   \n",
       "Specialisation_Others                                          NaN   \n",
       "Activity_Other                                                 NaN   \n",
       "Activity_Phone                                                 NaN   \n",
       "Activity_Website                                               NaN   \n",
       "\n",
       "                                        Specialisation_Management  \\\n",
       "Lead Number                                             -0.058919   \n",
       "Do Not Email                                            -0.005223   \n",
       "Converted                                                0.044671   \n",
       "TotalVisits                                              0.140878   \n",
       "Total Time Spent on Website                              0.150530   \n",
       "Page Views Per Visit                                     0.178027   \n",
       "A free copy of Mastering The Interview                   0.243930   \n",
       "Indian                                                  -0.060128   \n",
       "Working                                                  0.137748   \n",
       "Lead Origin_Landing Page Submission                      0.403277   \n",
       "Lead Origin_Lead Add Form                               -0.047661   \n",
       "Lead Origin_Lead Import                                 -0.042798   \n",
       "Lead Origin_Quick Add Form                                    NaN   \n",
       "Specialisation_Management                                1.000000   \n",
       "Specialisation_Others                                   -0.752059   \n",
       "Activity_Other                                          -0.003457   \n",
       "Activity_Phone                                          -0.002065   \n",
       "Activity_Website                                        -0.045982   \n",
       "\n",
       "                                        Specialisation_Others  Activity_Other  \\\n",
       "Lead Number                                          0.055460       -0.000831   \n",
       "Do Not Email                                         0.003886        0.334086   \n",
       "Converted                                           -0.035997       -0.018502   \n",
       "TotalVisits                                         -0.216497       -0.007830   \n",
       "Total Time Spent on Website                         -0.185131       -0.003374   \n",
       "Page Views Per Visit                                -0.268093        0.000448   \n",
       "A free copy of Mastering The Interview              -0.335327        0.010462   \n",
       "Indian                                               0.066384        0.001481   \n",
       "Working                                             -0.150345        0.003513   \n",
       "Lead Origin_Landing Page Submission                 -0.559756        0.005043   \n",
       "Lead Origin_Lead Add Form                            0.081855       -0.027144   \n",
       "Lead Origin_Lead Import                              0.062074       -0.009809   \n",
       "Lead Origin_Quick Add Form                                NaN             NaN   \n",
       "Specialisation_Management                           -0.752059       -0.003457   \n",
       "Specialisation_Others                                1.000000        0.001434   \n",
       "Activity_Other                                       0.001434        1.000000   \n",
       "Activity_Phone                                      -0.005313       -0.077502   \n",
       "Activity_Website                                     0.069696       -0.103082   \n",
       "\n",
       "                                        Activity_Phone  Activity_Website  \n",
       "Lead Number                                  -0.169855          0.052550  \n",
       "Do Not Email                                 -0.037498          0.148011  \n",
       "Converted                                     0.317535         -0.247316  \n",
       "TotalVisits                                  -0.029204         -0.018275  \n",
       "Total Time Spent on Website                   0.085300         -0.081795  \n",
       "Page Views Per Visit                          0.014254         -0.068982  \n",
       "A free copy of Mastering The Interview       -0.011315         -0.029172  \n",
       "Indian                                        0.016588         -0.001792  \n",
       "Working                                       0.119949         -0.072519  \n",
       "Lead Origin_Landing Page Submission          -0.013838         -0.036715  \n",
       "Lead Origin_Lead Add Form                     0.085716         -0.009555  \n",
       "Lead Origin_Lead Import                      -0.039451          0.025160  \n",
       "Lead Origin_Quick Add Form                         NaN               NaN  \n",
       "Specialisation_Management                    -0.002065         -0.045982  \n",
       "Specialisation_Others                        -0.005313          0.069696  \n",
       "Activity_Other                               -0.077502         -0.103082  \n",
       "Activity_Phone                                1.000000         -0.472759  \n",
       "Activity_Website                             -0.472759          1.000000  "
      ]
     },
     "execution_count": 65,
     "metadata": {},
     "output_type": "execute_result"
    }
   ],
   "source": [
    "df_train.corr()"
   ]
  },
  {
   "cell_type": "code",
   "execution_count": 66,
   "metadata": {},
   "outputs": [
    {
     "data": {
      "image/png": "[encoded data removed]",
      "text/plain": [
       "<Figure size 1440x864 with 2 Axes>"
      ]
     },
     "metadata": {
      "needs_background": "light"
     },
     "output_type": "display_data"
    }
   ],
   "source": [
    "# Heatmap\n",
    "plt.figure(figsize = (20,12))\n",
    "heat = sns.heatmap(df.corr(), annot = True, cmap = 'Purples')\n",
    "down, up = heat.get_ylim()\n",
    "heat.set_ylim(down+0.5, up-0.5)\n",
    "plt.show()"
   ]
  },
  {
   "cell_type": "markdown",
   "metadata": {},
   "source": [
    "##### Explanation:\n",
    "Few variables have high correlation between them. However all the variables will be fed to the model and later dropped if the VIF score is high."
   ]
  },
  {
   "cell_type": "code",
   "execution_count": 67,
   "metadata": {},
   "outputs": [
    {
     "data": {
      "text/plain": [
       "(5476, 17)"
      ]
     },
     "execution_count": 67,
     "metadata": {},
     "output_type": "execute_result"
    }
   ],
   "source": [
    "edu = df_train.drop(['Prospect ID', 'Lead Number'], axis = 1)\n",
    "edu.shape"
   ]
  },
  {
   "cell_type": "markdown",
   "metadata": {},
   "source": [
    "## Task 3: Training the Model\n",
    "- ### Subtask 3.1: RFE - Recursive Feature Elimination"
   ]
  },
  {
   "cell_type": "code",
   "execution_count": 68,
   "metadata": {},
   "outputs": [],
   "source": [
    "# Assigning X and Y\n",
    "Y_train = edu.pop('Converted')\n",
    "X_train = edu"
   ]
  },
  {
   "cell_type": "code",
   "execution_count": 69,
   "metadata": {},
   "outputs": [],
   "source": [
    "log_reg = LogisticRegression()\n",
    "rfe = RFE(log_reg, 13)\n",
    "rfe_model = rfe.fit(X_train, Y_train)"
   ]
  },
  {
   "cell_type": "code",
   "execution_count": 70,
   "metadata": {},
   "outputs": [
    {
     "data": {
      "text/html": [
       "<div>\n",
       "<style scoped>\n",
       "    .dataframe tbody tr th:only-of-type {\n",
       "        vertical-align: middle;\n",
       "    }\n",
       "\n",
       "    .dataframe tbody tr th {\n",
       "        vertical-align: top;\n",
       "    }\n",
       "\n",
       "    .dataframe thead th {\n",
       "        text-align: right;\n",
       "    }\n",
       "</style>\n",
       "<table border=\"1\" class=\"dataframe\">\n",
       "  <thead>\n",
       "    <tr style=\"text-align: right;\">\n",
       "      <th></th>\n",
       "      <th>0</th>\n",
       "      <th>1</th>\n",
       "    </tr>\n",
       "  </thead>\n",
       "  <tbody>\n",
       "    <tr>\n",
       "      <td>0</td>\n",
       "      <td>Do Not Email</td>\n",
       "      <td>1</td>\n",
       "    </tr>\n",
       "    <tr>\n",
       "      <td>1</td>\n",
       "      <td>TotalVisits</td>\n",
       "      <td>1</td>\n",
       "    </tr>\n",
       "    <tr>\n",
       "      <td>2</td>\n",
       "      <td>Total Time Spent on Website</td>\n",
       "      <td>1</td>\n",
       "    </tr>\n",
       "    <tr>\n",
       "      <td>3</td>\n",
       "      <td>Page Views Per Visit</td>\n",
       "      <td>1</td>\n",
       "    </tr>\n",
       "    <tr>\n",
       "      <td>4</td>\n",
       "      <td>A free copy of Mastering The Interview</td>\n",
       "      <td>1</td>\n",
       "    </tr>\n",
       "    <tr>\n",
       "      <td>5</td>\n",
       "      <td>Indian</td>\n",
       "      <td>1</td>\n",
       "    </tr>\n",
       "    <tr>\n",
       "      <td>6</td>\n",
       "      <td>Working</td>\n",
       "      <td>1</td>\n",
       "    </tr>\n",
       "    <tr>\n",
       "      <td>7</td>\n",
       "      <td>Lead Origin_Landing Page Submission</td>\n",
       "      <td>1</td>\n",
       "    </tr>\n",
       "    <tr>\n",
       "      <td>8</td>\n",
       "      <td>Lead Origin_Lead Add Form</td>\n",
       "      <td>1</td>\n",
       "    </tr>\n",
       "    <tr>\n",
       "      <td>12</td>\n",
       "      <td>Specialisation_Others</td>\n",
       "      <td>1</td>\n",
       "    </tr>\n",
       "    <tr>\n",
       "      <td>13</td>\n",
       "      <td>Activity_Other</td>\n",
       "      <td>1</td>\n",
       "    </tr>\n",
       "    <tr>\n",
       "      <td>14</td>\n",
       "      <td>Activity_Phone</td>\n",
       "      <td>1</td>\n",
       "    </tr>\n",
       "    <tr>\n",
       "      <td>15</td>\n",
       "      <td>Activity_Website</td>\n",
       "      <td>1</td>\n",
       "    </tr>\n",
       "    <tr>\n",
       "      <td>9</td>\n",
       "      <td>Lead Origin_Lead Import</td>\n",
       "      <td>2</td>\n",
       "    </tr>\n",
       "    <tr>\n",
       "      <td>11</td>\n",
       "      <td>Specialisation_Management</td>\n",
       "      <td>3</td>\n",
       "    </tr>\n",
       "    <tr>\n",
       "      <td>10</td>\n",
       "      <td>Lead Origin_Quick Add Form</td>\n",
       "      <td>4</td>\n",
       "    </tr>\n",
       "  </tbody>\n",
       "</table>\n",
       "</div>"
      ],
      "text/plain": [
       "                                         0  1\n",
       "0                             Do Not Email  1\n",
       "1                              TotalVisits  1\n",
       "2              Total Time Spent on Website  1\n",
       "3                     Page Views Per Visit  1\n",
       "4   A free copy of Mastering The Interview  1\n",
       "5                                   Indian  1\n",
       "6                                  Working  1\n",
       "7      Lead Origin_Landing Page Submission  1\n",
       "8                Lead Origin_Lead Add Form  1\n",
       "12                   Specialisation_Others  1\n",
       "13                          Activity_Other  1\n",
       "14                          Activity_Phone  1\n",
       "15                        Activity_Website  1\n",
       "9                  Lead Origin_Lead Import  2\n",
       "11               Specialisation_Management  3\n",
       "10              Lead Origin_Quick Add Form  4"
      ]
     },
     "execution_count": 70,
     "metadata": {},
     "output_type": "execute_result"
    }
   ],
   "source": [
    "# Ranking of variables as per RFE\n",
    "pd.DataFrame(zip(X_train.columns, rfe_model.ranking_)).sort_values(by = 1, ascending = True)"
   ]
  },
  {
   "cell_type": "code",
   "execution_count": 71,
   "metadata": {},
   "outputs": [
    {
     "data": {
      "text/plain": [
       "Index(['Do Not Email', 'TotalVisits', 'Total Time Spent on Website',\n",
       "       'Page Views Per Visit', 'A free copy of Mastering The Interview',\n",
       "       'Indian', 'Working', 'Lead Origin_Landing Page Submission',\n",
       "       'Lead Origin_Lead Add Form', 'Specialisation_Others', 'Activity_Other',\n",
       "       'Activity_Phone', 'Activity_Website'],\n",
       "      dtype='object')"
      ]
     },
     "execution_count": 71,
     "metadata": {},
     "output_type": "execute_result"
    }
   ],
   "source": [
    "col = X_train.columns[rfe_model.support_]\n",
    "col"
   ]
  },
  {
   "cell_type": "markdown",
   "metadata": {},
   "source": [
    "- ### Subtask 3.2: Stats Models\n",
    " - Note: Assuming alpha to be 0.05 with 95% of confidence interval\n",
    " - Note: Assuming permitable VIF level to be <5"
   ]
  },
  {
   "cell_type": "code",
   "execution_count": 72,
   "metadata": {},
   "outputs": [
    {
     "name": "stdout",
     "output_type": "stream",
     "text": [
      "                 Generalized Linear Model Regression Results                  \n",
      "==============================================================================\n",
      "Dep. Variable:              Converted   No. Observations:                 5476\n",
      "Model:                            GLM   Df Residuals:                     5462\n",
      "Model Family:                Gaussian   Df Model:                           13\n",
      "Link Function:               identity   Scale:                         0.14902\n",
      "Method:                          IRLS   Log-Likelihood:                -2550.8\n",
      "Date:                Sun, 19 Jul 2020   Deviance:                       813.95\n",
      "Time:                        12:40:33   Pearson chi2:                     814.\n",
      "No. Iterations:                     3                                         \n",
      "Covariance Type:            nonrobust                                         \n",
      "==========================================================================================================\n",
      "                                             coef    std err          z      P>|z|      [0.025      0.975]\n",
      "----------------------------------------------------------------------------------------------------------\n",
      "const                                      0.2640      0.033      8.049      0.000       0.200       0.328\n",
      "Do Not Email                              -0.1682      0.021     -8.154      0.000      -0.209      -0.128\n",
      "TotalVisits                                0.1586      0.038      4.123      0.000       0.083       0.234\n",
      "Total Time Spent on Website                0.7361      0.023     32.294      0.000       0.691       0.781\n",
      "Page Views Per Visit                      -0.2139      0.035     -6.054      0.000      -0.283      -0.145\n",
      "A free copy of Mastering The Interview    -0.0166      0.013     -1.297      0.195      -0.042       0.008\n",
      "Indian                                     0.0528      0.029      1.842      0.065      -0.003       0.109\n",
      "Working                                    0.3044      0.019     16.046      0.000       0.267       0.342\n",
      "Lead Origin_Landing Page Submission       -0.1308      0.017     -7.894      0.000      -0.163      -0.098\n",
      "Lead Origin_Lead Add Form                  0.4489      0.021     21.588      0.000       0.408       0.490\n",
      "Specialisation_Others                     -0.0484      0.014     -3.430      0.001      -0.076      -0.021\n",
      "Activity_Other                             0.1043      0.045      2.337      0.019       0.017       0.192\n",
      "Activity_Phone                             0.2184      0.014     15.784      0.000       0.191       0.246\n",
      "Activity_Website                          -0.1028      0.013     -8.105      0.000      -0.128      -0.078\n",
      "==========================================================================================================\n"
     ]
    }
   ],
   "source": [
    "X_train_sm = sm.add_constant(X_train[col])\n",
    "log_model = sm.GLM(Y_train, X_train_sm, families = sm.families.Binomial()).fit()\n",
    "print(log_model.summary())"
   ]
  },
  {
   "cell_type": "code",
   "execution_count": 73,
   "metadata": {},
   "outputs": [
    {
     "data": {
      "text/html": [
       "<div>\n",
       "<style scoped>\n",
       "    .dataframe tbody tr th:only-of-type {\n",
       "        vertical-align: middle;\n",
       "    }\n",
       "\n",
       "    .dataframe tbody tr th {\n",
       "        vertical-align: top;\n",
       "    }\n",
       "\n",
       "    .dataframe thead th {\n",
       "        text-align: right;\n",
       "    }\n",
       "</style>\n",
       "<table border=\"1\" class=\"dataframe\">\n",
       "  <thead>\n",
       "    <tr style=\"text-align: right;\">\n",
       "      <th></th>\n",
       "      <th>Features</th>\n",
       "      <th>VIF</th>\n",
       "    </tr>\n",
       "  </thead>\n",
       "  <tbody>\n",
       "    <tr>\n",
       "      <td>5</td>\n",
       "      <td>Indian</td>\n",
       "      <td>8.21</td>\n",
       "    </tr>\n",
       "    <tr>\n",
       "      <td>3</td>\n",
       "      <td>Page Views Per Visit</td>\n",
       "      <td>5.87</td>\n",
       "    </tr>\n",
       "    <tr>\n",
       "      <td>7</td>\n",
       "      <td>Lead Origin_Landing Page Submission</td>\n",
       "      <td>5.74</td>\n",
       "    </tr>\n",
       "    <tr>\n",
       "      <td>1</td>\n",
       "      <td>TotalVisits</td>\n",
       "      <td>4.38</td>\n",
       "    </tr>\n",
       "    <tr>\n",
       "      <td>12</td>\n",
       "      <td>Activity_Website</td>\n",
       "      <td>2.20</td>\n",
       "    </tr>\n",
       "    <tr>\n",
       "      <td>2</td>\n",
       "      <td>Total Time Spent on Website</td>\n",
       "      <td>2.19</td>\n",
       "    </tr>\n",
       "    <tr>\n",
       "      <td>4</td>\n",
       "      <td>A free copy of Mastering The Interview</td>\n",
       "      <td>2.19</td>\n",
       "    </tr>\n",
       "    <tr>\n",
       "      <td>9</td>\n",
       "      <td>Specialisation_Others</td>\n",
       "      <td>2.15</td>\n",
       "    </tr>\n",
       "    <tr>\n",
       "      <td>11</td>\n",
       "      <td>Activity_Phone</td>\n",
       "      <td>1.81</td>\n",
       "    </tr>\n",
       "    <tr>\n",
       "      <td>8</td>\n",
       "      <td>Lead Origin_Lead Add Form</td>\n",
       "      <td>1.43</td>\n",
       "    </tr>\n",
       "    <tr>\n",
       "      <td>0</td>\n",
       "      <td>Do Not Email</td>\n",
       "      <td>1.33</td>\n",
       "    </tr>\n",
       "    <tr>\n",
       "      <td>10</td>\n",
       "      <td>Activity_Other</td>\n",
       "      <td>1.21</td>\n",
       "    </tr>\n",
       "    <tr>\n",
       "      <td>6</td>\n",
       "      <td>Working</td>\n",
       "      <td>1.20</td>\n",
       "    </tr>\n",
       "  </tbody>\n",
       "</table>\n",
       "</div>"
      ],
      "text/plain": [
       "                                  Features   VIF\n",
       "5                                   Indian  8.21\n",
       "3                     Page Views Per Visit  5.87\n",
       "7      Lead Origin_Landing Page Submission  5.74\n",
       "1                              TotalVisits  4.38\n",
       "12                        Activity_Website  2.20\n",
       "2              Total Time Spent on Website  2.19\n",
       "4   A free copy of Mastering The Interview  2.19\n",
       "9                    Specialisation_Others  2.15\n",
       "11                          Activity_Phone  1.81\n",
       "8                Lead Origin_Lead Add Form  1.43\n",
       "0                             Do Not Email  1.33\n",
       "10                          Activity_Other  1.21\n",
       "6                                  Working  1.20"
      ]
     },
     "execution_count": 73,
     "metadata": {},
     "output_type": "execute_result"
    }
   ],
   "source": [
    "vif = pd.DataFrame()\n",
    "vif['Features'] = col\n",
    "vif['VIF'] = [variance_inflation_factor(X_train[col].values, x) for x in range(X_train[col].shape[1])]\n",
    "vif['VIF'] = round(vif['VIF'],2)\n",
    "vif = vif.sort_values(by = 'VIF', ascending = False)\n",
    "vif"
   ]
  },
  {
   "cell_type": "code",
   "execution_count": 74,
   "metadata": {},
   "outputs": [
    {
     "name": "stdout",
     "output_type": "stream",
     "text": [
      "                 Generalized Linear Model Regression Results                  \n",
      "==============================================================================\n",
      "Dep. Variable:              Converted   No. Observations:                 5476\n",
      "Model:                            GLM   Df Residuals:                     5463\n",
      "Model Family:                Gaussian   Df Model:                           12\n",
      "Link Function:               identity   Scale:                         0.14904\n",
      "Method:                          IRLS   Log-Likelihood:                -2551.7\n",
      "Date:                Sun, 19 Jul 2020   Deviance:                       814.20\n",
      "Time:                        12:40:33   Pearson chi2:                     814.\n",
      "No. Iterations:                     3                                         \n",
      "Covariance Type:            nonrobust                                         \n",
      "=======================================================================================================\n",
      "                                          coef    std err          z      P>|z|      [0.025      0.975]\n",
      "-------------------------------------------------------------------------------------------------------\n",
      "const                                   0.2590      0.033      7.952      0.000       0.195       0.323\n",
      "Do Not Email                           -0.1688      0.021     -8.184      0.000      -0.209      -0.128\n",
      "TotalVisits                             0.1546      0.038      4.031      0.000       0.079       0.230\n",
      "Total Time Spent on Website             0.7358      0.023     32.283      0.000       0.691       0.781\n",
      "Page Views Per Visit                   -0.2109      0.035     -5.984      0.000      -0.280      -0.142\n",
      "Indian                                  0.0560      0.029      1.960      0.050   -7.66e-06       0.112\n",
      "Working                                 0.3045      0.019     16.052      0.000       0.267       0.342\n",
      "Lead Origin_Landing Page Submission    -0.1384      0.015     -8.935      0.000      -0.169      -0.108\n",
      "Lead Origin_Lead Add Form               0.4497      0.021     21.637      0.000       0.409       0.490\n",
      "Specialisation_Others                  -0.0472      0.014     -3.354      0.001      -0.075      -0.020\n",
      "Activity_Other                          0.1043      0.045      2.337      0.019       0.017       0.192\n",
      "Activity_Phone                          0.2185      0.014     15.789      0.000       0.191       0.246\n",
      "Activity_Website                       -0.1025      0.013     -8.084      0.000      -0.127      -0.078\n",
      "=======================================================================================================\n"
     ]
    }
   ],
   "source": [
    "X_2 = X_train[col].drop('A free copy of Mastering The Interview', axis = 1)\n",
    "X_2_sm = sm.add_constant(X_2)\n",
    "log_model_2 = sm.GLM(Y_train, X_2_sm, families = sm.families.Binomial()).fit()\n",
    "print(log_model_2.summary())"
   ]
  },
  {
   "cell_type": "code",
   "execution_count": 75,
   "metadata": {},
   "outputs": [
    {
     "data": {
      "text/html": [
       "<div>\n",
       "<style scoped>\n",
       "    .dataframe tbody tr th:only-of-type {\n",
       "        vertical-align: middle;\n",
       "    }\n",
       "\n",
       "    .dataframe tbody tr th {\n",
       "        vertical-align: top;\n",
       "    }\n",
       "\n",
       "    .dataframe thead th {\n",
       "        text-align: right;\n",
       "    }\n",
       "</style>\n",
       "<table border=\"1\" class=\"dataframe\">\n",
       "  <thead>\n",
       "    <tr style=\"text-align: right;\">\n",
       "      <th></th>\n",
       "      <th>Features</th>\n",
       "      <th>VIF</th>\n",
       "    </tr>\n",
       "  </thead>\n",
       "  <tbody>\n",
       "    <tr>\n",
       "      <td>4</td>\n",
       "      <td>Indian</td>\n",
       "      <td>8.20</td>\n",
       "    </tr>\n",
       "    <tr>\n",
       "      <td>3</td>\n",
       "      <td>Page Views Per Visit</td>\n",
       "      <td>5.85</td>\n",
       "    </tr>\n",
       "    <tr>\n",
       "      <td>6</td>\n",
       "      <td>Lead Origin_Landing Page Submission</td>\n",
       "      <td>4.79</td>\n",
       "    </tr>\n",
       "    <tr>\n",
       "      <td>1</td>\n",
       "      <td>TotalVisits</td>\n",
       "      <td>4.34</td>\n",
       "    </tr>\n",
       "    <tr>\n",
       "      <td>11</td>\n",
       "      <td>Activity_Website</td>\n",
       "      <td>2.20</td>\n",
       "    </tr>\n",
       "    <tr>\n",
       "      <td>2</td>\n",
       "      <td>Total Time Spent on Website</td>\n",
       "      <td>2.19</td>\n",
       "    </tr>\n",
       "    <tr>\n",
       "      <td>8</td>\n",
       "      <td>Specialisation_Others</td>\n",
       "      <td>2.15</td>\n",
       "    </tr>\n",
       "    <tr>\n",
       "      <td>10</td>\n",
       "      <td>Activity_Phone</td>\n",
       "      <td>1.81</td>\n",
       "    </tr>\n",
       "    <tr>\n",
       "      <td>7</td>\n",
       "      <td>Lead Origin_Lead Add Form</td>\n",
       "      <td>1.43</td>\n",
       "    </tr>\n",
       "    <tr>\n",
       "      <td>0</td>\n",
       "      <td>Do Not Email</td>\n",
       "      <td>1.33</td>\n",
       "    </tr>\n",
       "    <tr>\n",
       "      <td>9</td>\n",
       "      <td>Activity_Other</td>\n",
       "      <td>1.21</td>\n",
       "    </tr>\n",
       "    <tr>\n",
       "      <td>5</td>\n",
       "      <td>Working</td>\n",
       "      <td>1.20</td>\n",
       "    </tr>\n",
       "  </tbody>\n",
       "</table>\n",
       "</div>"
      ],
      "text/plain": [
       "                               Features   VIF\n",
       "4                                Indian  8.20\n",
       "3                  Page Views Per Visit  5.85\n",
       "6   Lead Origin_Landing Page Submission  4.79\n",
       "1                           TotalVisits  4.34\n",
       "11                     Activity_Website  2.20\n",
       "2           Total Time Spent on Website  2.19\n",
       "8                 Specialisation_Others  2.15\n",
       "10                       Activity_Phone  1.81\n",
       "7             Lead Origin_Lead Add Form  1.43\n",
       "0                          Do Not Email  1.33\n",
       "9                        Activity_Other  1.21\n",
       "5                               Working  1.20"
      ]
     },
     "execution_count": 75,
     "metadata": {},
     "output_type": "execute_result"
    }
   ],
   "source": [
    "vif = pd.DataFrame()\n",
    "vif['Features'] = X_2.columns\n",
    "vif['VIF'] = [variance_inflation_factor(X_2.values, x) for x in range(X_2.shape[1])]\n",
    "vif['VIF'] = round(vif['VIF'],2)\n",
    "vif = vif.sort_values(by = 'VIF', ascending = False)\n",
    "vif"
   ]
  },
  {
   "cell_type": "code",
   "execution_count": 76,
   "metadata": {},
   "outputs": [
    {
     "name": "stdout",
     "output_type": "stream",
     "text": [
      "                 Generalized Linear Model Regression Results                  \n",
      "==============================================================================\n",
      "Dep. Variable:              Converted   No. Observations:                 5476\n",
      "Model:                            GLM   Df Residuals:                     5464\n",
      "Model Family:                Gaussian   Df Model:                           11\n",
      "Link Function:               identity   Scale:                         0.14912\n",
      "Method:                          IRLS   Log-Likelihood:                -2553.6\n",
      "Date:                Sun, 19 Jul 2020   Deviance:                       814.77\n",
      "Time:                        12:40:33   Pearson chi2:                     815.\n",
      "No. Iterations:                     3                                         \n",
      "Covariance Type:            nonrobust                                         \n",
      "=======================================================================================================\n",
      "                                          coef    std err          z      P>|z|      [0.025      0.975]\n",
      "-------------------------------------------------------------------------------------------------------\n",
      "const                                   0.3131      0.017     18.039      0.000       0.279       0.347\n",
      "Do Not Email                           -0.1706      0.021     -8.278      0.000      -0.211      -0.130\n",
      "TotalVisits                             0.1545      0.038      4.028      0.000       0.079       0.230\n",
      "Total Time Spent on Website             0.7360      0.023     32.280      0.000       0.691       0.781\n",
      "Page Views Per Visit                   -0.2090      0.035     -5.929      0.000      -0.278      -0.140\n",
      "Working                                 0.3042      0.019     16.034      0.000       0.267       0.341\n",
      "Lead Origin_Landing Page Submission    -0.1401      0.015     -9.052      0.000      -0.170      -0.110\n",
      "Lead Origin_Lead Add Form               0.4510      0.021     21.705      0.000       0.410       0.492\n",
      "Specialisation_Others                  -0.0466      0.014     -3.308      0.001      -0.074      -0.019\n",
      "Activity_Other                          0.1061      0.045      2.377      0.017       0.019       0.194\n",
      "Activity_Phone                          0.2190      0.014     15.820      0.000       0.192       0.246\n",
      "Activity_Website                       -0.1022      0.013     -8.058      0.000      -0.127      -0.077\n",
      "=======================================================================================================\n"
     ]
    }
   ],
   "source": [
    "X_3 = X_2.drop('Indian', axis = 1)\n",
    "X_3_sm = sm.add_constant(X_3)\n",
    "log_model_3 = sm.GLM(Y_train, X_3_sm, families = sm.families.Binomial()).fit()\n",
    "print(log_model_3.summary())"
   ]
  },
  {
   "cell_type": "code",
   "execution_count": 77,
   "metadata": {},
   "outputs": [
    {
     "data": {
      "text/html": [
       "<div>\n",
       "<style scoped>\n",
       "    .dataframe tbody tr th:only-of-type {\n",
       "        vertical-align: middle;\n",
       "    }\n",
       "\n",
       "    .dataframe tbody tr th {\n",
       "        vertical-align: top;\n",
       "    }\n",
       "\n",
       "    .dataframe thead th {\n",
       "        text-align: right;\n",
       "    }\n",
       "</style>\n",
       "<table border=\"1\" class=\"dataframe\">\n",
       "  <thead>\n",
       "    <tr style=\"text-align: right;\">\n",
       "      <th></th>\n",
       "      <th>Features</th>\n",
       "      <th>VIF</th>\n",
       "    </tr>\n",
       "  </thead>\n",
       "  <tbody>\n",
       "    <tr>\n",
       "      <td>3</td>\n",
       "      <td>Page Views Per Visit</td>\n",
       "      <td>5.69</td>\n",
       "    </tr>\n",
       "    <tr>\n",
       "      <td>1</td>\n",
       "      <td>TotalVisits</td>\n",
       "      <td>4.32</td>\n",
       "    </tr>\n",
       "    <tr>\n",
       "      <td>5</td>\n",
       "      <td>Lead Origin_Landing Page Submission</td>\n",
       "      <td>3.68</td>\n",
       "    </tr>\n",
       "    <tr>\n",
       "      <td>2</td>\n",
       "      <td>Total Time Spent on Website</td>\n",
       "      <td>2.12</td>\n",
       "    </tr>\n",
       "    <tr>\n",
       "      <td>10</td>\n",
       "      <td>Activity_Website</td>\n",
       "      <td>1.95</td>\n",
       "    </tr>\n",
       "    <tr>\n",
       "      <td>9</td>\n",
       "      <td>Activity_Phone</td>\n",
       "      <td>1.69</td>\n",
       "    </tr>\n",
       "    <tr>\n",
       "      <td>7</td>\n",
       "      <td>Specialisation_Others</td>\n",
       "      <td>1.51</td>\n",
       "    </tr>\n",
       "    <tr>\n",
       "      <td>0</td>\n",
       "      <td>Do Not Email</td>\n",
       "      <td>1.32</td>\n",
       "    </tr>\n",
       "    <tr>\n",
       "      <td>6</td>\n",
       "      <td>Lead Origin_Lead Add Form</td>\n",
       "      <td>1.22</td>\n",
       "    </tr>\n",
       "    <tr>\n",
       "      <td>8</td>\n",
       "      <td>Activity_Other</td>\n",
       "      <td>1.20</td>\n",
       "    </tr>\n",
       "    <tr>\n",
       "      <td>4</td>\n",
       "      <td>Working</td>\n",
       "      <td>1.18</td>\n",
       "    </tr>\n",
       "  </tbody>\n",
       "</table>\n",
       "</div>"
      ],
      "text/plain": [
       "                               Features   VIF\n",
       "3                  Page Views Per Visit  5.69\n",
       "1                           TotalVisits  4.32\n",
       "5   Lead Origin_Landing Page Submission  3.68\n",
       "2           Total Time Spent on Website  2.12\n",
       "10                     Activity_Website  1.95\n",
       "9                        Activity_Phone  1.69\n",
       "7                 Specialisation_Others  1.51\n",
       "0                          Do Not Email  1.32\n",
       "6             Lead Origin_Lead Add Form  1.22\n",
       "8                        Activity_Other  1.20\n",
       "4                               Working  1.18"
      ]
     },
     "execution_count": 77,
     "metadata": {},
     "output_type": "execute_result"
    }
   ],
   "source": [
    "vif = pd.DataFrame()\n",
    "vif['Features'] = X_3.columns\n",
    "vif['VIF'] = [variance_inflation_factor(X_3.values, x) for x in range(X_3.shape[1])]\n",
    "vif['VIF'] = round(vif['VIF'],2)\n",
    "vif = vif.sort_values(by = 'VIF', ascending = False)\n",
    "vif"
   ]
  },
  {
   "cell_type": "code",
   "execution_count": 78,
   "metadata": {},
   "outputs": [
    {
     "name": "stdout",
     "output_type": "stream",
     "text": [
      "                 Generalized Linear Model Regression Results                  \n",
      "==============================================================================\n",
      "Dep. Variable:              Converted   No. Observations:                 5476\n",
      "Model:                            GLM   Df Residuals:                     5465\n",
      "Model Family:                Gaussian   Df Model:                           10\n",
      "Link Function:               identity   Scale:                         0.14953\n",
      "Method:                          IRLS   Log-Likelihood:                -2561.7\n",
      "Date:                Sun, 19 Jul 2020   Deviance:                       817.19\n",
      "Time:                        12:40:33   Pearson chi2:                     817.\n",
      "No. Iterations:                     3                                         \n",
      "Covariance Type:            nonrobust                                         \n",
      "=======================================================================================================\n",
      "                                          coef    std err          z      P>|z|      [0.025      0.975]\n",
      "-------------------------------------------------------------------------------------------------------\n",
      "const                                   0.3196      0.017     18.470      0.000       0.286       0.354\n",
      "Do Not Email                           -0.1717      0.021     -8.322      0.000      -0.212      -0.131\n",
      "Total Time Spent on Website             0.7452      0.023     32.804      0.000       0.701       0.790\n",
      "Page Views Per Visit                   -0.1262      0.029     -4.401      0.000      -0.182      -0.070\n",
      "Working                                 0.3053      0.019     16.069      0.000       0.268       0.343\n",
      "Lead Origin_Landing Page Submission    -0.1378      0.015     -8.899      0.000      -0.168      -0.107\n",
      "Lead Origin_Lead Add Form               0.4460      0.021     21.473      0.000       0.405       0.487\n",
      "Specialisation_Others                  -0.0472      0.014     -3.349      0.001      -0.075      -0.020\n",
      "Activity_Other                          0.1047      0.045      2.341      0.019       0.017       0.192\n",
      "Activity_Phone                          0.2168      0.014     15.652      0.000       0.190       0.244\n",
      "Activity_Website                       -0.1011      0.013     -7.962      0.000      -0.126      -0.076\n",
      "=======================================================================================================\n"
     ]
    }
   ],
   "source": [
    "X_4 = X_3.drop('TotalVisits', axis = 1)\n",
    "X_4_sm = sm.add_constant(X_4)\n",
    "log_model_4 = sm.GLM(Y_train, X_4_sm, families = sm.families.Binomial()).fit()\n",
    "print(log_model_4.summary())"
   ]
  },
  {
   "cell_type": "code",
   "execution_count": 79,
   "metadata": {},
   "outputs": [
    {
     "data": {
      "text/html": [
       "<div>\n",
       "<style scoped>\n",
       "    .dataframe tbody tr th:only-of-type {\n",
       "        vertical-align: middle;\n",
       "    }\n",
       "\n",
       "    .dataframe tbody tr th {\n",
       "        vertical-align: top;\n",
       "    }\n",
       "\n",
       "    .dataframe thead th {\n",
       "        text-align: right;\n",
       "    }\n",
       "</style>\n",
       "<table border=\"1\" class=\"dataframe\">\n",
       "  <thead>\n",
       "    <tr style=\"text-align: right;\">\n",
       "      <th></th>\n",
       "      <th>Features</th>\n",
       "      <th>VIF</th>\n",
       "    </tr>\n",
       "  </thead>\n",
       "  <tbody>\n",
       "    <tr>\n",
       "      <td>4</td>\n",
       "      <td>Lead Origin_Landing Page Submission</td>\n",
       "      <td>3.63</td>\n",
       "    </tr>\n",
       "    <tr>\n",
       "      <td>2</td>\n",
       "      <td>Page Views Per Visit</td>\n",
       "      <td>3.56</td>\n",
       "    </tr>\n",
       "    <tr>\n",
       "      <td>1</td>\n",
       "      <td>Total Time Spent on Website</td>\n",
       "      <td>2.09</td>\n",
       "    </tr>\n",
       "    <tr>\n",
       "      <td>9</td>\n",
       "      <td>Activity_Website</td>\n",
       "      <td>1.94</td>\n",
       "    </tr>\n",
       "    <tr>\n",
       "      <td>8</td>\n",
       "      <td>Activity_Phone</td>\n",
       "      <td>1.69</td>\n",
       "    </tr>\n",
       "    <tr>\n",
       "      <td>6</td>\n",
       "      <td>Specialisation_Others</td>\n",
       "      <td>1.51</td>\n",
       "    </tr>\n",
       "    <tr>\n",
       "      <td>0</td>\n",
       "      <td>Do Not Email</td>\n",
       "      <td>1.32</td>\n",
       "    </tr>\n",
       "    <tr>\n",
       "      <td>5</td>\n",
       "      <td>Lead Origin_Lead Add Form</td>\n",
       "      <td>1.22</td>\n",
       "    </tr>\n",
       "    <tr>\n",
       "      <td>7</td>\n",
       "      <td>Activity_Other</td>\n",
       "      <td>1.20</td>\n",
       "    </tr>\n",
       "    <tr>\n",
       "      <td>3</td>\n",
       "      <td>Working</td>\n",
       "      <td>1.18</td>\n",
       "    </tr>\n",
       "  </tbody>\n",
       "</table>\n",
       "</div>"
      ],
      "text/plain": [
       "                              Features   VIF\n",
       "4  Lead Origin_Landing Page Submission  3.63\n",
       "2                 Page Views Per Visit  3.56\n",
       "1          Total Time Spent on Website  2.09\n",
       "9                     Activity_Website  1.94\n",
       "8                       Activity_Phone  1.69\n",
       "6                Specialisation_Others  1.51\n",
       "0                         Do Not Email  1.32\n",
       "5            Lead Origin_Lead Add Form  1.22\n",
       "7                       Activity_Other  1.20\n",
       "3                              Working  1.18"
      ]
     },
     "execution_count": 79,
     "metadata": {},
     "output_type": "execute_result"
    }
   ],
   "source": [
    "vif = pd.DataFrame()\n",
    "vif['Features'] = X_4.columns\n",
    "vif['VIF'] = [variance_inflation_factor(X_4.values, x) for x in range(X_4.shape[1])]\n",
    "vif['VIF'] = round(vif['VIF'],2)\n",
    "vif = vif.sort_values(by = 'VIF', ascending = False)\n",
    "vif"
   ]
  },
  {
   "cell_type": "code",
   "execution_count": 80,
   "metadata": {},
   "outputs": [
    {
     "data": {
      "text/html": [
       "<div>\n",
       "<style scoped>\n",
       "    .dataframe tbody tr th:only-of-type {\n",
       "        vertical-align: middle;\n",
       "    }\n",
       "\n",
       "    .dataframe tbody tr th {\n",
       "        vertical-align: top;\n",
       "    }\n",
       "\n",
       "    .dataframe thead th {\n",
       "        text-align: right;\n",
       "    }\n",
       "</style>\n",
       "<table border=\"1\" class=\"dataframe\">\n",
       "  <thead>\n",
       "    <tr style=\"text-align: right;\">\n",
       "      <th></th>\n",
       "      <th>Prospect ID</th>\n",
       "      <th>Converted</th>\n",
       "      <th>Score</th>\n",
       "    </tr>\n",
       "  </thead>\n",
       "  <tbody>\n",
       "    <tr>\n",
       "      <td>0</td>\n",
       "      <td>b20e6cce-378d-42cf-8575-8278f26616e2</td>\n",
       "      <td>0</td>\n",
       "      <td>0.126992</td>\n",
       "    </tr>\n",
       "    <tr>\n",
       "      <td>1</td>\n",
       "      <td>e89bab68-d8cf-4844-82bf-66dd87ce03f1</td>\n",
       "      <td>0</td>\n",
       "      <td>0.207414</td>\n",
       "    </tr>\n",
       "    <tr>\n",
       "      <td>2</td>\n",
       "      <td>0201d731-7b43-477b-8d0f-4e018615c548</td>\n",
       "      <td>1</td>\n",
       "      <td>1.002673</td>\n",
       "    </tr>\n",
       "    <tr>\n",
       "      <td>3</td>\n",
       "      <td>8e00d156-a96e-4861-aa15-ed6b248e8235</td>\n",
       "      <td>1</td>\n",
       "      <td>0.935232</td>\n",
       "    </tr>\n",
       "    <tr>\n",
       "      <td>4</td>\n",
       "      <td>33074f07-98eb-4193-9c75-fe317a088f8e</td>\n",
       "      <td>0</td>\n",
       "      <td>0.682363</td>\n",
       "    </tr>\n",
       "  </tbody>\n",
       "</table>\n",
       "</div>"
      ],
      "text/plain": [
       "                            Prospect ID  Converted     Score\n",
       "0  b20e6cce-378d-42cf-8575-8278f26616e2          0  0.126992\n",
       "1  e89bab68-d8cf-4844-82bf-66dd87ce03f1          0  0.207414\n",
       "2  0201d731-7b43-477b-8d0f-4e018615c548          1  1.002673\n",
       "3  8e00d156-a96e-4861-aa15-ed6b248e8235          1  0.935232\n",
       "4  33074f07-98eb-4193-9c75-fe317a088f8e          0  0.682363"
      ]
     },
     "execution_count": 80,
     "metadata": {},
     "output_type": "execute_result"
    }
   ],
   "source": [
    "# Predicting using the log_model_4\n",
    "Y_train_pred = log_model_4.predict(X_4_sm)\n",
    "train = pd.DataFrame()\n",
    "train['Prospect ID'] = df_train['Prospect ID'].values\n",
    "train['Converted'] = Y_train.values\n",
    "train['Score'] = Y_train_pred.values\n",
    "train.head()"
   ]
  },
  {
   "cell_type": "markdown",
   "metadata": {},
   "source": [
    "##### Explanation\n",
    "log_model_4 is the final model. The P value for all the features is less than 0.05 (< 0.05) which makes all the features significant in the model. Also the VIF scores for these variables is less than 5. Which means that the features are independant and there is no multicollinearity between them."
   ]
  },
  {
   "cell_type": "markdown",
   "metadata": {},
   "source": [
    "## Task 4: Model Evaluation\n",
    "- ### Subtask 4.1: Finding the Optimal Threshold"
   ]
  },
  {
   "cell_type": "code",
   "execution_count": 81,
   "metadata": {},
   "outputs": [
    {
     "data": {
      "text/html": [
       "<div>\n",
       "<style scoped>\n",
       "    .dataframe tbody tr th:only-of-type {\n",
       "        vertical-align: middle;\n",
       "    }\n",
       "\n",
       "    .dataframe tbody tr th {\n",
       "        vertical-align: top;\n",
       "    }\n",
       "\n",
       "    .dataframe thead th {\n",
       "        text-align: right;\n",
       "    }\n",
       "</style>\n",
       "<table border=\"1\" class=\"dataframe\">\n",
       "  <thead>\n",
       "    <tr style=\"text-align: right;\">\n",
       "      <th></th>\n",
       "      <th>Converted</th>\n",
       "      <th>Score</th>\n",
       "      <th>0.0</th>\n",
       "      <th>0.1</th>\n",
       "      <th>0.2</th>\n",
       "      <th>0.3</th>\n",
       "      <th>0.4</th>\n",
       "      <th>0.5</th>\n",
       "      <th>0.6</th>\n",
       "      <th>0.7</th>\n",
       "      <th>0.8</th>\n",
       "      <th>0.9</th>\n",
       "    </tr>\n",
       "  </thead>\n",
       "  <tbody>\n",
       "    <tr>\n",
       "      <td>0</td>\n",
       "      <td>0</td>\n",
       "      <td>0.126992</td>\n",
       "      <td>1</td>\n",
       "      <td>1</td>\n",
       "      <td>0</td>\n",
       "      <td>0</td>\n",
       "      <td>0</td>\n",
       "      <td>0</td>\n",
       "      <td>0</td>\n",
       "      <td>0</td>\n",
       "      <td>0</td>\n",
       "      <td>0</td>\n",
       "    </tr>\n",
       "    <tr>\n",
       "      <td>1</td>\n",
       "      <td>0</td>\n",
       "      <td>0.207414</td>\n",
       "      <td>1</td>\n",
       "      <td>1</td>\n",
       "      <td>1</td>\n",
       "      <td>0</td>\n",
       "      <td>0</td>\n",
       "      <td>0</td>\n",
       "      <td>0</td>\n",
       "      <td>0</td>\n",
       "      <td>0</td>\n",
       "      <td>0</td>\n",
       "    </tr>\n",
       "    <tr>\n",
       "      <td>2</td>\n",
       "      <td>1</td>\n",
       "      <td>1.002673</td>\n",
       "      <td>1</td>\n",
       "      <td>1</td>\n",
       "      <td>1</td>\n",
       "      <td>1</td>\n",
       "      <td>1</td>\n",
       "      <td>1</td>\n",
       "      <td>1</td>\n",
       "      <td>1</td>\n",
       "      <td>1</td>\n",
       "      <td>1</td>\n",
       "    </tr>\n",
       "    <tr>\n",
       "      <td>3</td>\n",
       "      <td>1</td>\n",
       "      <td>0.935232</td>\n",
       "      <td>1</td>\n",
       "      <td>1</td>\n",
       "      <td>1</td>\n",
       "      <td>1</td>\n",
       "      <td>1</td>\n",
       "      <td>1</td>\n",
       "      <td>1</td>\n",
       "      <td>1</td>\n",
       "      <td>1</td>\n",
       "      <td>1</td>\n",
       "    </tr>\n",
       "    <tr>\n",
       "      <td>4</td>\n",
       "      <td>0</td>\n",
       "      <td>0.682363</td>\n",
       "      <td>1</td>\n",
       "      <td>1</td>\n",
       "      <td>1</td>\n",
       "      <td>1</td>\n",
       "      <td>1</td>\n",
       "      <td>1</td>\n",
       "      <td>1</td>\n",
       "      <td>0</td>\n",
       "      <td>0</td>\n",
       "      <td>0</td>\n",
       "    </tr>\n",
       "  </tbody>\n",
       "</table>\n",
       "</div>"
      ],
      "text/plain": [
       "   Converted     Score  0.0  0.1  0.2  0.3  0.4  0.5  0.6  0.7  0.8  0.9\n",
       "0          0  0.126992    1    1    0    0    0    0    0    0    0    0\n",
       "1          0  0.207414    1    1    1    0    0    0    0    0    0    0\n",
       "2          1  1.002673    1    1    1    1    1    1    1    1    1    1\n",
       "3          1  0.935232    1    1    1    1    1    1    1    1    1    1\n",
       "4          0  0.682363    1    1    1    1    1    1    1    0    0    0"
      ]
     },
     "execution_count": 81,
     "metadata": {},
     "output_type": "execute_result"
    }
   ],
   "source": [
    "cutoff = pd.DataFrame()\n",
    "cutoff['Converted'] = Y_train.values\n",
    "cutoff['Score'] = Y_train_pred.values\n",
    "num = [float(x)/10 for x in range(10)]\n",
    "for x in num:\n",
    "    cutoff[x] = cutoff['Score'].map(lambda i: 1 if i > x else 0)\n",
    "cutoff.head()"
   ]
  },
  {
   "cell_type": "code",
   "execution_count": 82,
   "metadata": {},
   "outputs": [],
   "source": [
    "limits = pd.DataFrame(columns = ['Probability', 'Accuracy', 'Sensitivity', 'FPR', 'Specificity', 'FNR'])\n",
    "for x in num:\n",
    "    matrix = metrics.confusion_matrix(cutoff['Converted'], cutoff[x])\n",
    "    total = sum(sum(matrix))\n",
    "    Accuracy = (matrix[0,0]+matrix[1,1])/total\n",
    "    Sensitivity = matrix[1,1]/(matrix[1,1]+matrix[1,0])\n",
    "    FPR = matrix[0,1]/(matrix[0,1]+matrix[0,0])\n",
    "    Specificity = matrix[0,0]/(matrix[0,0]+matrix[0,1])\n",
    "    FNR = matrix[1,0]/(matrix[1,0]+matrix[1,1])\n",
    "    limits.loc[x] = [x, Accuracy, Sensitivity, FPR, Specificity, FNR]"
   ]
  },
  {
   "cell_type": "code",
   "execution_count": 83,
   "metadata": {},
   "outputs": [
    {
     "data": {
      "text/html": [
       "<div>\n",
       "<style scoped>\n",
       "    .dataframe tbody tr th:only-of-type {\n",
       "        vertical-align: middle;\n",
       "    }\n",
       "\n",
       "    .dataframe tbody tr th {\n",
       "        vertical-align: top;\n",
       "    }\n",
       "\n",
       "    .dataframe thead th {\n",
       "        text-align: right;\n",
       "    }\n",
       "</style>\n",
       "<table border=\"1\" class=\"dataframe\">\n",
       "  <thead>\n",
       "    <tr style=\"text-align: right;\">\n",
       "      <th></th>\n",
       "      <th>Probability</th>\n",
       "      <th>Accuracy</th>\n",
       "      <th>Sensitivity</th>\n",
       "      <th>FPR</th>\n",
       "      <th>Specificity</th>\n",
       "      <th>FNR</th>\n",
       "    </tr>\n",
       "  </thead>\n",
       "  <tbody>\n",
       "    <tr>\n",
       "      <td>0.0</td>\n",
       "      <td>0.0</td>\n",
       "      <td>0.470599</td>\n",
       "      <td>0.999157</td>\n",
       "      <td>0.933312</td>\n",
       "      <td>0.066688</td>\n",
       "      <td>0.000843</td>\n",
       "    </tr>\n",
       "    <tr>\n",
       "      <td>0.1</td>\n",
       "      <td>0.1</td>\n",
       "      <td>0.525383</td>\n",
       "      <td>0.986931</td>\n",
       "      <td>0.827320</td>\n",
       "      <td>0.172680</td>\n",
       "      <td>0.013069</td>\n",
       "    </tr>\n",
       "    <tr>\n",
       "      <td>0.2</td>\n",
       "      <td>0.2</td>\n",
       "      <td>0.671110</td>\n",
       "      <td>0.946880</td>\n",
       "      <td>0.539626</td>\n",
       "      <td>0.460374</td>\n",
       "      <td>0.053120</td>\n",
       "    </tr>\n",
       "    <tr>\n",
       "      <td>0.3</td>\n",
       "      <td>0.3</td>\n",
       "      <td>0.768444</td>\n",
       "      <td>0.887858</td>\n",
       "      <td>0.322809</td>\n",
       "      <td>0.677191</td>\n",
       "      <td>0.112142</td>\n",
       "    </tr>\n",
       "    <tr>\n",
       "      <td>0.4</td>\n",
       "      <td>0.4</td>\n",
       "      <td>0.791819</td>\n",
       "      <td>0.813659</td>\n",
       "      <td>0.224871</td>\n",
       "      <td>0.775129</td>\n",
       "      <td>0.186341</td>\n",
       "    </tr>\n",
       "    <tr>\n",
       "      <td>0.5</td>\n",
       "      <td>0.5</td>\n",
       "      <td>0.791636</td>\n",
       "      <td>0.682968</td>\n",
       "      <td>0.125322</td>\n",
       "      <td>0.874678</td>\n",
       "      <td>0.317032</td>\n",
       "    </tr>\n",
       "    <tr>\n",
       "      <td>0.6</td>\n",
       "      <td>0.6</td>\n",
       "      <td>0.766070</td>\n",
       "      <td>0.560287</td>\n",
       "      <td>0.076675</td>\n",
       "      <td>0.923325</td>\n",
       "      <td>0.439713</td>\n",
       "    </tr>\n",
       "    <tr>\n",
       "      <td>0.7</td>\n",
       "      <td>0.7</td>\n",
       "      <td>0.730095</td>\n",
       "      <td>0.432125</td>\n",
       "      <td>0.042204</td>\n",
       "      <td>0.957796</td>\n",
       "      <td>0.567875</td>\n",
       "    </tr>\n",
       "    <tr>\n",
       "      <td>0.8</td>\n",
       "      <td>0.8</td>\n",
       "      <td>0.681519</td>\n",
       "      <td>0.288364</td>\n",
       "      <td>0.018041</td>\n",
       "      <td>0.981959</td>\n",
       "      <td>0.711636</td>\n",
       "    </tr>\n",
       "    <tr>\n",
       "      <td>0.9</td>\n",
       "      <td>0.9</td>\n",
       "      <td>0.651936</td>\n",
       "      <td>0.208685</td>\n",
       "      <td>0.009343</td>\n",
       "      <td>0.990657</td>\n",
       "      <td>0.791315</td>\n",
       "    </tr>\n",
       "  </tbody>\n",
       "</table>\n",
       "</div>"
      ],
      "text/plain": [
       "     Probability  Accuracy  Sensitivity       FPR  Specificity       FNR\n",
       "0.0          0.0  0.470599     0.999157  0.933312     0.066688  0.000843\n",
       "0.1          0.1  0.525383     0.986931  0.827320     0.172680  0.013069\n",
       "0.2          0.2  0.671110     0.946880  0.539626     0.460374  0.053120\n",
       "0.3          0.3  0.768444     0.887858  0.322809     0.677191  0.112142\n",
       "0.4          0.4  0.791819     0.813659  0.224871     0.775129  0.186341\n",
       "0.5          0.5  0.791636     0.682968  0.125322     0.874678  0.317032\n",
       "0.6          0.6  0.766070     0.560287  0.076675     0.923325  0.439713\n",
       "0.7          0.7  0.730095     0.432125  0.042204     0.957796  0.567875\n",
       "0.8          0.8  0.681519     0.288364  0.018041     0.981959  0.711636\n",
       "0.9          0.9  0.651936     0.208685  0.009343     0.990657  0.791315"
      ]
     },
     "execution_count": 83,
     "metadata": {},
     "output_type": "execute_result"
    }
   ],
   "source": [
    "limits"
   ]
  },
  {
   "cell_type": "code",
   "execution_count": 84,
   "metadata": {},
   "outputs": [
    {
     "data": {
      "image/png": "[encoded data removed]",
      "text/plain": [
       "<Figure size 432x288 with 1 Axes>"
      ]
     },
     "metadata": {
      "needs_background": "light"
     },
     "output_type": "display_data"
    }
   ],
   "source": [
    "limits.plot.line(x = 'Probability', y = ['Accuracy', 'Sensitivity', 'Specificity'])\n",
    "plt.show()"
   ]
  },
  {
   "cell_type": "markdown",
   "metadata": {},
   "source": [
    "##### Explanation\n",
    "The Optimal Thrushold limit is a point where 'Accuracy', 'Sensitivity' and 'Specificity are fairly decent and almost equal. It is usually the intersection point on the graph. Hence the optimal thrushold limit is 0.4"
   ]
  },
  {
   "cell_type": "markdown",
   "metadata": {},
   "source": [
    "- ### Subtask 4.2: ROC - Receiver operating characteristic Curve"
   ]
  },
  {
   "cell_type": "code",
   "execution_count": 85,
   "metadata": {},
   "outputs": [],
   "source": [
    "def roc (actual, prob):\n",
    "    FPR, TPR, threshold = metrics.roc_curve(actual, prob, drop_intermediate = False)\n",
    "    auc_score = metrics.roc_auc_score(actual, prob)\n",
    "    plt.plot(FPR, TPR, label = 'ROC curve (area = %0.2f)' %auc_score)\n",
    "    plt.legend(loc = 'lowwer right')\n",
    "    plt.xlabel('False Positive Rate')\n",
    "    plt.ylabel('True Positive Rate')\n",
    "    plt.title('Receiver operating characteristic Curve')\n",
    "    plt.show()\n",
    "    return None"
   ]
  },
  {
   "cell_type": "code",
   "execution_count": 86,
   "metadata": {},
   "outputs": [
    {
     "data": {
      "image/png": "[encoded data removed]",
      "text/plain": [
       "<Figure size 432x288 with 1 Axes>"
      ]
     },
     "metadata": {
      "needs_background": "light"
     },
     "output_type": "display_data"
    }
   ],
   "source": [
    "FPR, TPR, threshold = metrics.roc_curve(cutoff['Converted'], cutoff['Score'], drop_intermediate = False)\n",
    "roc(cutoff['Converted'], cutoff['Score'])"
   ]
  },
  {
   "cell_type": "markdown",
   "metadata": {},
   "source": [
    "##### Explanation\n",
    "The model has achieved the ROC score of 0.87 and also from the above graph we can observe that the curve is hugging the TPR. This means that the model is able to identify the lead conversions correctly by reduce the FPR."
   ]
  },
  {
   "cell_type": "markdown",
   "metadata": {},
   "source": [
    "#### Problem Statement 2\n",
    "X Education has a period of 2 months every year during which they hire some interns. The sales team, in particular, has around 10 interns allotted to them. So during this phase, they wish to make the lead conversion more aggressive. So they want almost all of the potential leads to be converted and hence, want to make phone calls to as much of such people as possible."
   ]
  },
  {
   "cell_type": "code",
   "execution_count": 87,
   "metadata": {},
   "outputs": [
    {
     "data": {
      "text/html": [
       "<div>\n",
       "<style scoped>\n",
       "    .dataframe tbody tr th:only-of-type {\n",
       "        vertical-align: middle;\n",
       "    }\n",
       "\n",
       "    .dataframe tbody tr th {\n",
       "        vertical-align: top;\n",
       "    }\n",
       "\n",
       "    .dataframe thead th {\n",
       "        text-align: right;\n",
       "    }\n",
       "</style>\n",
       "<table border=\"1\" class=\"dataframe\">\n",
       "  <thead>\n",
       "    <tr style=\"text-align: right;\">\n",
       "      <th></th>\n",
       "      <th>Probability</th>\n",
       "      <th>Accuracy</th>\n",
       "      <th>Sensitivity</th>\n",
       "      <th>FPR</th>\n",
       "      <th>Specificity</th>\n",
       "      <th>FNR</th>\n",
       "    </tr>\n",
       "  </thead>\n",
       "  <tbody>\n",
       "    <tr>\n",
       "      <td>0.3</td>\n",
       "      <td>0.3</td>\n",
       "      <td>0.768444</td>\n",
       "      <td>0.887858</td>\n",
       "      <td>0.322809</td>\n",
       "      <td>0.677191</td>\n",
       "      <td>0.112142</td>\n",
       "    </tr>\n",
       "  </tbody>\n",
       "</table>\n",
       "</div>"
      ],
      "text/plain": [
       "     Probability  Accuracy  Sensitivity       FPR  Specificity       FNR\n",
       "0.3          0.3  0.768444     0.887858  0.322809     0.677191  0.112142"
      ]
     },
     "execution_count": 87,
     "metadata": {},
     "output_type": "execute_result"
    }
   ],
   "source": [
    "limits.loc[limits['Probability'] == 0.3]"
   ]
  },
  {
   "cell_type": "code",
   "execution_count": 149,
   "metadata": {},
   "outputs": [
    {
     "data": {
      "text/html": [
       "<div>\n",
       "<style scoped>\n",
       "    .dataframe tbody tr th:only-of-type {\n",
       "        vertical-align: middle;\n",
       "    }\n",
       "\n",
       "    .dataframe tbody tr th {\n",
       "        vertical-align: top;\n",
       "    }\n",
       "\n",
       "    .dataframe thead th {\n",
       "        text-align: right;\n",
       "    }\n",
       "</style>\n",
       "<table border=\"1\" class=\"dataframe\">\n",
       "  <thead>\n",
       "    <tr style=\"text-align: right;\">\n",
       "      <th></th>\n",
       "      <th>Prospect ID</th>\n",
       "      <th>Converted</th>\n",
       "      <th>Score</th>\n",
       "      <th>Max Leads</th>\n",
       "      <th>Hot Leads</th>\n",
       "    </tr>\n",
       "  </thead>\n",
       "  <tbody>\n",
       "    <tr>\n",
       "      <td>0</td>\n",
       "      <td>b20e6cce-378d-42cf-8575-8278f26616e2</td>\n",
       "      <td>0</td>\n",
       "      <td>0.13</td>\n",
       "      <td>0</td>\n",
       "      <td>0</td>\n",
       "    </tr>\n",
       "    <tr>\n",
       "      <td>1</td>\n",
       "      <td>e89bab68-d8cf-4844-82bf-66dd87ce03f1</td>\n",
       "      <td>0</td>\n",
       "      <td>0.21</td>\n",
       "      <td>0</td>\n",
       "      <td>0</td>\n",
       "    </tr>\n",
       "    <tr>\n",
       "      <td>2</td>\n",
       "      <td>0201d731-7b43-477b-8d0f-4e018615c548</td>\n",
       "      <td>1</td>\n",
       "      <td>1.00</td>\n",
       "      <td>1</td>\n",
       "      <td>1</td>\n",
       "    </tr>\n",
       "    <tr>\n",
       "      <td>3</td>\n",
       "      <td>8e00d156-a96e-4861-aa15-ed6b248e8235</td>\n",
       "      <td>1</td>\n",
       "      <td>0.94</td>\n",
       "      <td>1</td>\n",
       "      <td>1</td>\n",
       "    </tr>\n",
       "    <tr>\n",
       "      <td>4</td>\n",
       "      <td>33074f07-98eb-4193-9c75-fe317a088f8e</td>\n",
       "      <td>0</td>\n",
       "      <td>0.68</td>\n",
       "      <td>1</td>\n",
       "      <td>1</td>\n",
       "    </tr>\n",
       "  </tbody>\n",
       "</table>\n",
       "</div>"
      ],
      "text/plain": [
       "                            Prospect ID  Converted  Score  Max Leads  \\\n",
       "0  b20e6cce-378d-42cf-8575-8278f26616e2          0   0.13          0   \n",
       "1  e89bab68-d8cf-4844-82bf-66dd87ce03f1          0   0.21          0   \n",
       "2  0201d731-7b43-477b-8d0f-4e018615c548          1   1.00          1   \n",
       "3  8e00d156-a96e-4861-aa15-ed6b248e8235          1   0.94          1   \n",
       "4  33074f07-98eb-4193-9c75-fe317a088f8e          0   0.68          1   \n",
       "\n",
       "   Hot Leads  \n",
       "0          0  \n",
       "1          0  \n",
       "2          1  \n",
       "3          1  \n",
       "4          1  "
      ]
     },
     "execution_count": 149,
     "metadata": {},
     "output_type": "execute_result"
    }
   ],
   "source": [
    "train['Max Leads'] = train['Score'].map(lambda x: 1 if x > 0.3 else 0)\n",
    "train.head()"
   ]
  },
  {
   "cell_type": "code",
   "execution_count": 91,
   "metadata": {},
   "outputs": [
    {
     "data": {
      "text/plain": [
       "1    3108\n",
       "0    2368\n",
       "Name: Max Leads, dtype: int64"
      ]
     },
     "execution_count": 91,
     "metadata": {},
     "output_type": "execute_result"
    }
   ],
   "source": [
    "train['Max Leads'].value_counts()"
   ]
  },
  {
   "cell_type": "markdown",
   "metadata": {},
   "source": [
    "##### Explanation\n",
    "At threshold of 0.3 the model is able to predict the maximum potential leads with an Accuracy = 0.77, Sensitivity = 0.89 and  Specificity = 0.68"
   ]
  },
  {
   "cell_type": "markdown",
   "metadata": {},
   "source": [
    "#### Problem Statement 3\n",
    "Similarly, at times, the company reaches its target for a quarter before the deadline. During this time, the company wants the sales team to focus on some new work as well. So during this time, the company’s aim is to not make phone calls unless it’s extremely necessary, i.e. they want to minimize the rate of useless phone calls. Suggest a strategy they should employ at this stage."
   ]
  },
  {
   "cell_type": "code",
   "execution_count": null,
   "metadata": {},
   "outputs": [],
   "source": [
    "limits.loc[limits['Probability'] == 0.5]"
   ]
  },
  {
   "cell_type": "code",
   "execution_count": 92,
   "metadata": {},
   "outputs": [
    {
     "data": {
      "text/html": [
       "<div>\n",
       "<style scoped>\n",
       "    .dataframe tbody tr th:only-of-type {\n",
       "        vertical-align: middle;\n",
       "    }\n",
       "\n",
       "    .dataframe tbody tr th {\n",
       "        vertical-align: top;\n",
       "    }\n",
       "\n",
       "    .dataframe thead th {\n",
       "        text-align: right;\n",
       "    }\n",
       "</style>\n",
       "<table border=\"1\" class=\"dataframe\">\n",
       "  <thead>\n",
       "    <tr style=\"text-align: right;\">\n",
       "      <th></th>\n",
       "      <th>Prospect ID</th>\n",
       "      <th>Converted</th>\n",
       "      <th>Score</th>\n",
       "      <th>Max Leads</th>\n",
       "      <th>Hot Leads</th>\n",
       "    </tr>\n",
       "  </thead>\n",
       "  <tbody>\n",
       "    <tr>\n",
       "      <td>0</td>\n",
       "      <td>b20e6cce-378d-42cf-8575-8278f26616e2</td>\n",
       "      <td>0</td>\n",
       "      <td>0.126992</td>\n",
       "      <td>0</td>\n",
       "      <td>0</td>\n",
       "    </tr>\n",
       "    <tr>\n",
       "      <td>1</td>\n",
       "      <td>e89bab68-d8cf-4844-82bf-66dd87ce03f1</td>\n",
       "      <td>0</td>\n",
       "      <td>0.207414</td>\n",
       "      <td>0</td>\n",
       "      <td>0</td>\n",
       "    </tr>\n",
       "    <tr>\n",
       "      <td>2</td>\n",
       "      <td>0201d731-7b43-477b-8d0f-4e018615c548</td>\n",
       "      <td>1</td>\n",
       "      <td>1.002673</td>\n",
       "      <td>1</td>\n",
       "      <td>1</td>\n",
       "    </tr>\n",
       "    <tr>\n",
       "      <td>3</td>\n",
       "      <td>8e00d156-a96e-4861-aa15-ed6b248e8235</td>\n",
       "      <td>1</td>\n",
       "      <td>0.935232</td>\n",
       "      <td>1</td>\n",
       "      <td>1</td>\n",
       "    </tr>\n",
       "    <tr>\n",
       "      <td>4</td>\n",
       "      <td>33074f07-98eb-4193-9c75-fe317a088f8e</td>\n",
       "      <td>0</td>\n",
       "      <td>0.682363</td>\n",
       "      <td>1</td>\n",
       "      <td>1</td>\n",
       "    </tr>\n",
       "  </tbody>\n",
       "</table>\n",
       "</div>"
      ],
      "text/plain": [
       "                            Prospect ID  Converted     Score  Max Leads  \\\n",
       "0  b20e6cce-378d-42cf-8575-8278f26616e2          0  0.126992          0   \n",
       "1  e89bab68-d8cf-4844-82bf-66dd87ce03f1          0  0.207414          0   \n",
       "2  0201d731-7b43-477b-8d0f-4e018615c548          1  1.002673          1   \n",
       "3  8e00d156-a96e-4861-aa15-ed6b248e8235          1  0.935232          1   \n",
       "4  33074f07-98eb-4193-9c75-fe317a088f8e          0  0.682363          1   \n",
       "\n",
       "   Hot Leads  \n",
       "0          0  \n",
       "1          0  \n",
       "2          1  \n",
       "3          1  \n",
       "4          1  "
      ]
     },
     "execution_count": 92,
     "metadata": {},
     "output_type": "execute_result"
    }
   ],
   "source": [
    "train['Hot Leads'] = train['Score'].map(lambda x: 1 if x > 0.5 else 0)\n",
    "train.head()"
   ]
  },
  {
   "cell_type": "code",
   "execution_count": 93,
   "metadata": {},
   "outputs": [
    {
     "data": {
      "text/plain": [
       "0    3467\n",
       "1    2009\n",
       "Name: Hot Leads, dtype: int64"
      ]
     },
     "execution_count": 93,
     "metadata": {},
     "output_type": "execute_result"
    }
   ],
   "source": [
    "train['Hot Leads'].value_counts()"
   ]
  },
  {
   "cell_type": "markdown",
   "metadata": {},
   "source": [
    "##### Explanation:\n",
    "At threshold of 0.5 the model is able to predict the hot leads which have high conversion rate. Also it achieves the Accuracy = 0.79, Sensitivity = 0.69, FPR = 0.12 and with Specificity = 0.87"
   ]
  },
  {
   "cell_type": "markdown",
   "metadata": {},
   "source": [
    "## Task 5: Prediction on Test data\n",
    "- ### Subtask 5.1: Prediction"
   ]
  },
  {
   "cell_type": "code",
   "execution_count": 100,
   "metadata": {},
   "outputs": [],
   "source": [
    "# Rescalling of the Test data\n",
    "df_test[var] = scaler.transform(df_test[var])"
   ]
  },
  {
   "cell_type": "code",
   "execution_count": 101,
   "metadata": {},
   "outputs": [],
   "source": [
    "xedu = df_test.drop(['Prospect ID', 'Lead Number'], axis = 1)\n",
    "Y_test = xedu.pop('Converted')\n",
    "X_test = xedu"
   ]
  },
  {
   "cell_type": "code",
   "execution_count": 102,
   "metadata": {},
   "outputs": [],
   "source": [
    "# Matching with log_model_4 columns\n",
    "cols = X_4.columns\n",
    "X_test = X_test[cols]"
   ]
  },
  {
   "cell_type": "code",
   "execution_count": 103,
   "metadata": {},
   "outputs": [],
   "source": [
    "# Predicting the test data\n",
    "X_test_sm = sm.add_constant(X_test)\n",
    "Y_test_pred = log_model_4.predict(X_test_sm)"
   ]
  },
  {
   "cell_type": "code",
   "execution_count": 105,
   "metadata": {
    "scrolled": true
   },
   "outputs": [
    {
     "data": {
      "text/html": [
       "<div>\n",
       "<style scoped>\n",
       "    .dataframe tbody tr th:only-of-type {\n",
       "        vertical-align: middle;\n",
       "    }\n",
       "\n",
       "    .dataframe tbody tr th {\n",
       "        vertical-align: top;\n",
       "    }\n",
       "\n",
       "    .dataframe thead th {\n",
       "        text-align: right;\n",
       "    }\n",
       "</style>\n",
       "<table border=\"1\" class=\"dataframe\">\n",
       "  <thead>\n",
       "    <tr style=\"text-align: right;\">\n",
       "      <th></th>\n",
       "      <th>Prospect ID</th>\n",
       "      <th>Converted</th>\n",
       "      <th>Score</th>\n",
       "      <th>Max Lead</th>\n",
       "      <th>Hot Lead</th>\n",
       "    </tr>\n",
       "  </thead>\n",
       "  <tbody>\n",
       "    <tr>\n",
       "      <td>0</td>\n",
       "      <td>3e3dad74-fbb0-4b98-8a0d-a391383cd599</td>\n",
       "      <td>0</td>\n",
       "      <td>0.407719</td>\n",
       "      <td>1</td>\n",
       "      <td>0</td>\n",
       "    </tr>\n",
       "    <tr>\n",
       "      <td>1</td>\n",
       "      <td>b967b0c5-e38d-4d25-9f68-ccea5a003ad1</td>\n",
       "      <td>0</td>\n",
       "      <td>0.146632</td>\n",
       "      <td>0</td>\n",
       "      <td>0</td>\n",
       "    </tr>\n",
       "    <tr>\n",
       "      <td>2</td>\n",
       "      <td>82c002cd-71fb-45c0-b256-94b9488ad8bd</td>\n",
       "      <td>1</td>\n",
       "      <td>0.540112</td>\n",
       "      <td>1</td>\n",
       "      <td>1</td>\n",
       "    </tr>\n",
       "    <tr>\n",
       "      <td>3</td>\n",
       "      <td>7f3cc8e2-2220-4cb0-8341-e0d9101f7465</td>\n",
       "      <td>0</td>\n",
       "      <td>0.043211</td>\n",
       "      <td>0</td>\n",
       "      <td>0</td>\n",
       "    </tr>\n",
       "    <tr>\n",
       "      <td>4</td>\n",
       "      <td>267dbbf0-4cb3-4322-8f38-6520ed556883</td>\n",
       "      <td>1</td>\n",
       "      <td>0.390324</td>\n",
       "      <td>1</td>\n",
       "      <td>0</td>\n",
       "    </tr>\n",
       "  </tbody>\n",
       "</table>\n",
       "</div>"
      ],
      "text/plain": [
       "                            Prospect ID  Converted     Score  Max Lead  \\\n",
       "0  3e3dad74-fbb0-4b98-8a0d-a391383cd599          0  0.407719         1   \n",
       "1  b967b0c5-e38d-4d25-9f68-ccea5a003ad1          0  0.146632         0   \n",
       "2  82c002cd-71fb-45c0-b256-94b9488ad8bd          1  0.540112         1   \n",
       "3  7f3cc8e2-2220-4cb0-8341-e0d9101f7465          0  0.043211         0   \n",
       "4  267dbbf0-4cb3-4322-8f38-6520ed556883          1  0.390324         1   \n",
       "\n",
       "   Hot Lead  \n",
       "0         0  \n",
       "1         0  \n",
       "2         1  \n",
       "3         0  \n",
       "4         0  "
      ]
     },
     "execution_count": 105,
     "metadata": {},
     "output_type": "execute_result"
    }
   ],
   "source": [
    "test = pd.DataFrame()\n",
    "test['Prospect ID'] = df_test['Prospect ID'].values\n",
    "test['Converted'] = Y_test.values\n",
    "test['Score'] = Y_test_pred.values\n",
    "test['Max Lead'] = test['Score'].map(lambda x: 1 if x >= 0.3 else 0)\n",
    "test['Hot Lead'] = test['Score'].map(lambda x: 1 if x >= 0.5 else 0)\n",
    "test.head()"
   ]
  },
  {
   "cell_type": "markdown",
   "metadata": {},
   "source": [
    "### Plotting ROC curve for test data set."
   ]
  },
  {
   "cell_type": "code",
   "execution_count": 125,
   "metadata": {},
   "outputs": [],
   "source": [
    "def draw_roc(actual, probs):\n",
    "    fpr,tpr,thresholds = metrics.roc_curve(actual,probs,drop_intermediate = True)\n",
    "    auc_score = metrics.roc_auc_score(actual,probs)\n",
    "    plt.plot(fpr, tpr, label = 'ROC curve (area = %0.2f)' % auc_score)\n",
    "    plt.plot([0,1],[0,1], 'k--')\n",
    "    plt.xlim([0.0,1.0])\n",
    "    plt.ylim([0.0,1.05])\n",
    "    \n",
    "    return None"
   ]
  },
  {
   "cell_type": "code",
   "execution_count": 128,
   "metadata": {},
   "outputs": [],
   "source": [
    "fpr, tpr, thresholds = metrics.roc_curve(test.Converted, test.Score)"
   ]
  },
  {
   "cell_type": "code",
   "execution_count": 130,
   "metadata": {
    "scrolled": true
   },
   "outputs": [
    {
     "data": {
      "image/png": "[encoded data removed]",
      "text/plain": [
       "<Figure size 432x288 with 1 Axes>"
      ]
     },
     "metadata": {
      "needs_background": "light"
     },
     "output_type": "display_data"
    }
   ],
   "source": [
    "draw_roc(test.Converted, test.Score)"
   ]
  },
  {
   "cell_type": "markdown",
   "metadata": {},
   "source": [
    "### Calculating AUC(GINI)"
   ]
  },
  {
   "cell_type": "code",
   "execution_count": 131,
   "metadata": {
    "scrolled": true
   },
   "outputs": [
    {
     "data": {
      "text/plain": [
       "0.8595868449307975"
      ]
     },
     "execution_count": 131,
     "metadata": {},
     "output_type": "execute_result"
    }
   ],
   "source": [
    "# AUC score\n",
    "metrics.roc_auc_score(test['Converted'], test['Score'])"
   ]
  },
  {
   "cell_type": "markdown",
   "metadata": {},
   "source": [
    "**_As a rule of thumb, an AUC can be classified as follows:_**\n",
    "\n",
    "0.90 - 1.00 = excellent\n",
    "\n",
    "0.80 - 0.90 = good\n",
    "\n",
    "0.70 - 0.80 = fair\n",
    "\n",
    "0.60 - 0.70 = poor\n",
    "\n",
    "0.50 - 0.60 = fail\n",
    "\n",
    "**_Since we got a value of 0.8596, our model seems to be doing good on the test dataset._**"
   ]
  },
  {
   "cell_type": "markdown",
   "metadata": {},
   "source": [
    "- ### Subtask 5.2: Evaluation"
   ]
  },
  {
   "cell_type": "markdown",
   "metadata": {},
   "source": [
    "#### Max Lead"
   ]
  },
  {
   "cell_type": "code",
   "execution_count": 138,
   "metadata": {},
   "outputs": [
    {
     "data": {
      "text/plain": [
       "array([[875, 435],\n",
       "       [120, 918]], dtype=int64)"
      ]
     },
     "execution_count": 138,
     "metadata": {},
     "output_type": "execute_result"
    }
   ],
   "source": [
    "con = metrics.confusion_matrix(test['Converted'], test['Max Lead'])\n",
    "con"
   ]
  },
  {
   "cell_type": "code",
   "execution_count": 139,
   "metadata": {},
   "outputs": [
    {
     "name": "stdout",
     "output_type": "stream",
     "text": [
      "0.7636286201022147\n"
     ]
    }
   ],
   "source": [
    "print(metrics.accuracy_score(test['Converted'], test['Max Lead']))"
   ]
  },
  {
   "cell_type": "code",
   "execution_count": 140,
   "metadata": {},
   "outputs": [
    {
     "data": {
      "text/plain": [
       "0.884393063583815"
      ]
     },
     "execution_count": 140,
     "metadata": {},
     "output_type": "execute_result"
    }
   ],
   "source": [
    "sensitivity = con[1,1]/(con[1,1]+con[1,0])\n",
    "sensitivity"
   ]
  },
  {
   "cell_type": "code",
   "execution_count": 141,
   "metadata": {},
   "outputs": [
    {
     "data": {
      "text/plain": [
       "0.6679389312977099"
      ]
     },
     "execution_count": 141,
     "metadata": {},
     "output_type": "execute_result"
    }
   ],
   "source": [
    "Specificity = con[0,0]/ (con[0,0]+con[0,1])\n",
    "Specificity"
   ]
  },
  {
   "cell_type": "code",
   "execution_count": 142,
   "metadata": {},
   "outputs": [
    {
     "data": {
      "text/html": [
       "<div>\n",
       "<style scoped>\n",
       "    .dataframe tbody tr th:only-of-type {\n",
       "        vertical-align: middle;\n",
       "    }\n",
       "\n",
       "    .dataframe tbody tr th {\n",
       "        vertical-align: top;\n",
       "    }\n",
       "\n",
       "    .dataframe thead th {\n",
       "        text-align: right;\n",
       "    }\n",
       "</style>\n",
       "<table border=\"1\" class=\"dataframe\">\n",
       "  <thead>\n",
       "    <tr style=\"text-align: right;\">\n",
       "      <th></th>\n",
       "      <th>Probability</th>\n",
       "      <th>Accuracy</th>\n",
       "      <th>Sensitivity</th>\n",
       "      <th>FPR</th>\n",
       "      <th>Specificity</th>\n",
       "      <th>FNR</th>\n",
       "    </tr>\n",
       "  </thead>\n",
       "  <tbody>\n",
       "    <tr>\n",
       "      <td>0.30</td>\n",
       "      <td>0.30</td>\n",
       "      <td>0.77</td>\n",
       "      <td>0.89</td>\n",
       "      <td>0.32</td>\n",
       "      <td>0.68</td>\n",
       "      <td>0.11</td>\n",
       "    </tr>\n",
       "  </tbody>\n",
       "</table>\n",
       "</div>"
      ],
      "text/plain": [
       "      Probability  Accuracy  Sensitivity  FPR  Specificity  FNR\n",
       "0.30         0.30      0.77         0.89 0.32         0.68 0.11"
      ]
     },
     "execution_count": 142,
     "metadata": {},
     "output_type": "execute_result"
    }
   ],
   "source": [
    "limits.loc[limits['Probability'] == 0.3]"
   ]
  },
  {
   "cell_type": "markdown",
   "metadata": {},
   "source": [
    "#### Hot Lead"
   ]
  },
  {
   "cell_type": "code",
   "execution_count": 143,
   "metadata": {},
   "outputs": [
    {
     "data": {
      "text/plain": [
       "array([[1118,  192],\n",
       "       [ 343,  695]], dtype=int64)"
      ]
     },
     "execution_count": 143,
     "metadata": {},
     "output_type": "execute_result"
    }
   ],
   "source": [
    "con = metrics.confusion_matrix(test['Converted'], test['Hot Lead'])\n",
    "con"
   ]
  },
  {
   "cell_type": "code",
   "execution_count": 144,
   "metadata": {},
   "outputs": [
    {
     "name": "stdout",
     "output_type": "stream",
     "text": [
      "0.7721465076660988\n"
     ]
    }
   ],
   "source": [
    "print(metrics.accuracy_score(test['Converted'], test['Hot Lead']))"
   ]
  },
  {
   "cell_type": "code",
   "execution_count": 145,
   "metadata": {},
   "outputs": [
    {
     "data": {
      "text/plain": [
       "0.6695568400770713"
      ]
     },
     "execution_count": 145,
     "metadata": {},
     "output_type": "execute_result"
    }
   ],
   "source": [
    "sensitivity = con[1,1]/(con[1,1]+con[1,0])\n",
    "sensitivity"
   ]
  },
  {
   "cell_type": "code",
   "execution_count": 146,
   "metadata": {},
   "outputs": [
    {
     "data": {
      "text/plain": [
       "0.8534351145038168"
      ]
     },
     "execution_count": 146,
     "metadata": {},
     "output_type": "execute_result"
    }
   ],
   "source": [
    "Specificity = con[0,0]/ (con[0,0]+con[0,1])\n",
    "Specificity"
   ]
  },
  {
   "cell_type": "code",
   "execution_count": 147,
   "metadata": {},
   "outputs": [
    {
     "data": {
      "text/html": [
       "<div>\n",
       "<style scoped>\n",
       "    .dataframe tbody tr th:only-of-type {\n",
       "        vertical-align: middle;\n",
       "    }\n",
       "\n",
       "    .dataframe tbody tr th {\n",
       "        vertical-align: top;\n",
       "    }\n",
       "\n",
       "    .dataframe thead th {\n",
       "        text-align: right;\n",
       "    }\n",
       "</style>\n",
       "<table border=\"1\" class=\"dataframe\">\n",
       "  <thead>\n",
       "    <tr style=\"text-align: right;\">\n",
       "      <th></th>\n",
       "      <th>Probability</th>\n",
       "      <th>Accuracy</th>\n",
       "      <th>Sensitivity</th>\n",
       "      <th>FPR</th>\n",
       "      <th>Specificity</th>\n",
       "      <th>FNR</th>\n",
       "    </tr>\n",
       "  </thead>\n",
       "  <tbody>\n",
       "    <tr>\n",
       "      <td>0.50</td>\n",
       "      <td>0.50</td>\n",
       "      <td>0.79</td>\n",
       "      <td>0.68</td>\n",
       "      <td>0.13</td>\n",
       "      <td>0.87</td>\n",
       "      <td>0.32</td>\n",
       "    </tr>\n",
       "  </tbody>\n",
       "</table>\n",
       "</div>"
      ],
      "text/plain": [
       "      Probability  Accuracy  Sensitivity  FPR  Specificity  FNR\n",
       "0.50         0.50      0.79         0.68 0.13         0.87 0.32"
      ]
     },
     "execution_count": 147,
     "metadata": {},
     "output_type": "execute_result"
    }
   ],
   "source": [
    "limits.loc[limits['Probability'] == 0.5]"
   ]
  },
  {
   "cell_type": "markdown",
   "metadata": {},
   "source": [
    "##### Explanation\n",
    "The model is also performing well on the Test data. This ensures stability of the model."
   ]
  },
  {
   "cell_type": "markdown",
   "metadata": {},
   "source": [
    "### Calculating Lead Score.\n",
    "\n",
    "### Lead Score = 100 * Conversion Probability"
   ]
  },
  {
   "cell_type": "markdown",
   "metadata": {},
   "source": [
    "**_This needs to be calculated for all the leads from the original dataset (train + test)._**"
   ]
  },
  {
   "cell_type": "code",
   "execution_count": 106,
   "metadata": {},
   "outputs": [
    {
     "data": {
      "text/html": [
       "<div>\n",
       "<style scoped>\n",
       "    .dataframe tbody tr th:only-of-type {\n",
       "        vertical-align: middle;\n",
       "    }\n",
       "\n",
       "    .dataframe tbody tr th {\n",
       "        vertical-align: top;\n",
       "    }\n",
       "\n",
       "    .dataframe thead th {\n",
       "        text-align: right;\n",
       "    }\n",
       "</style>\n",
       "<table border=\"1\" class=\"dataframe\">\n",
       "  <thead>\n",
       "    <tr style=\"text-align: right;\">\n",
       "      <th></th>\n",
       "      <th>Prospect ID</th>\n",
       "      <th>Converted</th>\n",
       "      <th>Score</th>\n",
       "      <th>Max Lead</th>\n",
       "      <th>Hot Lead</th>\n",
       "    </tr>\n",
       "  </thead>\n",
       "  <tbody>\n",
       "    <tr>\n",
       "      <td>0</td>\n",
       "      <td>3e3dad74-fbb0-4b98-8a0d-a391383cd599</td>\n",
       "      <td>0</td>\n",
       "      <td>0.407719</td>\n",
       "      <td>1</td>\n",
       "      <td>0</td>\n",
       "    </tr>\n",
       "    <tr>\n",
       "      <td>1</td>\n",
       "      <td>b967b0c5-e38d-4d25-9f68-ccea5a003ad1</td>\n",
       "      <td>0</td>\n",
       "      <td>0.146632</td>\n",
       "      <td>0</td>\n",
       "      <td>0</td>\n",
       "    </tr>\n",
       "    <tr>\n",
       "      <td>2</td>\n",
       "      <td>82c002cd-71fb-45c0-b256-94b9488ad8bd</td>\n",
       "      <td>1</td>\n",
       "      <td>0.540112</td>\n",
       "      <td>1</td>\n",
       "      <td>1</td>\n",
       "    </tr>\n",
       "    <tr>\n",
       "      <td>3</td>\n",
       "      <td>7f3cc8e2-2220-4cb0-8341-e0d9101f7465</td>\n",
       "      <td>0</td>\n",
       "      <td>0.043211</td>\n",
       "      <td>0</td>\n",
       "      <td>0</td>\n",
       "    </tr>\n",
       "    <tr>\n",
       "      <td>4</td>\n",
       "      <td>267dbbf0-4cb3-4322-8f38-6520ed556883</td>\n",
       "      <td>1</td>\n",
       "      <td>0.390324</td>\n",
       "      <td>1</td>\n",
       "      <td>0</td>\n",
       "    </tr>\n",
       "  </tbody>\n",
       "</table>\n",
       "</div>"
      ],
      "text/plain": [
       "                            Prospect ID  Converted     Score  Max Lead  \\\n",
       "0  3e3dad74-fbb0-4b98-8a0d-a391383cd599          0  0.407719         1   \n",
       "1  b967b0c5-e38d-4d25-9f68-ccea5a003ad1          0  0.146632         0   \n",
       "2  82c002cd-71fb-45c0-b256-94b9488ad8bd          1  0.540112         1   \n",
       "3  7f3cc8e2-2220-4cb0-8341-e0d9101f7465          0  0.043211         0   \n",
       "4  267dbbf0-4cb3-4322-8f38-6520ed556883          1  0.390324         1   \n",
       "\n",
       "   Hot Lead  \n",
       "0         0  \n",
       "1         0  \n",
       "2         1  \n",
       "3         0  \n",
       "4         0  "
      ]
     },
     "execution_count": 106,
     "metadata": {},
     "output_type": "execute_result"
    }
   ],
   "source": [
    "# Selecting the test dataset along with the Conversion Probability and final predicted value for 'Converted'\n",
    "leads_test_pred = test.copy()\n",
    "leads_test_pred.head()"
   ]
  },
  {
   "cell_type": "code",
   "execution_count": 108,
   "metadata": {},
   "outputs": [
    {
     "data": {
      "text/html": [
       "<div>\n",
       "<style scoped>\n",
       "    .dataframe tbody tr th:only-of-type {\n",
       "        vertical-align: middle;\n",
       "    }\n",
       "\n",
       "    .dataframe tbody tr th {\n",
       "        vertical-align: top;\n",
       "    }\n",
       "\n",
       "    .dataframe thead th {\n",
       "        text-align: right;\n",
       "    }\n",
       "</style>\n",
       "<table border=\"1\" class=\"dataframe\">\n",
       "  <thead>\n",
       "    <tr style=\"text-align: right;\">\n",
       "      <th></th>\n",
       "      <th>Prospect ID</th>\n",
       "      <th>Converted</th>\n",
       "      <th>Score</th>\n",
       "      <th>Max Leads</th>\n",
       "      <th>Hot Leads</th>\n",
       "    </tr>\n",
       "  </thead>\n",
       "  <tbody>\n",
       "    <tr>\n",
       "      <td>0</td>\n",
       "      <td>b20e6cce-378d-42cf-8575-8278f26616e2</td>\n",
       "      <td>0</td>\n",
       "      <td>0.126992</td>\n",
       "      <td>0</td>\n",
       "      <td>0</td>\n",
       "    </tr>\n",
       "    <tr>\n",
       "      <td>1</td>\n",
       "      <td>e89bab68-d8cf-4844-82bf-66dd87ce03f1</td>\n",
       "      <td>0</td>\n",
       "      <td>0.207414</td>\n",
       "      <td>0</td>\n",
       "      <td>0</td>\n",
       "    </tr>\n",
       "    <tr>\n",
       "      <td>2</td>\n",
       "      <td>0201d731-7b43-477b-8d0f-4e018615c548</td>\n",
       "      <td>1</td>\n",
       "      <td>1.002673</td>\n",
       "      <td>1</td>\n",
       "      <td>1</td>\n",
       "    </tr>\n",
       "    <tr>\n",
       "      <td>3</td>\n",
       "      <td>8e00d156-a96e-4861-aa15-ed6b248e8235</td>\n",
       "      <td>1</td>\n",
       "      <td>0.935232</td>\n",
       "      <td>1</td>\n",
       "      <td>1</td>\n",
       "    </tr>\n",
       "    <tr>\n",
       "      <td>4</td>\n",
       "      <td>33074f07-98eb-4193-9c75-fe317a088f8e</td>\n",
       "      <td>0</td>\n",
       "      <td>0.682363</td>\n",
       "      <td>1</td>\n",
       "      <td>1</td>\n",
       "    </tr>\n",
       "  </tbody>\n",
       "</table>\n",
       "</div>"
      ],
      "text/plain": [
       "                            Prospect ID  Converted     Score  Max Leads  \\\n",
       "0  b20e6cce-378d-42cf-8575-8278f26616e2          0  0.126992          0   \n",
       "1  e89bab68-d8cf-4844-82bf-66dd87ce03f1          0  0.207414          0   \n",
       "2  0201d731-7b43-477b-8d0f-4e018615c548          1  1.002673          1   \n",
       "3  8e00d156-a96e-4861-aa15-ed6b248e8235          1  0.935232          1   \n",
       "4  33074f07-98eb-4193-9c75-fe317a088f8e          0  0.682363          1   \n",
       "\n",
       "   Hot Leads  \n",
       "0          0  \n",
       "1          0  \n",
       "2          1  \n",
       "3          1  \n",
       "4          1  "
      ]
     },
     "execution_count": 108,
     "metadata": {},
     "output_type": "execute_result"
    }
   ],
   "source": [
    "# Selecting the train dataset along with the Conversion Probability and final predicted value for 'Converted'\n",
    "leads_train_pred = train.copy()\n",
    "leads_train_pred.head()"
   ]
  },
  {
   "cell_type": "code",
   "execution_count": 109,
   "metadata": {},
   "outputs": [
    {
     "data": {
      "text/html": [
       "<div>\n",
       "<style scoped>\n",
       "    .dataframe tbody tr th:only-of-type {\n",
       "        vertical-align: middle;\n",
       "    }\n",
       "\n",
       "    .dataframe tbody tr th {\n",
       "        vertical-align: top;\n",
       "    }\n",
       "\n",
       "    .dataframe thead th {\n",
       "        text-align: right;\n",
       "    }\n",
       "</style>\n",
       "<table border=\"1\" class=\"dataframe\">\n",
       "  <thead>\n",
       "    <tr style=\"text-align: right;\">\n",
       "      <th></th>\n",
       "      <th>Converted</th>\n",
       "      <th>Hot Lead</th>\n",
       "      <th>Hot Leads</th>\n",
       "      <th>Max Lead</th>\n",
       "      <th>Max Leads</th>\n",
       "      <th>Prospect ID</th>\n",
       "      <th>Score</th>\n",
       "    </tr>\n",
       "  </thead>\n",
       "  <tbody>\n",
       "    <tr>\n",
       "      <td>0</td>\n",
       "      <td>0</td>\n",
       "      <td>NaN</td>\n",
       "      <td>0.0</td>\n",
       "      <td>NaN</td>\n",
       "      <td>0.0</td>\n",
       "      <td>b20e6cce-378d-42cf-8575-8278f26616e2</td>\n",
       "      <td>0.126992</td>\n",
       "    </tr>\n",
       "    <tr>\n",
       "      <td>1</td>\n",
       "      <td>0</td>\n",
       "      <td>NaN</td>\n",
       "      <td>0.0</td>\n",
       "      <td>NaN</td>\n",
       "      <td>0.0</td>\n",
       "      <td>e89bab68-d8cf-4844-82bf-66dd87ce03f1</td>\n",
       "      <td>0.207414</td>\n",
       "    </tr>\n",
       "    <tr>\n",
       "      <td>2</td>\n",
       "      <td>1</td>\n",
       "      <td>NaN</td>\n",
       "      <td>1.0</td>\n",
       "      <td>NaN</td>\n",
       "      <td>1.0</td>\n",
       "      <td>0201d731-7b43-477b-8d0f-4e018615c548</td>\n",
       "      <td>1.002673</td>\n",
       "    </tr>\n",
       "    <tr>\n",
       "      <td>3</td>\n",
       "      <td>1</td>\n",
       "      <td>NaN</td>\n",
       "      <td>1.0</td>\n",
       "      <td>NaN</td>\n",
       "      <td>1.0</td>\n",
       "      <td>8e00d156-a96e-4861-aa15-ed6b248e8235</td>\n",
       "      <td>0.935232</td>\n",
       "    </tr>\n",
       "    <tr>\n",
       "      <td>4</td>\n",
       "      <td>0</td>\n",
       "      <td>NaN</td>\n",
       "      <td>1.0</td>\n",
       "      <td>NaN</td>\n",
       "      <td>1.0</td>\n",
       "      <td>33074f07-98eb-4193-9c75-fe317a088f8e</td>\n",
       "      <td>0.682363</td>\n",
       "    </tr>\n",
       "  </tbody>\n",
       "</table>\n",
       "</div>"
      ],
      "text/plain": [
       "   Converted  Hot Lead  Hot Leads  Max Lead  Max Leads  \\\n",
       "0          0       NaN        0.0       NaN        0.0   \n",
       "1          0       NaN        0.0       NaN        0.0   \n",
       "2          1       NaN        1.0       NaN        1.0   \n",
       "3          1       NaN        1.0       NaN        1.0   \n",
       "4          0       NaN        1.0       NaN        1.0   \n",
       "\n",
       "                            Prospect ID     Score  \n",
       "0  b20e6cce-378d-42cf-8575-8278f26616e2  0.126992  \n",
       "1  e89bab68-d8cf-4844-82bf-66dd87ce03f1  0.207414  \n",
       "2  0201d731-7b43-477b-8d0f-4e018615c548  1.002673  \n",
       "3  8e00d156-a96e-4861-aa15-ed6b248e8235  0.935232  \n",
       "4  33074f07-98eb-4193-9c75-fe317a088f8e  0.682363  "
      ]
     },
     "execution_count": 109,
     "metadata": {},
     "output_type": "execute_result"
    }
   ],
   "source": [
    "# Concatenating the 2 dataframes train and test along the rows with the append() function\n",
    "lead_full_pred = train.append(test)\n",
    "lead_full_pred.head()"
   ]
  },
  {
   "cell_type": "code",
   "execution_count": 110,
   "metadata": {},
   "outputs": [
    {
     "name": "stdout",
     "output_type": "stream",
     "text": [
      "(2348, 5)\n",
      "(5476, 5)\n",
      "(7824, 7)\n"
     ]
    }
   ],
   "source": [
    "# Inspecting the shape of all the data sets created for now.\n",
    "print(leads_test_pred.shape)\n",
    "print(leads_train_pred.shape)\n",
    "print(lead_full_pred.shape)"
   ]
  },
  {
   "cell_type": "code",
   "execution_count": 111,
   "metadata": {},
   "outputs": [
    {
     "data": {
      "text/html": [
       "<div>\n",
       "<style scoped>\n",
       "    .dataframe tbody tr th:only-of-type {\n",
       "        vertical-align: middle;\n",
       "    }\n",
       "\n",
       "    .dataframe tbody tr th {\n",
       "        vertical-align: top;\n",
       "    }\n",
       "\n",
       "    .dataframe thead th {\n",
       "        text-align: right;\n",
       "    }\n",
       "</style>\n",
       "<table border=\"1\" class=\"dataframe\">\n",
       "  <thead>\n",
       "    <tr style=\"text-align: right;\">\n",
       "      <th></th>\n",
       "      <th>Converted</th>\n",
       "      <th>Hot Lead</th>\n",
       "      <th>Hot Leads</th>\n",
       "      <th>Max Lead</th>\n",
       "      <th>Max Leads</th>\n",
       "      <th>Prospect ID</th>\n",
       "      <th>Score</th>\n",
       "      <th>Lead_Score</th>\n",
       "    </tr>\n",
       "  </thead>\n",
       "  <tbody>\n",
       "    <tr>\n",
       "      <td>0</td>\n",
       "      <td>0</td>\n",
       "      <td>NaN</td>\n",
       "      <td>0.0</td>\n",
       "      <td>NaN</td>\n",
       "      <td>0.0</td>\n",
       "      <td>b20e6cce-378d-42cf-8575-8278f26616e2</td>\n",
       "      <td>0.126992</td>\n",
       "      <td>13</td>\n",
       "    </tr>\n",
       "    <tr>\n",
       "      <td>1</td>\n",
       "      <td>0</td>\n",
       "      <td>NaN</td>\n",
       "      <td>0.0</td>\n",
       "      <td>NaN</td>\n",
       "      <td>0.0</td>\n",
       "      <td>e89bab68-d8cf-4844-82bf-66dd87ce03f1</td>\n",
       "      <td>0.207414</td>\n",
       "      <td>21</td>\n",
       "    </tr>\n",
       "    <tr>\n",
       "      <td>2</td>\n",
       "      <td>1</td>\n",
       "      <td>NaN</td>\n",
       "      <td>1.0</td>\n",
       "      <td>NaN</td>\n",
       "      <td>1.0</td>\n",
       "      <td>0201d731-7b43-477b-8d0f-4e018615c548</td>\n",
       "      <td>1.002673</td>\n",
       "      <td>100</td>\n",
       "    </tr>\n",
       "    <tr>\n",
       "      <td>3</td>\n",
       "      <td>1</td>\n",
       "      <td>NaN</td>\n",
       "      <td>1.0</td>\n",
       "      <td>NaN</td>\n",
       "      <td>1.0</td>\n",
       "      <td>8e00d156-a96e-4861-aa15-ed6b248e8235</td>\n",
       "      <td>0.935232</td>\n",
       "      <td>94</td>\n",
       "    </tr>\n",
       "    <tr>\n",
       "      <td>4</td>\n",
       "      <td>0</td>\n",
       "      <td>NaN</td>\n",
       "      <td>1.0</td>\n",
       "      <td>NaN</td>\n",
       "      <td>1.0</td>\n",
       "      <td>33074f07-98eb-4193-9c75-fe317a088f8e</td>\n",
       "      <td>0.682363</td>\n",
       "      <td>68</td>\n",
       "    </tr>\n",
       "  </tbody>\n",
       "</table>\n",
       "</div>"
      ],
      "text/plain": [
       "   Converted  Hot Lead  Hot Leads  Max Lead  Max Leads  \\\n",
       "0          0       NaN        0.0       NaN        0.0   \n",
       "1          0       NaN        0.0       NaN        0.0   \n",
       "2          1       NaN        1.0       NaN        1.0   \n",
       "3          1       NaN        1.0       NaN        1.0   \n",
       "4          0       NaN        1.0       NaN        1.0   \n",
       "\n",
       "                            Prospect ID     Score  Lead_Score  \n",
       "0  b20e6cce-378d-42cf-8575-8278f26616e2  0.126992          13  \n",
       "1  e89bab68-d8cf-4844-82bf-66dd87ce03f1  0.207414          21  \n",
       "2  0201d731-7b43-477b-8d0f-4e018615c548  1.002673         100  \n",
       "3  8e00d156-a96e-4861-aa15-ed6b248e8235  0.935232          94  \n",
       "4  33074f07-98eb-4193-9c75-fe317a088f8e  0.682363          68  "
      ]
     },
     "execution_count": 111,
     "metadata": {},
     "output_type": "execute_result"
    }
   ],
   "source": [
    "# Calculating the Lead Score value\n",
    "# Lead Score = 100 * Converted_Prob\n",
    "lead_full_pred['Lead_Score'] = lead_full_pred['Score'].apply(lambda x : round(x*100))\n",
    "lead_full_pred.head()"
   ]
  },
  {
   "cell_type": "markdown",
   "metadata": {},
   "source": [
    "**_Depending on the scores calculated the institute can predict whether which leads are more likely to be converted to hot leads and which are not as they are scored between 0 and 100._**"
   ]
  },
  {
   "cell_type": "markdown",
   "metadata": {},
   "source": [
    "## Determining Feature Importance."
   ]
  },
  {
   "cell_type": "code",
   "execution_count": 150,
   "metadata": {},
   "outputs": [
    {
     "data": {
      "text/plain": [
       "Do Not Email                          -0.17\n",
       "Total Time Spent on Website            0.75\n",
       "Page Views Per Visit                  -0.13\n",
       "Working                                0.31\n",
       "Lead Origin_Landing Page Submission   -0.14\n",
       "Lead Origin_Lead Add Form              0.45\n",
       "Specialisation_Others                 -0.05\n",
       "Activity_Other                         0.10\n",
       "Activity_Phone                         0.22\n",
       "Activity_Website                      -0.10\n",
       "dtype: float64"
      ]
     },
     "execution_count": 150,
     "metadata": {},
     "output_type": "execute_result"
    }
   ],
   "source": [
    "#Selecting the coefficients of the selected features from our final model excluding the intercept\n",
    "pd.options.display.float_format = '{:.2f}'.format\n",
    "new_params = log_model_4.params[1:]\n",
    "new_params"
   ]
  },
  {
   "cell_type": "code",
   "execution_count": 151,
   "metadata": {
    "scrolled": true
   },
   "outputs": [
    {
     "data": {
      "text/plain": [
       "Do Not Email                          -23.04\n",
       "Total Time Spent on Website           100.00\n",
       "Page Views Per Visit                  -16.93\n",
       "Working                                40.97\n",
       "Lead Origin_Landing Page Submission   -18.49\n",
       "Lead Origin_Lead Add Form              59.85\n",
       "Specialisation_Others                  -6.33\n",
       "Activity_Other                         14.04\n",
       "Activity_Phone                         29.09\n",
       "Activity_Website                      -13.57\n",
       "dtype: float64"
      ]
     },
     "execution_count": 151,
     "metadata": {},
     "output_type": "execute_result"
    }
   ],
   "source": [
    "#Getting a relative coeffient value for all the features along with the feature with the highest coefficient\n",
    "feature_importance = new_params\n",
    "feature_importance = 100 * (feature_importance / feature_importance.max())\n",
    "feature_importance"
   ]
  },
  {
   "cell_type": "code",
   "execution_count": 152,
   "metadata": {},
   "outputs": [
    {
     "data": {
      "text/plain": [
       "Do Not Email                           0\n",
       "Total Time Spent on Website            4\n",
       "Page Views Per Visit                   2\n",
       "Working                                9\n",
       "Lead Origin_Landing Page Submission    6\n",
       "Lead Origin_Lead Add Form              7\n",
       "Specialisation_Others                  8\n",
       "Activity_Other                         3\n",
       "Activity_Phone                         5\n",
       "Activity_Website                       1\n",
       "dtype: int64"
      ]
     },
     "execution_count": 152,
     "metadata": {},
     "output_type": "execute_result"
    }
   ],
   "source": [
    "sorted_idx = np.argsort(feature_importance,kind='quicksort',order='list of str')\n",
    "sorted_idx"
   ]
  },
  {
   "cell_type": "code",
   "execution_count": 160,
   "metadata": {
    "scrolled": true
   },
   "outputs": [
    {
     "data": {
      "text/plain": [
       "<Figure size 864x576 with 0 Axes>"
      ]
     },
     "metadata": {},
     "output_type": "display_data"
    },
    {
     "data": {
      "image/png": "[encoded data removed]",
      "text/plain": [
       "<Figure size 720x432 with 1 Axes>"
      ]
     },
     "metadata": {
      "needs_background": "light"
     },
     "output_type": "display_data"
    }
   ],
   "source": [
    "#Plot showing the feature variables based on their relative coefficient values\n",
    "\n",
    "%matplotlib inline\n",
    "fig = plt.figure(figsize = (12,8))\n",
    "pos = np.arange(sorted_idx.shape[0]) + .5\n",
    "\n",
    "featfig = plt.figure(figsize=(10,6))\n",
    "featax = featfig.add_subplot(1, 1, 1)\n",
    "featax.barh(pos, feature_importance[sorted_idx], align='center', color = 'tab:red',alpha=0.8)\n",
    "featax.set_yticks(pos)\n",
    "featax.set_yticklabels(np.array(X_4.columns)[sorted_idx], fontsize=12)\n",
    "featax.set_xlabel('Relative Feature Importance', fontsize=14)\n",
    " \n",
    "plt.show()"
   ]
  },
  {
   "cell_type": "markdown",
   "metadata": {},
   "source": [
    "## Conclusion:\n",
    "- All variables have p-value less than 0.05.\n",
    "- All the features have very low VIF values, meaning, there is hardly any muliticollinearity among the features. This is also evident from the heat map as well.\n",
    "- The overall accuracy of with train data set is 0.80 and test dataset is 0.77 at a probability threshold of 0.3 which is acceptable."
   ]
  },
  {
   "cell_type": "markdown",
   "metadata": {},
   "source": [
    "**_The top 3 features which contirbute the most in converting the leads are as follows:_**\n",
    "\n",
    "1. Total Time Spent on Website.\n",
    "2. Lead Origin_Lead Add Form.\n",
    "3. Working."
   ]
  },
  {
   "cell_type": "markdown",
   "metadata": {},
   "source": [
    "**_The conversion probability increases with the increase in the values of the following features:_**\n",
    "\n",
    "1. Total Time Spent on Website.\n",
    "2. Lead Origin_Lead Add Form.\n",
    "3. Working.\n",
    "4. Activity_Phone.\n",
    "5. Activity_Other."
   ]
  },
  {
   "cell_type": "markdown",
   "metadata": {},
   "source": [
    "**_The conversion probability of a lead increased with the decrease in values of the following features:_**\n",
    "\n",
    "1. Specialization others.\n",
    "2. Activity_Website.\n",
    "3. Page Views per Visit.\n",
    "4. Lead Origin_Landing Page Submission.\n",
    "5. Do not email."
   ]
  },
  {
   "cell_type": "markdown",
   "metadata": {},
   "source": [
    "**_Another point to note here is that, depending on the business requirement, we can increase or decrease the probability threshold value which will in turn will decrease or increase the lead conversion rate._**\n",
    "\n",
    "**_High Sensitivity will ensure that almost all leads who are likely to Convert are correctly predicted where as high Specificity will ensure that leads that are on the brink of converting are not converted._**"
   ]
  },
  {
   "cell_type": "code",
   "execution_count": null,
   "metadata": {},
   "outputs": [],
   "source": []
  }
 ],
 "metadata": {
  "kernelspec": {
   "display_name": "Python 3",
   "language": "python",
   "name": "python3"
  },
  "language_info": {
   "codemirror_mode": {
    "name": "ipython",
    "version": 3
   },
   "file_extension": ".py",
   "mimetype": "text/x-python",
   "name": "python",
   "nbconvert_exporter": "python",
   "pygments_lexer": "ipython3",
   "version": "3.7.4"
  }
 },
 "nbformat": 4,
 "nbformat_minor": 2
}
